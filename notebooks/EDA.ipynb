{
 "cells": [
  {
   "cell_type": "markdown",
   "metadata": {},
   "source": [
    "# Импорт необходимых модулей"
   ]
  },
  {
   "cell_type": "code",
   "execution_count": 1,
   "metadata": {
    "collapsed": true
   },
   "outputs": [],
   "source": [
    "import pandas as pd\n",
    "import numpy as np\n",
    "\n",
    "import matplotlib.pyplot as plt\n",
    "import seaborn as sns\n",
    "import math"
   ]
  },
  {
   "cell_type": "markdown",
   "metadata": {},
   "source": [
    "# На всякий случай..."
   ]
  },
  {
   "cell_type": "markdown",
   "metadata": {},
   "source": [
    "[ISBN](https://en.wikipedia.org/wiki/International_Standard_Book_Number)"
   ]
  },
  {
   "cell_type": "markdown",
   "metadata": {},
   "source": [
    "# Чтение данных"
   ]
  },
  {
   "cell_type": "code",
   "execution_count": 3,
   "metadata": {
    "collapsed": true
   },
   "outputs": [],
   "source": [
    "ratings = pd.read_csv('data/BX-Book-Ratings.csv', sep=';', header=0, error_bad_lines=False, encoding='Windows-1251')"
   ]
  },
  {
   "cell_type": "code",
   "execution_count": 4,
   "metadata": {
    "scrolled": false
   },
   "outputs": [
    {
     "name": "stderr",
     "output_type": "stream",
     "text": [
      "C:\\Users\\Efim_Golovin\\AppData\\Local\\Continuum\\anaconda3\\lib\\site-packages\\IPython\\core\\interactiveshell.py:2698: DtypeWarning: Columns (3) have mixed types. Specify dtype option on import or set low_memory=False.\n",
      "  interactivity=interactivity, compiler=compiler, result=result)\n"
     ]
    }
   ],
   "source": [
    "books = pd.read_csv('data/BX-Books.csv', sep=';', header=0, error_bad_lines=False, encoding='Windows-1251')"
   ]
  },
  {
   "cell_type": "code",
   "execution_count": 5,
   "metadata": {
    "collapsed": true,
    "scrolled": false
   },
   "outputs": [],
   "source": [
    "users = pd.read_csv('data/BX-Users.csv', sep=';', header=0, error_bad_lines=False, encoding='Windows-1251')"
   ]
  },
  {
   "cell_type": "markdown",
   "metadata": {},
   "source": [
    "# Знакомство"
   ]
  },
  {
   "cell_type": "markdown",
   "metadata": {},
   "source": [
    "Ок, загрузили, надо теперь поглядеть, что это вообще за данные."
   ]
  },
  {
   "cell_type": "code",
   "execution_count": 6,
   "metadata": {
    "scrolled": true
   },
   "outputs": [
    {
     "data": {
      "text/html": [
       "<div>\n",
       "<style scoped>\n",
       "    .dataframe tbody tr th:only-of-type {\n",
       "        vertical-align: middle;\n",
       "    }\n",
       "\n",
       "    .dataframe tbody tr th {\n",
       "        vertical-align: top;\n",
       "    }\n",
       "\n",
       "    .dataframe thead th {\n",
       "        text-align: right;\n",
       "    }\n",
       "</style>\n",
       "<table border=\"1\" class=\"dataframe\">\n",
       "  <thead>\n",
       "    <tr style=\"text-align: right;\">\n",
       "      <th></th>\n",
       "      <th>User-ID</th>\n",
       "      <th>ISBN</th>\n",
       "      <th>Book-Rating</th>\n",
       "    </tr>\n",
       "  </thead>\n",
       "  <tbody>\n",
       "    <tr>\n",
       "      <th>0</th>\n",
       "      <td>276725</td>\n",
       "      <td>034545104X</td>\n",
       "      <td>0</td>\n",
       "    </tr>\n",
       "    <tr>\n",
       "      <th>1</th>\n",
       "      <td>276726</td>\n",
       "      <td>0155061224</td>\n",
       "      <td>5</td>\n",
       "    </tr>\n",
       "    <tr>\n",
       "      <th>2</th>\n",
       "      <td>276727</td>\n",
       "      <td>0446520802</td>\n",
       "      <td>0</td>\n",
       "    </tr>\n",
       "    <tr>\n",
       "      <th>3</th>\n",
       "      <td>276729</td>\n",
       "      <td>052165615X</td>\n",
       "      <td>3</td>\n",
       "    </tr>\n",
       "    <tr>\n",
       "      <th>4</th>\n",
       "      <td>276729</td>\n",
       "      <td>0521795028</td>\n",
       "      <td>6</td>\n",
       "    </tr>\n",
       "  </tbody>\n",
       "</table>\n",
       "</div>"
      ],
      "text/plain": [
       "   User-ID        ISBN  Book-Rating\n",
       "0   276725  034545104X            0\n",
       "1   276726  0155061224            5\n",
       "2   276727  0446520802            0\n",
       "3   276729  052165615X            3\n",
       "4   276729  0521795028            6"
      ]
     },
     "execution_count": 6,
     "metadata": {},
     "output_type": "execute_result"
    }
   ],
   "source": [
    "ratings.head()"
   ]
  },
  {
   "cell_type": "code",
   "execution_count": 7,
   "metadata": {
    "scrolled": true
   },
   "outputs": [
    {
     "name": "stdout",
     "output_type": "stream",
     "text": [
      "<class 'pandas.core.frame.DataFrame'>\n",
      "RangeIndex: 1149780 entries, 0 to 1149779\n",
      "Data columns (total 3 columns):\n",
      "User-ID        1149780 non-null int64\n",
      "ISBN           1149780 non-null object\n",
      "Book-Rating    1149780 non-null int64\n",
      "dtypes: int64(2), object(1)\n",
      "memory usage: 26.3+ MB\n"
     ]
    }
   ],
   "source": [
    "ratings.info()"
   ]
  },
  {
   "cell_type": "code",
   "execution_count": 8,
   "metadata": {
    "scrolled": true
   },
   "outputs": [
    {
     "data": {
      "text/html": [
       "<div>\n",
       "<style scoped>\n",
       "    .dataframe tbody tr th:only-of-type {\n",
       "        vertical-align: middle;\n",
       "    }\n",
       "\n",
       "    .dataframe tbody tr th {\n",
       "        vertical-align: top;\n",
       "    }\n",
       "\n",
       "    .dataframe thead th {\n",
       "        text-align: right;\n",
       "    }\n",
       "</style>\n",
       "<table border=\"1\" class=\"dataframe\">\n",
       "  <thead>\n",
       "    <tr style=\"text-align: right;\">\n",
       "      <th></th>\n",
       "      <th>ISBN</th>\n",
       "      <th>Book-Title</th>\n",
       "      <th>Book-Author</th>\n",
       "      <th>Year-Of-Publication</th>\n",
       "      <th>Publisher</th>\n",
       "      <th>Image-URL-S</th>\n",
       "      <th>Image-URL-M</th>\n",
       "      <th>Image-URL-L</th>\n",
       "    </tr>\n",
       "  </thead>\n",
       "  <tbody>\n",
       "    <tr>\n",
       "      <th>0</th>\n",
       "      <td>0195153448</td>\n",
       "      <td>Classical Mythology</td>\n",
       "      <td>Mark P. O. Morford</td>\n",
       "      <td>2002</td>\n",
       "      <td>Oxford University Press</td>\n",
       "      <td>http://images.amazon.com/images/P/0195153448.0...</td>\n",
       "      <td>http://images.amazon.com/images/P/0195153448.0...</td>\n",
       "      <td>http://images.amazon.com/images/P/0195153448.0...</td>\n",
       "    </tr>\n",
       "    <tr>\n",
       "      <th>1</th>\n",
       "      <td>0002005018</td>\n",
       "      <td>Clara Callan</td>\n",
       "      <td>Richard Bruce Wright</td>\n",
       "      <td>2001</td>\n",
       "      <td>HarperFlamingo Canada</td>\n",
       "      <td>http://images.amazon.com/images/P/0002005018.0...</td>\n",
       "      <td>http://images.amazon.com/images/P/0002005018.0...</td>\n",
       "      <td>http://images.amazon.com/images/P/0002005018.0...</td>\n",
       "    </tr>\n",
       "    <tr>\n",
       "      <th>2</th>\n",
       "      <td>0060973129</td>\n",
       "      <td>Decision in Normandy</td>\n",
       "      <td>Carlo D'Este</td>\n",
       "      <td>1991</td>\n",
       "      <td>HarperPerennial</td>\n",
       "      <td>http://images.amazon.com/images/P/0060973129.0...</td>\n",
       "      <td>http://images.amazon.com/images/P/0060973129.0...</td>\n",
       "      <td>http://images.amazon.com/images/P/0060973129.0...</td>\n",
       "    </tr>\n",
       "    <tr>\n",
       "      <th>3</th>\n",
       "      <td>0374157065</td>\n",
       "      <td>Flu: The Story of the Great Influenza Pandemic...</td>\n",
       "      <td>Gina Bari Kolata</td>\n",
       "      <td>1999</td>\n",
       "      <td>Farrar Straus Giroux</td>\n",
       "      <td>http://images.amazon.com/images/P/0374157065.0...</td>\n",
       "      <td>http://images.amazon.com/images/P/0374157065.0...</td>\n",
       "      <td>http://images.amazon.com/images/P/0374157065.0...</td>\n",
       "    </tr>\n",
       "    <tr>\n",
       "      <th>4</th>\n",
       "      <td>0393045218</td>\n",
       "      <td>The Mummies of Urumchi</td>\n",
       "      <td>E. J. W. Barber</td>\n",
       "      <td>1999</td>\n",
       "      <td>W. W. Norton  Company</td>\n",
       "      <td>http://images.amazon.com/images/P/0393045218.0...</td>\n",
       "      <td>http://images.amazon.com/images/P/0393045218.0...</td>\n",
       "      <td>http://images.amazon.com/images/P/0393045218.0...</td>\n",
       "    </tr>\n",
       "  </tbody>\n",
       "</table>\n",
       "</div>"
      ],
      "text/plain": [
       "         ISBN                                         Book-Title  \\\n",
       "0  0195153448                                Classical Mythology   \n",
       "1  0002005018                                       Clara Callan   \n",
       "2  0060973129                               Decision in Normandy   \n",
       "3  0374157065  Flu: The Story of the Great Influenza Pandemic...   \n",
       "4  0393045218                             The Mummies of Urumchi   \n",
       "\n",
       "            Book-Author Year-Of-Publication                Publisher  \\\n",
       "0    Mark P. O. Morford                2002  Oxford University Press   \n",
       "1  Richard Bruce Wright                2001    HarperFlamingo Canada   \n",
       "2          Carlo D'Este                1991          HarperPerennial   \n",
       "3      Gina Bari Kolata                1999     Farrar Straus Giroux   \n",
       "4       E. J. W. Barber                1999    W. W. Norton  Company   \n",
       "\n",
       "                                         Image-URL-S  \\\n",
       "0  http://images.amazon.com/images/P/0195153448.0...   \n",
       "1  http://images.amazon.com/images/P/0002005018.0...   \n",
       "2  http://images.amazon.com/images/P/0060973129.0...   \n",
       "3  http://images.amazon.com/images/P/0374157065.0...   \n",
       "4  http://images.amazon.com/images/P/0393045218.0...   \n",
       "\n",
       "                                         Image-URL-M  \\\n",
       "0  http://images.amazon.com/images/P/0195153448.0...   \n",
       "1  http://images.amazon.com/images/P/0002005018.0...   \n",
       "2  http://images.amazon.com/images/P/0060973129.0...   \n",
       "3  http://images.amazon.com/images/P/0374157065.0...   \n",
       "4  http://images.amazon.com/images/P/0393045218.0...   \n",
       "\n",
       "                                         Image-URL-L  \n",
       "0  http://images.amazon.com/images/P/0195153448.0...  \n",
       "1  http://images.amazon.com/images/P/0002005018.0...  \n",
       "2  http://images.amazon.com/images/P/0060973129.0...  \n",
       "3  http://images.amazon.com/images/P/0374157065.0...  \n",
       "4  http://images.amazon.com/images/P/0393045218.0...  "
      ]
     },
     "execution_count": 8,
     "metadata": {},
     "output_type": "execute_result"
    }
   ],
   "source": [
    "books.head()"
   ]
  },
  {
   "cell_type": "markdown",
   "metadata": {},
   "source": [
    "Последние три признака не являются информативными, поскольку представляют собой ссылки на картинки обложек книг разных размеров. Их можно удалить:"
   ]
  },
  {
   "cell_type": "code",
   "execution_count": 9,
   "metadata": {
    "collapsed": true
   },
   "outputs": [],
   "source": [
    "books = books[['ISBN', 'Book-Title', 'Book-Author', 'Year-Of-Publication', 'Publisher']]"
   ]
  },
  {
   "cell_type": "markdown",
   "metadata": {},
   "source": [
    "Гдянем теперь, нет ли каких-нибудь повторений среди этих книг:"
   ]
  },
  {
   "cell_type": "code",
   "execution_count": 10,
   "metadata": {},
   "outputs": [],
   "source": [
    "books_groupped = books.groupby('Book-Title').agg([np.array, len])"
   ]
  },
  {
   "cell_type": "code",
   "execution_count": 11,
   "metadata": {},
   "outputs": [
    {
     "data": {
      "text/html": [
       "<div>\n",
       "<style scoped>\n",
       "    .dataframe tbody tr th:only-of-type {\n",
       "        vertical-align: middle;\n",
       "    }\n",
       "\n",
       "    .dataframe tbody tr th {\n",
       "        vertical-align: top;\n",
       "    }\n",
       "\n",
       "    .dataframe thead tr th {\n",
       "        text-align: left;\n",
       "    }\n",
       "\n",
       "    .dataframe thead tr:last-of-type th {\n",
       "        text-align: right;\n",
       "    }\n",
       "</style>\n",
       "<table border=\"1\" class=\"dataframe\">\n",
       "  <thead>\n",
       "    <tr>\n",
       "      <th></th>\n",
       "      <th colspan=\"2\" halign=\"left\">ISBN</th>\n",
       "      <th colspan=\"2\" halign=\"left\">Book-Author</th>\n",
       "      <th colspan=\"2\" halign=\"left\">Year-Of-Publication</th>\n",
       "      <th colspan=\"2\" halign=\"left\">Publisher</th>\n",
       "    </tr>\n",
       "    <tr>\n",
       "      <th></th>\n",
       "      <th>array</th>\n",
       "      <th>len</th>\n",
       "      <th>array</th>\n",
       "      <th>len</th>\n",
       "      <th>array</th>\n",
       "      <th>len</th>\n",
       "      <th>array</th>\n",
       "      <th>len</th>\n",
       "    </tr>\n",
       "    <tr>\n",
       "      <th>Book-Title</th>\n",
       "      <th></th>\n",
       "      <th></th>\n",
       "      <th></th>\n",
       "      <th></th>\n",
       "      <th></th>\n",
       "      <th></th>\n",
       "      <th></th>\n",
       "      <th></th>\n",
       "    </tr>\n",
       "  </thead>\n",
       "  <tbody>\n",
       "    <tr>\n",
       "      <th>Selected Poems</th>\n",
       "      <td>[081120958X, 0811201465, 0679750800, 006093174...</td>\n",
       "      <td>27</td>\n",
       "      <td>[William Carlos Williams, K. Patchen, Rita Dov...</td>\n",
       "      <td>27</td>\n",
       "      <td>[1985, 1957, 1993, 1999, 1994, 1970, 1994, 196...</td>\n",
       "      <td>27</td>\n",
       "      <td>[New Directions Publishing Corporation, New Di...</td>\n",
       "      <td>27</td>\n",
       "    </tr>\n",
       "    <tr>\n",
       "      <th>Little Women</th>\n",
       "      <td>[185854176X, 0861782356, 0590203509, 044044768...</td>\n",
       "      <td>24</td>\n",
       "      <td>[Louisa M. Atcott, Louisa May Alcott, Louisa M...</td>\n",
       "      <td>24</td>\n",
       "      <td>[1995, 0, 1994, 1990, 0, 2004, 1983, 1992, 198...</td>\n",
       "      <td>24</td>\n",
       "      <td>[Brimax Books Ltd, Octopus Publising Group Plc...</td>\n",
       "      <td>24</td>\n",
       "    </tr>\n",
       "    <tr>\n",
       "      <th>Wuthering Heights</th>\n",
       "      <td>[0553212583, 0553211412, 0812505166, 055321021...</td>\n",
       "      <td>21</td>\n",
       "      <td>[EMILY BRONTE, Emily Bronte, Emily Bronte, Emi...</td>\n",
       "      <td>21</td>\n",
       "      <td>[1983, 1983, 1989, 1981, 2003, 1994, 1992, 199...</td>\n",
       "      <td>21</td>\n",
       "      <td>[Bantam, Bantam, Tor Classics, Bantam Books, S...</td>\n",
       "      <td>21</td>\n",
       "    </tr>\n",
       "    <tr>\n",
       "      <th>The Secret Garden</th>\n",
       "      <td>[0812505018, 0590433466, 006440188X, 059047172...</td>\n",
       "      <td>20</td>\n",
       "      <td>[Frances Hodgson Burnett, Frances H. Burnett, ...</td>\n",
       "      <td>20</td>\n",
       "      <td>[1989, 1997, 1998, 1993, 1989, 1987, 1987, 199...</td>\n",
       "      <td>20</td>\n",
       "      <td>[Tor Books, Scholastic, HarperTrophy, Scholast...</td>\n",
       "      <td>20</td>\n",
       "    </tr>\n",
       "    <tr>\n",
       "      <th>Dracula</th>\n",
       "      <td>[156619301X, 055321148X, 9875021245, 014005280...</td>\n",
       "      <td>20</td>\n",
       "      <td>[Bram Stoker, Bram Stoker, Bram Stoker, Bram S...</td>\n",
       "      <td>20</td>\n",
       "      <td>[1994, 1983, 2004, 1992, 1992, 1992, 2001, 199...</td>\n",
       "      <td>20</td>\n",
       "      <td>[Dorset Press, Bantam, Distal, Penguin USA, Ne...</td>\n",
       "      <td>20</td>\n",
       "    </tr>\n",
       "    <tr>\n",
       "      <th>Adventures of Huckleberry Finn</th>\n",
       "      <td>[0835902242, 059043389X, 0451519124, 045152373...</td>\n",
       "      <td>20</td>\n",
       "      <td>[Mark Twain, Mark Twain, Mark Twain, Mark Twai...</td>\n",
       "      <td>20</td>\n",
       "      <td>[1992, 1987, 1959, 1959, 1981, 2002, 1987, 197...</td>\n",
       "      <td>20</td>\n",
       "      <td>[Globe Fearon, Scholastic, Signet Book, New Am...</td>\n",
       "      <td>20</td>\n",
       "    </tr>\n",
       "    <tr>\n",
       "      <th>Jane Eyre</th>\n",
       "      <td>[0451518845, 0451523326, 1566193028, 156619024...</td>\n",
       "      <td>19</td>\n",
       "      <td>[Charlotte Bronte, Charlotte Bronte, Charlotte...</td>\n",
       "      <td>19</td>\n",
       "      <td>[1999, 1988, 1994, 0, 1997, 1981, 1976, 1999, ...</td>\n",
       "      <td>19</td>\n",
       "      <td>[New Amer Library Classics, Signet Classics, D...</td>\n",
       "      <td>19</td>\n",
       "    </tr>\n",
       "    <tr>\n",
       "      <th>The Night Before Christmas</th>\n",
       "      <td>[0505523183, 0837885043, 155858465X, 030710973...</td>\n",
       "      <td>18</td>\n",
       "      <td>[Victoria Alexander, Clement Clarke Moore, Cle...</td>\n",
       "      <td>18</td>\n",
       "      <td>[1998, 1994, 1995, 1950, 1995, 1984, 1992, 198...</td>\n",
       "      <td>18</td>\n",
       "      <td>[Love Spell, C.R. Gibson Company, North-South ...</td>\n",
       "      <td>18</td>\n",
       "    </tr>\n",
       "    <tr>\n",
       "      <th>Pride and Prejudice</th>\n",
       "      <td>[055321215X, 0553213105, 0451523652, 156619093...</td>\n",
       "      <td>18</td>\n",
       "      <td>[Jane Austen, Jane Austen, Jane Austen, Jane A...</td>\n",
       "      <td>18</td>\n",
       "      <td>[1983, 1981, 1988, 1993, 1996, 1961, 1997, 198...</td>\n",
       "      <td>18</td>\n",
       "      <td>[Bantam, Bantam, New Amer Library Classics, Ba...</td>\n",
       "      <td>18</td>\n",
       "    </tr>\n",
       "    <tr>\n",
       "      <th>Great Expectations</th>\n",
       "      <td>[0689839618, 0140434895, 0451525248, 014130932...</td>\n",
       "      <td>17</td>\n",
       "      <td>[Charles Dickens, Charles Dickens, Charles Dic...</td>\n",
       "      <td>17</td>\n",
       "      <td>[2000, 1998, 1986, 2000, 0, 1998, 1981, 1981, ...</td>\n",
       "      <td>17</td>\n",
       "      <td>[Aladdin, Penguin USA (Paper), Signet Classics...</td>\n",
       "      <td>17</td>\n",
       "    </tr>\n",
       "    <tr>\n",
       "      <th>Masquerade</th>\n",
       "      <td>[042516019X, 0316171476, 080523747X, 082172833...</td>\n",
       "      <td>16</td>\n",
       "      <td>[Gayle Lynds, Janet Dailey, Kit Williams, Lowe...</td>\n",
       "      <td>16</td>\n",
       "      <td>[1997, 1991, 1984, 1989, 1982, 1989, 1991, 200...</td>\n",
       "      <td>16</td>\n",
       "      <td>[Berkley Publishing Group, Little, Brown, Scho...</td>\n",
       "      <td>16</td>\n",
       "    </tr>\n",
       "    <tr>\n",
       "      <th>Black Beauty</th>\n",
       "      <td>[0440403553, 0590423541, 1588278603, 043922890...</td>\n",
       "      <td>16</td>\n",
       "      <td>[Anna Sewell, Anna Sewell, Anna Sewell, Anna S...</td>\n",
       "      <td>16</td>\n",
       "      <td>[1990, 1989, 2002, 2003, 1990, 1986, 2001, 198...</td>\n",
       "      <td>16</td>\n",
       "      <td>[Yearling Books, Scholastic, IndyPublish.com, ...</td>\n",
       "      <td>16</td>\n",
       "    </tr>\n",
       "    <tr>\n",
       "      <th>Frankenstein</th>\n",
       "      <td>[0451511328, 0451520092, 0517118807, 840207468...</td>\n",
       "      <td>16</td>\n",
       "      <td>[Mary Wollstonecraft Shelley, Mary Wollstonecr...</td>\n",
       "      <td>16</td>\n",
       "      <td>[1965, 1965, 1994, 1983, 1994, 1989, 0, 1999, ...</td>\n",
       "      <td>16</td>\n",
       "      <td>[Signet Book, Signet Book, Gramercy Books, Lec...</td>\n",
       "      <td>16</td>\n",
       "    </tr>\n",
       "    <tr>\n",
       "      <th>The Gift</th>\n",
       "      <td>[0440221315, 0440128757, 0671702505, 038531292...</td>\n",
       "      <td>15</td>\n",
       "      <td>[DANIELLE STEEL, Madeena S. Nolan, Julie Garwo...</td>\n",
       "      <td>15</td>\n",
       "      <td>[1996, 1981, 1991, 1994, 1994, 1990, 1993, 199...</td>\n",
       "      <td>15</td>\n",
       "      <td>[Dell, Dell Publishing, Pocket, Delacorte Pres...</td>\n",
       "      <td>15</td>\n",
       "    </tr>\n",
       "    <tr>\n",
       "      <th>Beloved</th>\n",
       "      <td>[0452280621, 0821747703, 0451161394, 844065695...</td>\n",
       "      <td>15</td>\n",
       "      <td>[Toni Morrison, Phoebe Conn, Toni Morrison, To...</td>\n",
       "      <td>15</td>\n",
       "      <td>[1998, 1994, 1991, 1995, 0, 1987, 1987, 1983, ...</td>\n",
       "      <td>15</td>\n",
       "      <td>[Plume Books, Zebra Books, New Amer Library, E...</td>\n",
       "      <td>15</td>\n",
       "    </tr>\n",
       "    <tr>\n",
       "      <th>Emma</th>\n",
       "      <td>[0451523067, 055321019X, 0553212737, 014025817...</td>\n",
       "      <td>15</td>\n",
       "      <td>[Jane Austen, Jane Austen, JANE AUSTEN, Jane A...</td>\n",
       "      <td>15</td>\n",
       "      <td>[1994, 1981, 1984, 0, 0, 0, 1997, 1976, 1984, ...</td>\n",
       "      <td>15</td>\n",
       "      <td>[New Amer Library Classics, Bantam Books, Bant...</td>\n",
       "      <td>15</td>\n",
       "    </tr>\n",
       "    <tr>\n",
       "      <th>Nemesis</th>\n",
       "      <td>[0451200187, 0553286285, 0006170056, 045140295...</td>\n",
       "      <td>14</td>\n",
       "      <td>[Agatha Christie, Isaac Asimov, Agatha Christi...</td>\n",
       "      <td>14</td>\n",
       "      <td>[2004, 1990, 0, 1991, 1989, 1989, 1999, 1971, ...</td>\n",
       "      <td>14</td>\n",
       "      <td>[Signet Book, Bantam, Harpercollins Publisher,...</td>\n",
       "      <td>14</td>\n",
       "    </tr>\n",
       "    <tr>\n",
       "      <th>Journey</th>\n",
       "      <td>[0449218473, 1592861512, 0440237025, 038531687...</td>\n",
       "      <td>13</td>\n",
       "      <td>[James A. Michener, Robert Amoroso, Danielle S...</td>\n",
       "      <td>13</td>\n",
       "      <td>[1994, 2003, 2001, 2000, 2000, 1975, 1990, 198...</td>\n",
       "      <td>13</td>\n",
       "      <td>[Fawcett Books, Publishamerica, Dell Publishin...</td>\n",
       "      <td>13</td>\n",
       "    </tr>\n",
       "    <tr>\n",
       "      <th>Robinson Crusoe</th>\n",
       "      <td>[0762414197, 0451516060, 0812504828, 045152236...</td>\n",
       "      <td>13</td>\n",
       "      <td>[Daniel Defoe, Daniel Defoe, Daniel De Foe, Da...</td>\n",
       "      <td>13</td>\n",
       "      <td>[2002, 1981, 1989, 1995, 1998, 0, 1995, 2001, ...</td>\n",
       "      <td>13</td>\n",
       "      <td>[Courage Books, Signet Book, Tor Books, Signet...</td>\n",
       "      <td>13</td>\n",
       "    </tr>\n",
       "    <tr>\n",
       "      <th>The Secret</th>\n",
       "      <td>[0671744216, 0821767984, 0451186044, 052594034...</td>\n",
       "      <td>13</td>\n",
       "      <td>[Julie Garwood, Kat Martin, Cynthia Victor, Cy...</td>\n",
       "      <td>13</td>\n",
       "      <td>[1992, 2001, 1998, 1997, 2000, 2001, 2004, 198...</td>\n",
       "      <td>13</td>\n",
       "      <td>[Pocket, Zebra Books, Onyx Books, Penguin USA,...</td>\n",
       "      <td>13</td>\n",
       "    </tr>\n",
       "    <tr>\n",
       "      <th>Fahrenheit 451</th>\n",
       "      <td>[3257208626, 0345342968, 0345410017, 840142282...</td>\n",
       "      <td>13</td>\n",
       "      <td>[Ray Bradbury, RAY BRADBURY, RAY BRADBURY, Ray...</td>\n",
       "      <td>13</td>\n",
       "      <td>[1994, 1987, 1996, 1993, 1994, 1979, 1993, 197...</td>\n",
       "      <td>13</td>\n",
       "      <td>[Distribooks Inc, Del Rey, Ballantine Books, P...</td>\n",
       "      <td>13</td>\n",
       "    </tr>\n",
       "    <tr>\n",
       "      <th>The Wedding</th>\n",
       "      <td>[0446532452, 0440236851, 0385471432, 055345555...</td>\n",
       "      <td>13</td>\n",
       "      <td>[Nicholas Sparks, Danielle Steel, Dorothy West...</td>\n",
       "      <td>13</td>\n",
       "      <td>[2003, 2001, 1995, 2000, 1996, 2000, 2004, 199...</td>\n",
       "      <td>13</td>\n",
       "      <td>[Warner Books, Dell Publishing Company, Double...</td>\n",
       "      <td>13</td>\n",
       "    </tr>\n",
       "    <tr>\n",
       "      <th>Psychology</th>\n",
       "      <td>[0060468696, 0716751291, 1572595906, 020508177...</td>\n",
       "      <td>13</td>\n",
       "      <td>[Carole Wade, Don H. Hockenbury, David G. Myer...</td>\n",
       "      <td>13</td>\n",
       "      <td>[1990, 2002, 1998, 1985, 1995, 1996, 2001, 199...</td>\n",
       "      <td>13</td>\n",
       "      <td>[Harper  Row, Worth Publishers Inc, W H Freema...</td>\n",
       "      <td>13</td>\n",
       "    </tr>\n",
       "    <tr>\n",
       "      <th>Illusions</th>\n",
       "      <td>[0440343194, 0821746170, 0099427869, 055321859...</td>\n",
       "      <td>13</td>\n",
       "      <td>[Richard Bach, Katherine Stone, Richard Bach, ...</td>\n",
       "      <td>13</td>\n",
       "      <td>[1981, 1994, 2001, 1987, 1997, 1994, 2000, 198...</td>\n",
       "      <td>13</td>\n",
       "      <td>[Bantam Doubleday Dell, Kensington Pub Corp (M...</td>\n",
       "      <td>13</td>\n",
       "    </tr>\n",
       "    <tr>\n",
       "      <th>Legacy</th>\n",
       "      <td>[0449216411, 0440147190, 0394572726, 039456432...</td>\n",
       "      <td>13</td>\n",
       "      <td>[James A. Michener, Howard Fast, James A. Mich...</td>\n",
       "      <td>13</td>\n",
       "      <td>[1990, 1982, 1988, 1990, 1979, 1987, 1995, 199...</td>\n",
       "      <td>13</td>\n",
       "      <td>[Fawcett Books, Dell Publishing Company, Rando...</td>\n",
       "      <td>13</td>\n",
       "    </tr>\n",
       "    <tr>\n",
       "      <th>Dinosaurs</th>\n",
       "      <td>[0307040399, 1855013150, 0860201260, 080696626...</td>\n",
       "      <td>12</td>\n",
       "      <td>[Big Color Bk, Michael Benton, Anne McCord, L....</td>\n",
       "      <td>12</td>\n",
       "      <td>[1993, 0, 1988, 1987, 1987, 1996, 1996, 1993, ...</td>\n",
       "      <td>12</td>\n",
       "      <td>[Golden Books, Tiger Books Intl, Educational D...</td>\n",
       "      <td>12</td>\n",
       "    </tr>\n",
       "    <tr>\n",
       "      <th>Hannibal</th>\n",
       "      <td>[0440224675, 038529929X, 3453177746, 043400940...</td>\n",
       "      <td>12</td>\n",
       "      <td>[Thomas Harris, Thomas Harris, Thomas Harris, ...</td>\n",
       "      <td>12</td>\n",
       "      <td>[2000, 1999, 2001, 0, 1999, 1999, 2000, 1999, ...</td>\n",
       "      <td>12</td>\n",
       "      <td>[Dell Publishing Company, Del Sol Press, Wilhe...</td>\n",
       "      <td>12</td>\n",
       "    </tr>\n",
       "    <tr>\n",
       "      <th>Dreamcatcher</th>\n",
       "      <td>[0743211383, 074343627X, 0743467523, 006108325...</td>\n",
       "      <td>12</td>\n",
       "      <td>[Stephen King, Stephen King, Stephen King, Din...</td>\n",
       "      <td>12</td>\n",
       "      <td>[2001, 2001, 2003, 1996, 0, 1992, 1995, 2001, ...</td>\n",
       "      <td>12</td>\n",
       "      <td>[Scribner, Pocket, Pocket, HarperTorch, Scribn...</td>\n",
       "      <td>12</td>\n",
       "    </tr>\n",
       "    <tr>\n",
       "      <th>The Wind in the Willows</th>\n",
       "      <td>[0312148267, 0805002138, 1587172046, 059044774...</td>\n",
       "      <td>12</td>\n",
       "      <td>[Kenneth Grahame, Kenneth Grahame, Kenneth Gra...</td>\n",
       "      <td>12</td>\n",
       "      <td>[1996, 1980, 2002, 1990, 1989, 1990, 1989, 200...</td>\n",
       "      <td>12</td>\n",
       "      <td>[St. Martin's Press, Henry Holt  Company, Seas...</td>\n",
       "      <td>12</td>\n",
       "    </tr>\n",
       "    <tr>\n",
       "      <th>Heidi</th>\n",
       "      <td>[0517618141, 0893754005, 0448110121, 156156455...</td>\n",
       "      <td>12</td>\n",
       "      <td>[Johanna Spyri, Johanna Spyri, Johanna Spyri, ...</td>\n",
       "      <td>12</td>\n",
       "      <td>[1987, 1993, 1981, 1998, 1978, 1999, 1990, 199...</td>\n",
       "      <td>12</td>\n",
       "      <td>[Random House Value Publishing, Troll Communic...</td>\n",
       "      <td>12</td>\n",
       "    </tr>\n",
       "    <tr>\n",
       "      <th>Best Friends</th>\n",
       "      <td>[0688177026, 1573229350, 0880886595, 157322188...</td>\n",
       "      <td>12</td>\n",
       "      <td>[Mqp Creative, Martha Moody, Kerren Barbas, Ma...</td>\n",
       "      <td>12</td>\n",
       "      <td>[2000, 2002, 1999, 2001, 1996, 1990, 1993, 198...</td>\n",
       "      <td>12</td>\n",
       "      <td>[HarperResource, Riverhead Books, Peter Pauper...</td>\n",
       "      <td>12</td>\n",
       "    </tr>\n",
       "    <tr>\n",
       "      <th>Sense and Sensibility</th>\n",
       "      <td>[0451187903, 0451525892, 0812543122, 014043425...</td>\n",
       "      <td>12</td>\n",
       "      <td>[Jane Austen, Jane Austen, Jane Austen, Jane A...</td>\n",
       "      <td>12</td>\n",
       "      <td>[1995, 1997, 1995, 1999, 1979, 1996, 0, 1982, ...</td>\n",
       "      <td>12</td>\n",
       "      <td>[Signet Book, Signet Classics, Tor Books, Peng...</td>\n",
       "      <td>12</td>\n",
       "    </tr>\n",
       "    <tr>\n",
       "      <th>The Hobbit</th>\n",
       "      <td>[0345272579, 0345318587, 1594130051, 026110328...</td>\n",
       "      <td>12</td>\n",
       "      <td>[J. R. R. Tolkien, J R R Tolkien, J. R. R. Tol...</td>\n",
       "      <td>12</td>\n",
       "      <td>[1977, 1981, 2003, 1995, 1938, 1988, 2001, 199...</td>\n",
       "      <td>12</td>\n",
       "      <td>[Ballantine Books, Ballantine Books, Large Pri...</td>\n",
       "      <td>12</td>\n",
       "    </tr>\n",
       "    <tr>\n",
       "      <th>The Promise</th>\n",
       "      <td>[0786000872, 0380790963, 0449209105, 044017079...</td>\n",
       "      <td>12</td>\n",
       "      <td>[Mandalyn Kaye, Donna Boyd, Chaim Potok, Danie...</td>\n",
       "      <td>12</td>\n",
       "      <td>[1995, 2000, 1985, 1978, 2001, 1993, 2002, 199...</td>\n",
       "      <td>12</td>\n",
       "      <td>[Pinnacle Books, HarperTorch, Fawcett, Dell, Y...</td>\n",
       "      <td>12</td>\n",
       "    </tr>\n",
       "    <tr>\n",
       "      <th>Carrie</th>\n",
       "      <td>[0451157443, 0671039725, 0451150716, 060981090...</td>\n",
       "      <td>12</td>\n",
       "      <td>[Stephen King, Stephen King, Stephen King, STE...</td>\n",
       "      <td>12</td>\n",
       "      <td>[1994, 2002, 1981, 2001, 1994, 1975, 1993, 198...</td>\n",
       "      <td>12</td>\n",
       "      <td>[Signet Book, Pocket, Signet Book, Plaza  Jane...</td>\n",
       "      <td>12</td>\n",
       "    </tr>\n",
       "    <tr>\n",
       "      <th>Phonics Fun: Reading Program, Pack 4 (Clifford the Big Red Dog)</th>\n",
       "      <td>[0439409292, 0439409314, 0439409322, 043940934...</td>\n",
       "      <td>12</td>\n",
       "      <td>[Francie Alexander, Francie Alexander, Francie...</td>\n",
       "      <td>12</td>\n",
       "      <td>[2003, 2003, 2003, 2003, 2003, 2003, 2003, 200...</td>\n",
       "      <td>12</td>\n",
       "      <td>[Scholastic, Scholastic, Scholastic, Scholasti...</td>\n",
       "      <td>12</td>\n",
       "    </tr>\n",
       "    <tr>\n",
       "      <th>Sacrifice</th>\n",
       "      <td>[0804109192, 0812521978, 0812509560, 045118475...</td>\n",
       "      <td>12</td>\n",
       "      <td>[Andrew H. Vachss, Graham Masterton, John Farr...</td>\n",
       "      <td>12</td>\n",
       "      <td>[1992, 1986, 1995, 1997, 1991, 2004, 2003, 199...</td>\n",
       "      <td>12</td>\n",
       "      <td>[Ivy Books, Tor Books, Tor Books (Mm), Onyx Bo...</td>\n",
       "      <td>12</td>\n",
       "    </tr>\n",
       "    <tr>\n",
       "      <th>Matilda</th>\n",
       "      <td>[014034294X, 0141301066, 0590996835, 061337189...</td>\n",
       "      <td>11</td>\n",
       "      <td>[Roald Dahl, Roald Dahl, Roald Dahl, Roald Dah...</td>\n",
       "      <td>11</td>\n",
       "      <td>[1990, 1998, 1996, 2001, 2002, 1990, 1920, 199...</td>\n",
       "      <td>11</td>\n",
       "      <td>[Puffin Books, Puffin Books, Scholastic Inc., ...</td>\n",
       "      <td>11</td>\n",
       "    </tr>\n",
       "    <tr>\n",
       "      <th>Ashes to Ashes</th>\n",
       "      <td>[0553579606, 0553106333, 0671582321, 074353294...</td>\n",
       "      <td>11</td>\n",
       "      <td>[TAMI HOAG, Tami Hoag, Tami Hoag, Tami Hoag, M...</td>\n",
       "      <td>11</td>\n",
       "      <td>[2000, 1999, 1999, 2003, 1992, 1988, 1996, 200...</td>\n",
       "      <td>11</td>\n",
       "      <td>[Bantam, Bantam, Audioworks, Encore, Diamond/C...</td>\n",
       "      <td>11</td>\n",
       "    </tr>\n",
       "    <tr>\n",
       "      <th>Secrets</th>\n",
       "      <td>[0440176484, 0140280456, 038077139X, 055323510...</td>\n",
       "      <td>11</td>\n",
       "      <td>[DANIELLE STEEL, Nuruddin Farah, Brenda Joyce,...</td>\n",
       "      <td>11</td>\n",
       "      <td>[1986, 1999, 1993, 1983, 1984, 1992, 1983, 198...</td>\n",
       "      <td>11</td>\n",
       "      <td>[Dell, Penguin Books, Avon, Bantam Books, Jove...</td>\n",
       "      <td>11</td>\n",
       "    </tr>\n",
       "    <tr>\n",
       "      <th>King Lear</th>\n",
       "      <td>[0671722727, 0671468464, 1903436591, 045152127...</td>\n",
       "      <td>11</td>\n",
       "      <td>[William Shakespeare, William Shakespeare, R.A...</td>\n",
       "      <td>11</td>\n",
       "      <td>[1993, 1999, 1997, 1987, 1999, 1981, 1995, 197...</td>\n",
       "      <td>11</td>\n",
       "      <td>[Washington Square Press, Pocket Books, Arden ...</td>\n",
       "      <td>11</td>\n",
       "    </tr>\n",
       "    <tr>\n",
       "      <th>When the Wind Blows</th>\n",
       "      <td>[0316693324, 0446607657, 0440198577, 078600658...</td>\n",
       "      <td>11</td>\n",
       "      <td>[James Patterson, James Patterson, John Saul, ...</td>\n",
       "      <td>11</td>\n",
       "      <td>[1998, 1999, 0, 1999, 1990, 2000, 1978, 1998, ...</td>\n",
       "      <td>11</td>\n",
       "      <td>[Replica Books, Warner Vision, Bantam Doubleda...</td>\n",
       "      <td>11</td>\n",
       "    </tr>\n",
       "    <tr>\n",
       "      <th>Peter Pan</th>\n",
       "      <td>[1570828016, 0831767995, 045303053X, 073641295...</td>\n",
       "      <td>11</td>\n",
       "      <td>[Mouse Works, Walt Disney, Walt Disney Company...</td>\n",
       "      <td>11</td>\n",
       "      <td>[1997, 1987, 1992, 2002, 1978, 2003, 2003, 0, ...</td>\n",
       "      <td>11</td>\n",
       "      <td>[Random House Childrens Pub, Smithmark+publish...</td>\n",
       "      <td>11</td>\n",
       "    </tr>\n",
       "    <tr>\n",
       "      <th>Cinderella</th>\n",
       "      <td>[030701035X, 0689814747, 0445406186, 089375098...</td>\n",
       "      <td>11</td>\n",
       "      <td>[Little Golden Books Staff, Marcia Brown, Ed M...</td>\n",
       "      <td>11</td>\n",
       "      <td>[1992, 1997, 1987, 1979, 1987, 1990, 1985, 199...</td>\n",
       "      <td>11</td>\n",
       "      <td>[Random House Childrens Books, Aladdin, Myster...</td>\n",
       "      <td>11</td>\n",
       "    </tr>\n",
       "    <tr>\n",
       "      <th>Mirage</th>\n",
       "      <td>[0446610402, 0446519766, 1861591845, 044660473...</td>\n",
       "      <td>11</td>\n",
       "      <td>[Don Passman, F. Paul Wilson, Bandula Chandrar...</td>\n",
       "      <td>11</td>\n",
       "      <td>[2001, 1996, 2000, 1997, 1997, 1988, 1988, 199...</td>\n",
       "      <td>11</td>\n",
       "      <td>[Warner Vision, Warner Books, Phoenix House, W...</td>\n",
       "      <td>11</td>\n",
       "    </tr>\n",
       "    <tr>\n",
       "      <th>Paradise</th>\n",
       "      <td>[0679433740, 0452280397, 0671776800, 081250716...</td>\n",
       "      <td>11</td>\n",
       "      <td>[Toni Morrison, Toni Morrison, Judith McNaught...</td>\n",
       "      <td>11</td>\n",
       "      <td>[1998, 1999, 1992, 1993, 2001, 1995, 1999, 200...</td>\n",
       "      <td>11</td>\n",
       "      <td>[Alfred A. Knopf, Plume Books, Pocket, Tor Boo...</td>\n",
       "      <td>11</td>\n",
       "    </tr>\n",
       "    <tr>\n",
       "      <th>Homecoming</th>\n",
       "      <td>[0449702545, 1568652895, 0449700895, 038531980...</td>\n",
       "      <td>11</td>\n",
       "      <td>[Cynthia Voigt, Janet Dailey, Cynthia Voigt, B...</td>\n",
       "      <td>11</td>\n",
       "      <td>[1990, 1997, 1983, 1997, 1998, 1997, 1983, 199...</td>\n",
       "      <td>11</td>\n",
       "      <td>[Fawcett Books, Doubleday Books, Fawcett Books...</td>\n",
       "      <td>11</td>\n",
       "    </tr>\n",
       "    <tr>\n",
       "      <th>The Edge</th>\n",
       "      <td>[0515128600, 0449217191, 0553574035, 051513113...</td>\n",
       "      <td>11</td>\n",
       "      <td>[Catherine Coulter, Dick Francis, Mark Olshake...</td>\n",
       "      <td>11</td>\n",
       "      <td>[2000, 1990, 1995, 2001, 1999, 1989, 2003, 199...</td>\n",
       "      <td>11</td>\n",
       "      <td>[Jove Books, Fawcett Books, Bantam Books, Jove...</td>\n",
       "      <td>11</td>\n",
       "    </tr>\n",
       "    <tr>\n",
       "      <th>The Two Towers (The Lord of the Rings, Part 2)</th>\n",
       "      <td>[0345339711, 0618002235, 0618260595, 039548933...</td>\n",
       "      <td>11</td>\n",
       "      <td>[J.R.R. TOLKIEN, J. R. R. Tolkien, J.R.R. Tolk...</td>\n",
       "      <td>11</td>\n",
       "      <td>[1986, 1999, 2002, 1988, 2001, 1988, 2002, 200...</td>\n",
       "      <td>11</td>\n",
       "      <td>[Del Rey, Houghton Mifflin Company, Houghton M...</td>\n",
       "      <td>11</td>\n",
       "    </tr>\n",
       "    <tr>\n",
       "      <th>Sisters</th>\n",
       "      <td>[156138450X, 0345347897, 0152046593, 055313467...</td>\n",
       "      <td>11</td>\n",
       "      <td>[Carol Saline, Pat Booth, David McPhail, Eliza...</td>\n",
       "      <td>11</td>\n",
       "      <td>[1994, 1989, 2003, 1980, 1991, 1998, 1997, 199...</td>\n",
       "      <td>11</td>\n",
       "      <td>[Running Press Book Publishers, Ballantine Boo...</td>\n",
       "      <td>11</td>\n",
       "    </tr>\n",
       "  </tbody>\n",
       "</table>\n",
       "</div>"
      ],
      "text/plain": [
       "                                                                                                 ISBN  \\\n",
       "                                                                                                array   \n",
       "Book-Title                                                                                              \n",
       "Selected Poems                                      [081120958X, 0811201465, 0679750800, 006093174...   \n",
       "Little Women                                        [185854176X, 0861782356, 0590203509, 044044768...   \n",
       "Wuthering Heights                                   [0553212583, 0553211412, 0812505166, 055321021...   \n",
       "The Secret Garden                                   [0812505018, 0590433466, 006440188X, 059047172...   \n",
       "Dracula                                             [156619301X, 055321148X, 9875021245, 014005280...   \n",
       "Adventures of Huckleberry Finn                      [0835902242, 059043389X, 0451519124, 045152373...   \n",
       "Jane Eyre                                           [0451518845, 0451523326, 1566193028, 156619024...   \n",
       "The Night Before Christmas                          [0505523183, 0837885043, 155858465X, 030710973...   \n",
       "Pride and Prejudice                                 [055321215X, 0553213105, 0451523652, 156619093...   \n",
       "Great Expectations                                  [0689839618, 0140434895, 0451525248, 014130932...   \n",
       "Masquerade                                          [042516019X, 0316171476, 080523747X, 082172833...   \n",
       "Black Beauty                                        [0440403553, 0590423541, 1588278603, 043922890...   \n",
       "Frankenstein                                        [0451511328, 0451520092, 0517118807, 840207468...   \n",
       "The Gift                                            [0440221315, 0440128757, 0671702505, 038531292...   \n",
       "Beloved                                             [0452280621, 0821747703, 0451161394, 844065695...   \n",
       "Emma                                                [0451523067, 055321019X, 0553212737, 014025817...   \n",
       "Nemesis                                             [0451200187, 0553286285, 0006170056, 045140295...   \n",
       "Journey                                             [0449218473, 1592861512, 0440237025, 038531687...   \n",
       "Robinson Crusoe                                     [0762414197, 0451516060, 0812504828, 045152236...   \n",
       "The Secret                                          [0671744216, 0821767984, 0451186044, 052594034...   \n",
       "Fahrenheit 451                                      [3257208626, 0345342968, 0345410017, 840142282...   \n",
       "The Wedding                                         [0446532452, 0440236851, 0385471432, 055345555...   \n",
       "Psychology                                          [0060468696, 0716751291, 1572595906, 020508177...   \n",
       "Illusions                                           [0440343194, 0821746170, 0099427869, 055321859...   \n",
       "Legacy                                              [0449216411, 0440147190, 0394572726, 039456432...   \n",
       "Dinosaurs                                           [0307040399, 1855013150, 0860201260, 080696626...   \n",
       "Hannibal                                            [0440224675, 038529929X, 3453177746, 043400940...   \n",
       "Dreamcatcher                                        [0743211383, 074343627X, 0743467523, 006108325...   \n",
       "The Wind in the Willows                             [0312148267, 0805002138, 1587172046, 059044774...   \n",
       "Heidi                                               [0517618141, 0893754005, 0448110121, 156156455...   \n",
       "Best Friends                                        [0688177026, 1573229350, 0880886595, 157322188...   \n",
       "Sense and Sensibility                               [0451187903, 0451525892, 0812543122, 014043425...   \n",
       "The Hobbit                                          [0345272579, 0345318587, 1594130051, 026110328...   \n",
       "The Promise                                         [0786000872, 0380790963, 0449209105, 044017079...   \n",
       "Carrie                                              [0451157443, 0671039725, 0451150716, 060981090...   \n",
       "Phonics Fun: Reading Program, Pack 4 (Clifford ...  [0439409292, 0439409314, 0439409322, 043940934...   \n",
       "Sacrifice                                           [0804109192, 0812521978, 0812509560, 045118475...   \n",
       "Matilda                                             [014034294X, 0141301066, 0590996835, 061337189...   \n",
       "Ashes to Ashes                                      [0553579606, 0553106333, 0671582321, 074353294...   \n",
       "Secrets                                             [0440176484, 0140280456, 038077139X, 055323510...   \n",
       "King Lear                                           [0671722727, 0671468464, 1903436591, 045152127...   \n",
       "When the Wind Blows                                 [0316693324, 0446607657, 0440198577, 078600658...   \n",
       "Peter Pan                                           [1570828016, 0831767995, 045303053X, 073641295...   \n",
       "Cinderella                                          [030701035X, 0689814747, 0445406186, 089375098...   \n",
       "Mirage                                              [0446610402, 0446519766, 1861591845, 044660473...   \n",
       "Paradise                                            [0679433740, 0452280397, 0671776800, 081250716...   \n",
       "Homecoming                                          [0449702545, 1568652895, 0449700895, 038531980...   \n",
       "The Edge                                            [0515128600, 0449217191, 0553574035, 051513113...   \n",
       "The Two Towers (The Lord of the Rings, Part 2)      [0345339711, 0618002235, 0618260595, 039548933...   \n",
       "Sisters                                             [156138450X, 0345347897, 0152046593, 055313467...   \n",
       "\n",
       "                                                        \\\n",
       "                                                   len   \n",
       "Book-Title                                               \n",
       "Selected Poems                                      27   \n",
       "Little Women                                        24   \n",
       "Wuthering Heights                                   21   \n",
       "The Secret Garden                                   20   \n",
       "Dracula                                             20   \n",
       "Adventures of Huckleberry Finn                      20   \n",
       "Jane Eyre                                           19   \n",
       "The Night Before Christmas                          18   \n",
       "Pride and Prejudice                                 18   \n",
       "Great Expectations                                  17   \n",
       "Masquerade                                          16   \n",
       "Black Beauty                                        16   \n",
       "Frankenstein                                        16   \n",
       "The Gift                                            15   \n",
       "Beloved                                             15   \n",
       "Emma                                                15   \n",
       "Nemesis                                             14   \n",
       "Journey                                             13   \n",
       "Robinson Crusoe                                     13   \n",
       "The Secret                                          13   \n",
       "Fahrenheit 451                                      13   \n",
       "The Wedding                                         13   \n",
       "Psychology                                          13   \n",
       "Illusions                                           13   \n",
       "Legacy                                              13   \n",
       "Dinosaurs                                           12   \n",
       "Hannibal                                            12   \n",
       "Dreamcatcher                                        12   \n",
       "The Wind in the Willows                             12   \n",
       "Heidi                                               12   \n",
       "Best Friends                                        12   \n",
       "Sense and Sensibility                               12   \n",
       "The Hobbit                                          12   \n",
       "The Promise                                         12   \n",
       "Carrie                                              12   \n",
       "Phonics Fun: Reading Program, Pack 4 (Clifford ...  12   \n",
       "Sacrifice                                           12   \n",
       "Matilda                                             11   \n",
       "Ashes to Ashes                                      11   \n",
       "Secrets                                             11   \n",
       "King Lear                                           11   \n",
       "When the Wind Blows                                 11   \n",
       "Peter Pan                                           11   \n",
       "Cinderella                                          11   \n",
       "Mirage                                              11   \n",
       "Paradise                                            11   \n",
       "Homecoming                                          11   \n",
       "The Edge                                            11   \n",
       "The Two Towers (The Lord of the Rings, Part 2)      11   \n",
       "Sisters                                             11   \n",
       "\n",
       "                                                                                          Book-Author  \\\n",
       "                                                                                                array   \n",
       "Book-Title                                                                                              \n",
       "Selected Poems                                      [William Carlos Williams, K. Patchen, Rita Dov...   \n",
       "Little Women                                        [Louisa M. Atcott, Louisa May Alcott, Louisa M...   \n",
       "Wuthering Heights                                   [EMILY BRONTE, Emily Bronte, Emily Bronte, Emi...   \n",
       "The Secret Garden                                   [Frances Hodgson Burnett, Frances H. Burnett, ...   \n",
       "Dracula                                             [Bram Stoker, Bram Stoker, Bram Stoker, Bram S...   \n",
       "Adventures of Huckleberry Finn                      [Mark Twain, Mark Twain, Mark Twain, Mark Twai...   \n",
       "Jane Eyre                                           [Charlotte Bronte, Charlotte Bronte, Charlotte...   \n",
       "The Night Before Christmas                          [Victoria Alexander, Clement Clarke Moore, Cle...   \n",
       "Pride and Prejudice                                 [Jane Austen, Jane Austen, Jane Austen, Jane A...   \n",
       "Great Expectations                                  [Charles Dickens, Charles Dickens, Charles Dic...   \n",
       "Masquerade                                          [Gayle Lynds, Janet Dailey, Kit Williams, Lowe...   \n",
       "Black Beauty                                        [Anna Sewell, Anna Sewell, Anna Sewell, Anna S...   \n",
       "Frankenstein                                        [Mary Wollstonecraft Shelley, Mary Wollstonecr...   \n",
       "The Gift                                            [DANIELLE STEEL, Madeena S. Nolan, Julie Garwo...   \n",
       "Beloved                                             [Toni Morrison, Phoebe Conn, Toni Morrison, To...   \n",
       "Emma                                                [Jane Austen, Jane Austen, JANE AUSTEN, Jane A...   \n",
       "Nemesis                                             [Agatha Christie, Isaac Asimov, Agatha Christi...   \n",
       "Journey                                             [James A. Michener, Robert Amoroso, Danielle S...   \n",
       "Robinson Crusoe                                     [Daniel Defoe, Daniel Defoe, Daniel De Foe, Da...   \n",
       "The Secret                                          [Julie Garwood, Kat Martin, Cynthia Victor, Cy...   \n",
       "Fahrenheit 451                                      [Ray Bradbury, RAY BRADBURY, RAY BRADBURY, Ray...   \n",
       "The Wedding                                         [Nicholas Sparks, Danielle Steel, Dorothy West...   \n",
       "Psychology                                          [Carole Wade, Don H. Hockenbury, David G. Myer...   \n",
       "Illusions                                           [Richard Bach, Katherine Stone, Richard Bach, ...   \n",
       "Legacy                                              [James A. Michener, Howard Fast, James A. Mich...   \n",
       "Dinosaurs                                           [Big Color Bk, Michael Benton, Anne McCord, L....   \n",
       "Hannibal                                            [Thomas Harris, Thomas Harris, Thomas Harris, ...   \n",
       "Dreamcatcher                                        [Stephen King, Stephen King, Stephen King, Din...   \n",
       "The Wind in the Willows                             [Kenneth Grahame, Kenneth Grahame, Kenneth Gra...   \n",
       "Heidi                                               [Johanna Spyri, Johanna Spyri, Johanna Spyri, ...   \n",
       "Best Friends                                        [Mqp Creative, Martha Moody, Kerren Barbas, Ma...   \n",
       "Sense and Sensibility                               [Jane Austen, Jane Austen, Jane Austen, Jane A...   \n",
       "The Hobbit                                          [J. R. R. Tolkien, J R R Tolkien, J. R. R. Tol...   \n",
       "The Promise                                         [Mandalyn Kaye, Donna Boyd, Chaim Potok, Danie...   \n",
       "Carrie                                              [Stephen King, Stephen King, Stephen King, STE...   \n",
       "Phonics Fun: Reading Program, Pack 4 (Clifford ...  [Francie Alexander, Francie Alexander, Francie...   \n",
       "Sacrifice                                           [Andrew H. Vachss, Graham Masterton, John Farr...   \n",
       "Matilda                                             [Roald Dahl, Roald Dahl, Roald Dahl, Roald Dah...   \n",
       "Ashes to Ashes                                      [TAMI HOAG, Tami Hoag, Tami Hoag, Tami Hoag, M...   \n",
       "Secrets                                             [DANIELLE STEEL, Nuruddin Farah, Brenda Joyce,...   \n",
       "King Lear                                           [William Shakespeare, William Shakespeare, R.A...   \n",
       "When the Wind Blows                                 [James Patterson, James Patterson, John Saul, ...   \n",
       "Peter Pan                                           [Mouse Works, Walt Disney, Walt Disney Company...   \n",
       "Cinderella                                          [Little Golden Books Staff, Marcia Brown, Ed M...   \n",
       "Mirage                                              [Don Passman, F. Paul Wilson, Bandula Chandrar...   \n",
       "Paradise                                            [Toni Morrison, Toni Morrison, Judith McNaught...   \n",
       "Homecoming                                          [Cynthia Voigt, Janet Dailey, Cynthia Voigt, B...   \n",
       "The Edge                                            [Catherine Coulter, Dick Francis, Mark Olshake...   \n",
       "The Two Towers (The Lord of the Rings, Part 2)      [J.R.R. TOLKIEN, J. R. R. Tolkien, J.R.R. Tolk...   \n",
       "Sisters                                             [Carol Saline, Pat Booth, David McPhail, Eliza...   \n",
       "\n",
       "                                                        \\\n",
       "                                                   len   \n",
       "Book-Title                                               \n",
       "Selected Poems                                      27   \n",
       "Little Women                                        24   \n",
       "Wuthering Heights                                   21   \n",
       "The Secret Garden                                   20   \n",
       "Dracula                                             20   \n",
       "Adventures of Huckleberry Finn                      20   \n",
       "Jane Eyre                                           19   \n",
       "The Night Before Christmas                          18   \n",
       "Pride and Prejudice                                 18   \n",
       "Great Expectations                                  17   \n",
       "Masquerade                                          16   \n",
       "Black Beauty                                        16   \n",
       "Frankenstein                                        16   \n",
       "The Gift                                            15   \n",
       "Beloved                                             15   \n",
       "Emma                                                15   \n",
       "Nemesis                                             14   \n",
       "Journey                                             13   \n",
       "Robinson Crusoe                                     13   \n",
       "The Secret                                          13   \n",
       "Fahrenheit 451                                      13   \n",
       "The Wedding                                         13   \n",
       "Psychology                                          13   \n",
       "Illusions                                           13   \n",
       "Legacy                                              13   \n",
       "Dinosaurs                                           12   \n",
       "Hannibal                                            12   \n",
       "Dreamcatcher                                        12   \n",
       "The Wind in the Willows                             12   \n",
       "Heidi                                               12   \n",
       "Best Friends                                        12   \n",
       "Sense and Sensibility                               12   \n",
       "The Hobbit                                          12   \n",
       "The Promise                                         12   \n",
       "Carrie                                              12   \n",
       "Phonics Fun: Reading Program, Pack 4 (Clifford ...  12   \n",
       "Sacrifice                                           12   \n",
       "Matilda                                             11   \n",
       "Ashes to Ashes                                      11   \n",
       "Secrets                                             11   \n",
       "King Lear                                           11   \n",
       "When the Wind Blows                                 11   \n",
       "Peter Pan                                           11   \n",
       "Cinderella                                          11   \n",
       "Mirage                                              11   \n",
       "Paradise                                            11   \n",
       "Homecoming                                          11   \n",
       "The Edge                                            11   \n",
       "The Two Towers (The Lord of the Rings, Part 2)      11   \n",
       "Sisters                                             11   \n",
       "\n",
       "                                                                                  Year-Of-Publication  \\\n",
       "                                                                                                array   \n",
       "Book-Title                                                                                              \n",
       "Selected Poems                                      [1985, 1957, 1993, 1999, 1994, 1970, 1994, 196...   \n",
       "Little Women                                        [1995, 0, 1994, 1990, 0, 2004, 1983, 1992, 198...   \n",
       "Wuthering Heights                                   [1983, 1983, 1989, 1981, 2003, 1994, 1992, 199...   \n",
       "The Secret Garden                                   [1989, 1997, 1998, 1993, 1989, 1987, 1987, 199...   \n",
       "Dracula                                             [1994, 1983, 2004, 1992, 1992, 1992, 2001, 199...   \n",
       "Adventures of Huckleberry Finn                      [1992, 1987, 1959, 1959, 1981, 2002, 1987, 197...   \n",
       "Jane Eyre                                           [1999, 1988, 1994, 0, 1997, 1981, 1976, 1999, ...   \n",
       "The Night Before Christmas                          [1998, 1994, 1995, 1950, 1995, 1984, 1992, 198...   \n",
       "Pride and Prejudice                                 [1983, 1981, 1988, 1993, 1996, 1961, 1997, 198...   \n",
       "Great Expectations                                  [2000, 1998, 1986, 2000, 0, 1998, 1981, 1981, ...   \n",
       "Masquerade                                          [1997, 1991, 1984, 1989, 1982, 1989, 1991, 200...   \n",
       "Black Beauty                                        [1990, 1989, 2002, 2003, 1990, 1986, 2001, 198...   \n",
       "Frankenstein                                        [1965, 1965, 1994, 1983, 1994, 1989, 0, 1999, ...   \n",
       "The Gift                                            [1996, 1981, 1991, 1994, 1994, 1990, 1993, 199...   \n",
       "Beloved                                             [1998, 1994, 1991, 1995, 0, 1987, 1987, 1983, ...   \n",
       "Emma                                                [1994, 1981, 1984, 0, 0, 0, 1997, 1976, 1984, ...   \n",
       "Nemesis                                             [2004, 1990, 0, 1991, 1989, 1989, 1999, 1971, ...   \n",
       "Journey                                             [1994, 2003, 2001, 2000, 2000, 1975, 1990, 198...   \n",
       "Robinson Crusoe                                     [2002, 1981, 1989, 1995, 1998, 0, 1995, 2001, ...   \n",
       "The Secret                                          [1992, 2001, 1998, 1997, 2000, 2001, 2004, 198...   \n",
       "Fahrenheit 451                                      [1994, 1987, 1996, 1993, 1994, 1979, 1993, 197...   \n",
       "The Wedding                                         [2003, 2001, 1995, 2000, 1996, 2000, 2004, 199...   \n",
       "Psychology                                          [1990, 2002, 1998, 1985, 1995, 1996, 2001, 199...   \n",
       "Illusions                                           [1981, 1994, 2001, 1987, 1997, 1994, 2000, 198...   \n",
       "Legacy                                              [1990, 1982, 1988, 1990, 1979, 1987, 1995, 199...   \n",
       "Dinosaurs                                           [1993, 0, 1988, 1987, 1987, 1996, 1996, 1993, ...   \n",
       "Hannibal                                            [2000, 1999, 2001, 0, 1999, 1999, 2000, 1999, ...   \n",
       "Dreamcatcher                                        [2001, 2001, 2003, 1996, 0, 1992, 1995, 2001, ...   \n",
       "The Wind in the Willows                             [1996, 1980, 2002, 1990, 1989, 1990, 1989, 200...   \n",
       "Heidi                                               [1987, 1993, 1981, 1998, 1978, 1999, 1990, 199...   \n",
       "Best Friends                                        [2000, 2002, 1999, 2001, 1996, 1990, 1993, 198...   \n",
       "Sense and Sensibility                               [1995, 1997, 1995, 1999, 1979, 1996, 0, 1982, ...   \n",
       "The Hobbit                                          [1977, 1981, 2003, 1995, 1938, 1988, 2001, 199...   \n",
       "The Promise                                         [1995, 2000, 1985, 1978, 2001, 1993, 2002, 199...   \n",
       "Carrie                                              [1994, 2002, 1981, 2001, 1994, 1975, 1993, 198...   \n",
       "Phonics Fun: Reading Program, Pack 4 (Clifford ...  [2003, 2003, 2003, 2003, 2003, 2003, 2003, 200...   \n",
       "Sacrifice                                           [1992, 1986, 1995, 1997, 1991, 2004, 2003, 199...   \n",
       "Matilda                                             [1990, 1998, 1996, 2001, 2002, 1990, 1920, 199...   \n",
       "Ashes to Ashes                                      [2000, 1999, 1999, 2003, 1992, 1988, 1996, 200...   \n",
       "Secrets                                             [1986, 1999, 1993, 1983, 1984, 1992, 1983, 198...   \n",
       "King Lear                                           [1993, 1999, 1997, 1987, 1999, 1981, 1995, 197...   \n",
       "When the Wind Blows                                 [1998, 1999, 0, 1999, 1990, 2000, 1978, 1998, ...   \n",
       "Peter Pan                                           [1997, 1987, 1992, 2002, 1978, 2003, 2003, 0, ...   \n",
       "Cinderella                                          [1992, 1997, 1987, 1979, 1987, 1990, 1985, 199...   \n",
       "Mirage                                              [2001, 1996, 2000, 1997, 1997, 1988, 1988, 199...   \n",
       "Paradise                                            [1998, 1999, 1992, 1993, 2001, 1995, 1999, 200...   \n",
       "Homecoming                                          [1990, 1997, 1983, 1997, 1998, 1997, 1983, 199...   \n",
       "The Edge                                            [2000, 1990, 1995, 2001, 1999, 1989, 2003, 199...   \n",
       "The Two Towers (The Lord of the Rings, Part 2)      [1986, 1999, 2002, 1988, 2001, 1988, 2002, 200...   \n",
       "Sisters                                             [1994, 1989, 2003, 1980, 1991, 1998, 1997, 199...   \n",
       "\n",
       "                                                        \\\n",
       "                                                   len   \n",
       "Book-Title                                               \n",
       "Selected Poems                                      27   \n",
       "Little Women                                        24   \n",
       "Wuthering Heights                                   21   \n",
       "The Secret Garden                                   20   \n",
       "Dracula                                             20   \n",
       "Adventures of Huckleberry Finn                      20   \n",
       "Jane Eyre                                           19   \n",
       "The Night Before Christmas                          18   \n",
       "Pride and Prejudice                                 18   \n",
       "Great Expectations                                  17   \n",
       "Masquerade                                          16   \n",
       "Black Beauty                                        16   \n",
       "Frankenstein                                        16   \n",
       "The Gift                                            15   \n",
       "Beloved                                             15   \n",
       "Emma                                                15   \n",
       "Nemesis                                             14   \n",
       "Journey                                             13   \n",
       "Robinson Crusoe                                     13   \n",
       "The Secret                                          13   \n",
       "Fahrenheit 451                                      13   \n",
       "The Wedding                                         13   \n",
       "Psychology                                          13   \n",
       "Illusions                                           13   \n",
       "Legacy                                              13   \n",
       "Dinosaurs                                           12   \n",
       "Hannibal                                            12   \n",
       "Dreamcatcher                                        12   \n",
       "The Wind in the Willows                             12   \n",
       "Heidi                                               12   \n",
       "Best Friends                                        12   \n",
       "Sense and Sensibility                               12   \n",
       "The Hobbit                                          12   \n",
       "The Promise                                         12   \n",
       "Carrie                                              12   \n",
       "Phonics Fun: Reading Program, Pack 4 (Clifford ...  12   \n",
       "Sacrifice                                           12   \n",
       "Matilda                                             11   \n",
       "Ashes to Ashes                                      11   \n",
       "Secrets                                             11   \n",
       "King Lear                                           11   \n",
       "When the Wind Blows                                 11   \n",
       "Peter Pan                                           11   \n",
       "Cinderella                                          11   \n",
       "Mirage                                              11   \n",
       "Paradise                                            11   \n",
       "Homecoming                                          11   \n",
       "The Edge                                            11   \n",
       "The Two Towers (The Lord of the Rings, Part 2)      11   \n",
       "Sisters                                             11   \n",
       "\n",
       "                                                                                            Publisher  \\\n",
       "                                                                                                array   \n",
       "Book-Title                                                                                              \n",
       "Selected Poems                                      [New Directions Publishing Corporation, New Di...   \n",
       "Little Women                                        [Brimax Books Ltd, Octopus Publising Group Plc...   \n",
       "Wuthering Heights                                   [Bantam, Bantam, Tor Classics, Bantam Books, S...   \n",
       "The Secret Garden                                   [Tor Books, Scholastic, HarperTrophy, Scholast...   \n",
       "Dracula                                             [Dorset Press, Bantam, Distal, Penguin USA, Ne...   \n",
       "Adventures of Huckleberry Finn                      [Globe Fearon, Scholastic, Signet Book, New Am...   \n",
       "Jane Eyre                                           [New Amer Library Classics, Signet Classics, D...   \n",
       "The Night Before Christmas                          [Love Spell, C.R. Gibson Company, North-South ...   \n",
       "Pride and Prejudice                                 [Bantam, Bantam, New Amer Library Classics, Ba...   \n",
       "Great Expectations                                  [Aladdin, Penguin USA (Paper), Signet Classics...   \n",
       "Masquerade                                          [Berkley Publishing Group, Little, Brown, Scho...   \n",
       "Black Beauty                                        [Yearling Books, Scholastic, IndyPublish.com, ...   \n",
       "Frankenstein                                        [Signet Book, Signet Book, Gramercy Books, Lec...   \n",
       "The Gift                                            [Dell, Dell Publishing, Pocket, Delacorte Pres...   \n",
       "Beloved                                             [Plume Books, Zebra Books, New Amer Library, E...   \n",
       "Emma                                                [New Amer Library Classics, Bantam Books, Bant...   \n",
       "Nemesis                                             [Signet Book, Bantam, Harpercollins Publisher,...   \n",
       "Journey                                             [Fawcett Books, Publishamerica, Dell Publishin...   \n",
       "Robinson Crusoe                                     [Courage Books, Signet Book, Tor Books, Signet...   \n",
       "The Secret                                          [Pocket, Zebra Books, Onyx Books, Penguin USA,...   \n",
       "Fahrenheit 451                                      [Distribooks Inc, Del Rey, Ballantine Books, P...   \n",
       "The Wedding                                         [Warner Books, Dell Publishing Company, Double...   \n",
       "Psychology                                          [Harper  Row, Worth Publishers Inc, W H Freema...   \n",
       "Illusions                                           [Bantam Doubleday Dell, Kensington Pub Corp (M...   \n",
       "Legacy                                              [Fawcett Books, Dell Publishing Company, Rando...   \n",
       "Dinosaurs                                           [Golden Books, Tiger Books Intl, Educational D...   \n",
       "Hannibal                                            [Dell Publishing Company, Del Sol Press, Wilhe...   \n",
       "Dreamcatcher                                        [Scribner, Pocket, Pocket, HarperTorch, Scribn...   \n",
       "The Wind in the Willows                             [St. Martin's Press, Henry Holt  Company, Seas...   \n",
       "Heidi                                               [Random House Value Publishing, Troll Communic...   \n",
       "Best Friends                                        [HarperResource, Riverhead Books, Peter Pauper...   \n",
       "Sense and Sensibility                               [Signet Book, Signet Classics, Tor Books, Peng...   \n",
       "The Hobbit                                          [Ballantine Books, Ballantine Books, Large Pri...   \n",
       "The Promise                                         [Pinnacle Books, HarperTorch, Fawcett, Dell, Y...   \n",
       "Carrie                                              [Signet Book, Pocket, Signet Book, Plaza  Jane...   \n",
       "Phonics Fun: Reading Program, Pack 4 (Clifford ...  [Scholastic, Scholastic, Scholastic, Scholasti...   \n",
       "Sacrifice                                           [Ivy Books, Tor Books, Tor Books (Mm), Onyx Bo...   \n",
       "Matilda                                             [Puffin Books, Puffin Books, Scholastic Inc., ...   \n",
       "Ashes to Ashes                                      [Bantam, Bantam, Audioworks, Encore, Diamond/C...   \n",
       "Secrets                                             [Dell, Penguin Books, Avon, Bantam Books, Jove...   \n",
       "King Lear                                           [Washington Square Press, Pocket Books, Arden ...   \n",
       "When the Wind Blows                                 [Replica Books, Warner Vision, Bantam Doubleda...   \n",
       "Peter Pan                                           [Random House Childrens Pub, Smithmark+publish...   \n",
       "Cinderella                                          [Random House Childrens Books, Aladdin, Myster...   \n",
       "Mirage                                              [Warner Vision, Warner Books, Phoenix House, W...   \n",
       "Paradise                                            [Alfred A. Knopf, Plume Books, Pocket, Tor Boo...   \n",
       "Homecoming                                          [Fawcett Books, Doubleday Books, Fawcett Books...   \n",
       "The Edge                                            [Jove Books, Fawcett Books, Bantam Books, Jove...   \n",
       "The Two Towers (The Lord of the Rings, Part 2)      [Del Rey, Houghton Mifflin Company, Houghton M...   \n",
       "Sisters                                             [Running Press Book Publishers, Ballantine Boo...   \n",
       "\n",
       "                                                        \n",
       "                                                   len  \n",
       "Book-Title                                              \n",
       "Selected Poems                                      27  \n",
       "Little Women                                        24  \n",
       "Wuthering Heights                                   21  \n",
       "The Secret Garden                                   20  \n",
       "Dracula                                             20  \n",
       "Adventures of Huckleberry Finn                      20  \n",
       "Jane Eyre                                           19  \n",
       "The Night Before Christmas                          18  \n",
       "Pride and Prejudice                                 18  \n",
       "Great Expectations                                  17  \n",
       "Masquerade                                          16  \n",
       "Black Beauty                                        16  \n",
       "Frankenstein                                        16  \n",
       "The Gift                                            15  \n",
       "Beloved                                             15  \n",
       "Emma                                                15  \n",
       "Nemesis                                             14  \n",
       "Journey                                             13  \n",
       "Robinson Crusoe                                     13  \n",
       "The Secret                                          13  \n",
       "Fahrenheit 451                                      13  \n",
       "The Wedding                                         13  \n",
       "Psychology                                          13  \n",
       "Illusions                                           13  \n",
       "Legacy                                              13  \n",
       "Dinosaurs                                           12  \n",
       "Hannibal                                            12  \n",
       "Dreamcatcher                                        12  \n",
       "The Wind in the Willows                             12  \n",
       "Heidi                                               12  \n",
       "Best Friends                                        12  \n",
       "Sense and Sensibility                               12  \n",
       "The Hobbit                                          12  \n",
       "The Promise                                         12  \n",
       "Carrie                                              12  \n",
       "Phonics Fun: Reading Program, Pack 4 (Clifford ...  12  \n",
       "Sacrifice                                           12  \n",
       "Matilda                                             11  \n",
       "Ashes to Ashes                                      11  \n",
       "Secrets                                             11  \n",
       "King Lear                                           11  \n",
       "When the Wind Blows                                 11  \n",
       "Peter Pan                                           11  \n",
       "Cinderella                                          11  \n",
       "Mirage                                              11  \n",
       "Paradise                                            11  \n",
       "Homecoming                                          11  \n",
       "The Edge                                            11  \n",
       "The Two Towers (The Lord of the Rings, Part 2)      11  \n",
       "Sisters                                             11  "
      ]
     },
     "execution_count": 11,
     "metadata": {},
     "output_type": "execute_result"
    }
   ],
   "source": [
    "books_groupped.sort_values(by=[('ISBN', 'len')], ascending=False).head(50)"
   ]
  },
  {
   "cell_type": "markdown",
   "metadata": {},
   "source": [
    "Очевидно есть повторения.\n",
    "\n",
    "Заметно, что по некоторым публикациям не указан год издания, также по некоторым книгам имена авторов по-разному указаны.\n",
    "\n",
    "В остальном это разные издания одних и тех же работ, напечатанных в разные (не все) годы разными издательствами.\n",
    "\n",
    "Пока не совсем понятно, что делать с этой информацией.\n",
    "\n",
    "Попробуем глянуть, какие есть оценки для разных изданий какого-нибудь произведения:"
   ]
  },
  {
   "cell_type": "code",
   "execution_count": 12,
   "metadata": {},
   "outputs": [
    {
     "name": "stderr",
     "output_type": "stream",
     "text": [
      "C:\\Users\\Efim_Golovin\\AppData\\Local\\Continuum\\anaconda3\\lib\\site-packages\\ipykernel_launcher.py:1: UserWarning: Boolean Series key will be reindexed to match DataFrame index.\n",
      "  \"\"\"Entry point for launching an IPython kernel.\n"
     ]
    },
    {
     "data": {
      "text/plain": [
       "38"
      ]
     },
     "execution_count": 12,
     "metadata": {},
     "output_type": "execute_result"
    }
   ],
   "source": [
    "ratings[ratings.ISBN.isin(books_groupped.loc['Jane Eyre', ('ISBN', 'array')])][ratings['Book-Rating'] > 0]['User-ID'].nunique()"
   ]
  },
  {
   "cell_type": "markdown",
   "metadata": {},
   "source": [
    "Итак, в частности для произведения **\"Джейн Эйр\"** присутствует довольно большое количество оценок от разных пользователей (для разных ISBN).\n",
    "\n",
    "Собственно, логично предположить, что, оценивая книгу, читатель оценивает далеко не только само произведение, но еще и обложку, шрифт, цвет, качество бумаги (если это печатное издание).\n",
    "\n",
    "Существуют, наверное и другие факторы, не имеющие отношения к самому произведению, однако здесь это особо не проверить, поскольку данных на эту тему нет."
   ]
  },
  {
   "cell_type": "code",
   "execution_count": 13,
   "metadata": {
    "scrolled": false
   },
   "outputs": [
    {
     "name": "stdout",
     "output_type": "stream",
     "text": [
      "<class 'pandas.core.frame.DataFrame'>\n",
      "RangeIndex: 271379 entries, 0 to 271378\n",
      "Data columns (total 5 columns):\n",
      "ISBN                   271379 non-null object\n",
      "Book-Title             271379 non-null object\n",
      "Book-Author            271378 non-null object\n",
      "Year-Of-Publication    271379 non-null object\n",
      "Publisher              271377 non-null object\n",
      "dtypes: object(5)\n",
      "memory usage: 10.4+ MB\n"
     ]
    }
   ],
   "source": [
    "books.info()"
   ]
  },
  {
   "cell_type": "code",
   "execution_count": 14,
   "metadata": {
    "scrolled": true
   },
   "outputs": [
    {
     "data": {
      "text/html": [
       "<div>\n",
       "<style scoped>\n",
       "    .dataframe tbody tr th:only-of-type {\n",
       "        vertical-align: middle;\n",
       "    }\n",
       "\n",
       "    .dataframe tbody tr th {\n",
       "        vertical-align: top;\n",
       "    }\n",
       "\n",
       "    .dataframe thead th {\n",
       "        text-align: right;\n",
       "    }\n",
       "</style>\n",
       "<table border=\"1\" class=\"dataframe\">\n",
       "  <thead>\n",
       "    <tr style=\"text-align: right;\">\n",
       "      <th></th>\n",
       "      <th>User-ID</th>\n",
       "      <th>Location</th>\n",
       "      <th>Age</th>\n",
       "    </tr>\n",
       "  </thead>\n",
       "  <tbody>\n",
       "    <tr>\n",
       "      <th>0</th>\n",
       "      <td>1</td>\n",
       "      <td>nyc, new york, usa</td>\n",
       "      <td>NaN</td>\n",
       "    </tr>\n",
       "    <tr>\n",
       "      <th>1</th>\n",
       "      <td>2</td>\n",
       "      <td>stockton, california, usa</td>\n",
       "      <td>18.0</td>\n",
       "    </tr>\n",
       "    <tr>\n",
       "      <th>2</th>\n",
       "      <td>3</td>\n",
       "      <td>moscow, yukon territory, russia</td>\n",
       "      <td>NaN</td>\n",
       "    </tr>\n",
       "    <tr>\n",
       "      <th>3</th>\n",
       "      <td>4</td>\n",
       "      <td>porto, v.n.gaia, portugal</td>\n",
       "      <td>17.0</td>\n",
       "    </tr>\n",
       "    <tr>\n",
       "      <th>4</th>\n",
       "      <td>5</td>\n",
       "      <td>farnborough, hants, united kingdom</td>\n",
       "      <td>NaN</td>\n",
       "    </tr>\n",
       "  </tbody>\n",
       "</table>\n",
       "</div>"
      ],
      "text/plain": [
       "   User-ID                            Location   Age\n",
       "0        1                  nyc, new york, usa   NaN\n",
       "1        2           stockton, california, usa  18.0\n",
       "2        3     moscow, yukon territory, russia   NaN\n",
       "3        4           porto, v.n.gaia, portugal  17.0\n",
       "4        5  farnborough, hants, united kingdom   NaN"
      ]
     },
     "execution_count": 14,
     "metadata": {},
     "output_type": "execute_result"
    }
   ],
   "source": [
    "users.head()"
   ]
  },
  {
   "cell_type": "code",
   "execution_count": 15,
   "metadata": {},
   "outputs": [
    {
     "name": "stdout",
     "output_type": "stream",
     "text": [
      "<class 'pandas.core.frame.DataFrame'>\n",
      "RangeIndex: 278858 entries, 0 to 278857\n",
      "Data columns (total 3 columns):\n",
      "User-ID     278858 non-null int64\n",
      "Location    278858 non-null object\n",
      "Age         168096 non-null float64\n",
      "dtypes: float64(1), int64(1), object(1)\n",
      "memory usage: 6.4+ MB\n"
     ]
    }
   ],
   "source": [
    "users.info()"
   ]
  },
  {
   "cell_type": "markdown",
   "metadata": {},
   "source": [
    "Итак, у нас есть 271379 книг и 278858 пользователей, по книгам известны их:\n",
    "- ISBN;\n",
    "- название;\n",
    "- автор;\n",
    "- год выпуска;\n",
    "- издательство.\n",
    "\n",
    "По пользователям (не по всем) известно их:\n",
    "- местоположение;\n",
    "- возраст.\n",
    "\n",
    "Надо глянуть какой процент пользователей указали возраст:"
   ]
  },
  {
   "cell_type": "code",
   "execution_count": 16,
   "metadata": {},
   "outputs": [
    {
     "data": {
      "text/plain": [
       "60.28014258152895"
      ]
     },
     "execution_count": 16,
     "metadata": {},
     "output_type": "execute_result"
    }
   ],
   "source": [
    "100 * len(users[~users.Age.isnull()]) / len(users)"
   ]
  },
  {
   "cell_type": "markdown",
   "metadata": {},
   "source": [
    "Ок, ~60% пользователей не стесняются, чего не скажешь об остальных.\n",
    "\n",
    "Глянем, как читатели распределены по возрасту:"
   ]
  },
  {
   "cell_type": "code",
   "execution_count": 17,
   "metadata": {},
   "outputs": [
    {
     "data": {
      "image/png": "[encoded data removed]",
      "text/plain": [
       "<matplotlib.figure.Figure at 0x21ef283aac8>"
      ]
     },
     "metadata": {},
     "output_type": "display_data"
    }
   ],
   "source": [
    "plt.figure(figsize=(35, 15))\n",
    "n, bins, _ = plt.hist(users[~users.Age.isnull()].Age, bins=20)\n",
    "plt.xticks(bins)\n",
    "plt.show()"
   ]
  },
  {
   "cell_type": "markdown",
   "metadata": {},
   "source": [
    "Что же, очевидно, есть некоторая часть пользователей с возрастом, указанным не вполне адекватно:"
   ]
  },
  {
   "cell_type": "code",
   "execution_count": 18,
   "metadata": {},
   "outputs": [
    {
     "data": {
      "text/plain": [
       "0.0"
      ]
     },
     "execution_count": 18,
     "metadata": {},
     "output_type": "execute_result"
    }
   ],
   "source": [
    "users[~users.Age.isnull()].Age.min()"
   ]
  },
  {
   "cell_type": "code",
   "execution_count": 19,
   "metadata": {},
   "outputs": [
    {
     "data": {
      "text/plain": [
       "244.0"
      ]
     },
     "execution_count": 19,
     "metadata": {},
     "output_type": "execute_result"
    }
   ],
   "source": [
    "users[~users.Age.isnull()].Age.max()"
   ]
  },
  {
   "cell_type": "markdown",
   "metadata": {},
   "source": [
    "Вряд ли кто-то в возрасте 0 или 244 лет что-то покупал из книг."
   ]
  },
  {
   "cell_type": "markdown",
   "metadata": {},
   "source": [
    "Заметим, что поле Location состоит из трех пунктов: город, регион, страна.\n",
    "\n",
    "Надо бы разделить это поле на три, чтобы глянуть, как пользователи по миру раскиданы.\n",
    "\n",
    "Перед этим надо глянуть, можно ли вообще легко это разделение сделать:"
   ]
  },
  {
   "cell_type": "code",
   "execution_count": 20,
   "metadata": {
    "collapsed": true
   },
   "outputs": [],
   "source": [
    "locations = users.Location.values\n",
    "locations = np.array([loc.split(', ') for loc in locations])"
   ]
  },
  {
   "cell_type": "code",
   "execution_count": 21,
   "metadata": {
    "collapsed": true
   },
   "outputs": [],
   "source": [
    "incorrect_items_more = [ind for ind, item in enumerate(locations) if len(item) > 3]\n",
    "incorrect_items_less = [ind for ind, item in enumerate(locations) if len(item) < 3]"
   ]
  },
  {
   "cell_type": "code",
   "execution_count": 22,
   "metadata": {},
   "outputs": [
    {
     "name": "stdout",
     "output_type": "stream",
     "text": [
      "2.0085491540497316\n"
     ]
    }
   ],
   "source": [
    "print(100 * (len(incorrect_items_more) + len(incorrect_items_less)) / len(locations))"
   ]
  },
  {
   "cell_type": "markdown",
   "metadata": {},
   "source": [
    "~2% людей с коряво указанными данными по местоположению.\n",
    "\n",
    "Надо глянуть, сколько из них оценили какие-нибудь книги:"
   ]
  },
  {
   "cell_type": "code",
   "execution_count": 23,
   "metadata": {
    "collapsed": true
   },
   "outputs": [],
   "source": [
    "users_with_their_ratings_l = pd.merge(users[users.index.isin(incorrect_items_less)], ratings, how='inner', on='User-ID')"
   ]
  },
  {
   "cell_type": "code",
   "execution_count": 24,
   "metadata": {},
   "outputs": [
    {
     "data": {
      "image/png": "[encoded data removed]",
      "text/plain": [
       "<matplotlib.figure.Figure at 0x21efd6560f0>"
      ]
     },
     "metadata": {},
     "output_type": "display_data"
    }
   ],
   "source": [
    "plt.figure(figsize=(16, 16))\n",
    "users_with_their_ratings_l['Book-Rating'].value_counts().plot.pie(autopct='%.2f')\n",
    "plt.show()"
   ]
  },
  {
   "cell_type": "code",
   "execution_count": 25,
   "metadata": {
    "collapsed": true
   },
   "outputs": [],
   "source": [
    "users_with_their_ratings_m = pd.merge(users[users.index.isin(incorrect_items_more)], ratings, how='inner', on='User-ID')"
   ]
  },
  {
   "cell_type": "code",
   "execution_count": 26,
   "metadata": {},
   "outputs": [
    {
     "data": {
      "image/png": "[encoded data removed]",
      "text/plain": [
       "<matplotlib.figure.Figure at 0x21e80008b38>"
      ]
     },
     "metadata": {},
     "output_type": "display_data"
    }
   ],
   "source": [
    "plt.figure(figsize=(8, 8))\n",
    "users_with_their_ratings_m['Book-Rating'].value_counts().plot.pie(autopct='%.2f')\n",
    "plt.show()"
   ]
  },
  {
   "cell_type": "markdown",
   "metadata": {},
   "source": [
    "Здесь графики приводятся в разных масштабах, чтобы не ввести в заблуждение по поводу объема выборок пользователей с коряво указанными локациями:"
   ]
  },
  {
   "cell_type": "code",
   "execution_count": 27,
   "metadata": {},
   "outputs": [
    {
     "name": "stdout",
     "output_type": "stream",
     "text": [
      "1024 4577\n"
     ]
    }
   ],
   "source": [
    "print(len(incorrect_items_more), len(incorrect_items_less))"
   ]
  },
  {
   "cell_type": "markdown",
   "metadata": {},
   "source": [
    "Надо бы еще глянуть, как много ISBN, указанных в таблице BX-Book-Ratings, отсутствуют в таблице BX-Books.\n",
    "\n",
    "То же самое по поводу пользователей:"
   ]
  },
  {
   "cell_type": "code",
   "execution_count": 28,
   "metadata": {},
   "outputs": [
    {
     "data": {
      "text/plain": [
       "70386"
      ]
     },
     "execution_count": 28,
     "metadata": {},
     "output_type": "execute_result"
    }
   ],
   "source": [
    "ratings[~ratings.ISBN.isin(books.ISBN)].ISBN.nunique()"
   ]
  },
  {
   "cell_type": "markdown",
   "metadata": {},
   "source": [
    "Получается, что в списке книг есть такие, о которых, вообще говоря, ничего не известно.\n",
    "\n",
    "Надо глянуть, по скольким таким книгам есть оценки:"
   ]
  },
  {
   "cell_type": "code",
   "execution_count": 29,
   "metadata": {},
   "outputs": [
    {
     "data": {
      "text/plain": [
       "36131"
      ]
     },
     "execution_count": 29,
     "metadata": {},
     "output_type": "execute_result"
    }
   ],
   "source": [
    "non_zero_ratings = ratings[ratings['Book-Rating'] > 0]\n",
    "non_zero_ratings[~non_zero_ratings.ISBN.isin(books.ISBN)].ISBN.nunique()"
   ]
  },
  {
   "cell_type": "markdown",
   "metadata": {},
   "source": [
    "Что же, у нас есть оценки пользователей по книгам, о которых мы ничего не знаем.\n",
    "\n",
    "Глянем, как это количество соотносится с общим количеством оцененных пользователями книг:"
   ]
  },
  {
   "cell_type": "code",
   "execution_count": 30,
   "metadata": {},
   "outputs": [
    {
     "data": {
      "text/plain": [
       "19.42808902367548"
      ]
     },
     "execution_count": 30,
     "metadata": {},
     "output_type": "execute_result"
    }
   ],
   "source": [
    "100 * non_zero_ratings[~non_zero_ratings.ISBN.isin(books.ISBN)].ISBN.nunique() / non_zero_ratings.ISBN.nunique()"
   ]
  },
  {
   "cell_type": "markdown",
   "metadata": {},
   "source": [
    "С одной стороны 19% - это довольно много, с другой - это 19% оценок книг, о которых ничего неизвестно.\n",
    "\n",
    "Это просто какие-то номера, по которым нельзя будет, скажем построить какой-нибудь Item-based алгоритм, после применения Collaborative filtering нельзя будет сказать, каким именно книгам были восстановлены оценки, нельзя будет сделать никаких выводов по этому поводу.\n",
    "\n",
    "Собственно поэтому логичнее эти оценки пока не рассматривать."
   ]
  },
  {
   "cell_type": "code",
   "execution_count": 31,
   "metadata": {
    "collapsed": true
   },
   "outputs": [],
   "source": [
    "non_zero_ratings = non_zero_ratings[non_zero_ratings.ISBN.isin(books.ISBN)]"
   ]
  },
  {
   "cell_type": "code",
   "execution_count": 32,
   "metadata": {},
   "outputs": [
    {
     "data": {
      "text/plain": [
       "149842"
      ]
     },
     "execution_count": 32,
     "metadata": {},
     "output_type": "execute_result"
    }
   ],
   "source": [
    "non_zero_ratings.ISBN.nunique()"
   ]
  },
  {
   "cell_type": "code",
   "execution_count": 33,
   "metadata": {},
   "outputs": [
    {
     "data": {
      "text/plain": [
       "0"
      ]
     },
     "execution_count": 33,
     "metadata": {},
     "output_type": "execute_result"
    }
   ],
   "source": [
    "non_zero_ratings[~non_zero_ratings['User-ID'].isin(users['User-ID'])]['User-ID'].nunique()"
   ]
  },
  {
   "cell_type": "markdown",
   "metadata": {},
   "source": [
    "Итак, нет ни одного ID для которого бы в таблице users не было бы записи.\n",
    "\n",
    "Хорошо, теперь надо еще ответить на обратные вопросы: есть ли такие пользователи, которые не дали оценки ни одной книге и есть ли такие книги, которые не были оценены ни одним пользователем:"
   ]
  },
  {
   "cell_type": "code",
   "execution_count": 34,
   "metadata": {},
   "outputs": [
    {
     "data": {
      "text/plain": [
       "75.58183735090978"
      ]
     },
     "execution_count": 34,
     "metadata": {},
     "output_type": "execute_result"
    }
   ],
   "source": [
    "100 * users[~users['User-ID'].isin(non_zero_ratings['User-ID'])]['User-ID'].nunique() / users['User-ID'].nunique()"
   ]
  },
  {
   "cell_type": "code",
   "execution_count": 35,
   "metadata": {},
   "outputs": [
    {
     "data": {
      "text/plain": [
       "44.784968623216976"
      ]
     },
     "execution_count": 35,
     "metadata": {},
     "output_type": "execute_result"
    }
   ],
   "source": [
    "100 * books[~books.ISBN.isin(non_zero_ratings.ISBN)].ISBN.nunique() / books.ISBN.nunique()"
   ]
  },
  {
   "cell_type": "markdown",
   "metadata": {},
   "source": [
    "Получается, у нас есть ~75.6% пользователей, никак ни одной книги не оценивших и ~44.8% книг, никах никем не оценённых."
   ]
  },
  {
   "cell_type": "markdown",
   "metadata": {},
   "source": [
    "# К вопросу о правильном Evaluation"
   ]
  },
  {
   "cell_type": "markdown",
   "metadata": {},
   "source": [
    "Здесь общая идея следующая:\n",
    "- сформировать выборку троек (пользователь, книга, оценка), желательно, чтобы эта выборка покрыла как можно больше книг;\n",
    "- извлечь эти тройки из основного набора данных (оценок) и далее считать, что для выбранных пользователей и книг оценки неизвестны и должны быть восстановлены;\n",
    "- собственно, применить один из алгоритмов восстановления оценок;\n",
    "- пользуясь выбраннной метрикой (RMSE или NDCG) оценить качество восстановления пользовательских оценок."
   ]
  },
  {
   "cell_type": "markdown",
   "metadata": {},
   "source": [
    "# Сколько читателей поставили оценки и сколько книг оценили"
   ]
  },
  {
   "cell_type": "markdown",
   "metadata": {},
   "source": [
    "Ок, теперь надо глянуть, какие пользователи сколько раз поставили оценки и какие книги сколько раз были оценены.\n",
    "\n",
    "Это необходимо для того, чтобы понять как разделять датасет на трейн и тест.\n",
    "\n",
    "Также нужно понять какую часть пользователей и книг нужно отсеять (пользователи, оценившие слишком мало книг из всего множества, книги, оцененные слишком мало пользователями)."
   ]
  },
  {
   "cell_type": "code",
   "execution_count": 46,
   "metadata": {},
   "outputs": [],
   "source": [
    "non_zero_ratings_groupped_by_user = non_zero_ratings.groupby('User-ID').agg(len)"
   ]
  },
  {
   "cell_type": "code",
   "execution_count": 47,
   "metadata": {},
   "outputs": [
    {
     "data": {
      "text/html": [
       "<div>\n",
       "<style scoped>\n",
       "    .dataframe tbody tr th:only-of-type {\n",
       "        vertical-align: middle;\n",
       "    }\n",
       "\n",
       "    .dataframe tbody tr th {\n",
       "        vertical-align: top;\n",
       "    }\n",
       "\n",
       "    .dataframe thead th {\n",
       "        text-align: right;\n",
       "    }\n",
       "</style>\n",
       "<table border=\"1\" class=\"dataframe\">\n",
       "  <thead>\n",
       "    <tr style=\"text-align: right;\">\n",
       "      <th></th>\n",
       "      <th>ISBN</th>\n",
       "      <th>Book-Rating</th>\n",
       "    </tr>\n",
       "    <tr>\n",
       "      <th>User-ID</th>\n",
       "      <th></th>\n",
       "      <th></th>\n",
       "    </tr>\n",
       "  </thead>\n",
       "  <tbody>\n",
       "    <tr>\n",
       "      <th>11676</th>\n",
       "      <td>6943</td>\n",
       "      <td>6943</td>\n",
       "    </tr>\n",
       "    <tr>\n",
       "      <th>98391</th>\n",
       "      <td>5691</td>\n",
       "      <td>5691</td>\n",
       "    </tr>\n",
       "    <tr>\n",
       "      <th>189835</th>\n",
       "      <td>1899</td>\n",
       "      <td>1899</td>\n",
       "    </tr>\n",
       "    <tr>\n",
       "      <th>153662</th>\n",
       "      <td>1845</td>\n",
       "      <td>1845</td>\n",
       "    </tr>\n",
       "    <tr>\n",
       "      <th>23902</th>\n",
       "      <td>1180</td>\n",
       "      <td>1180</td>\n",
       "    </tr>\n",
       "    <tr>\n",
       "      <th>235105</th>\n",
       "      <td>1020</td>\n",
       "      <td>1020</td>\n",
       "    </tr>\n",
       "    <tr>\n",
       "      <th>76499</th>\n",
       "      <td>1012</td>\n",
       "      <td>1012</td>\n",
       "    </tr>\n",
       "    <tr>\n",
       "      <th>171118</th>\n",
       "      <td>962</td>\n",
       "      <td>962</td>\n",
       "    </tr>\n",
       "    <tr>\n",
       "      <th>16795</th>\n",
       "      <td>959</td>\n",
       "      <td>959</td>\n",
       "    </tr>\n",
       "    <tr>\n",
       "      <th>248718</th>\n",
       "      <td>941</td>\n",
       "      <td>941</td>\n",
       "    </tr>\n",
       "  </tbody>\n",
       "</table>\n",
       "</div>"
      ],
      "text/plain": [
       "         ISBN  Book-Rating\n",
       "User-ID                   \n",
       "11676    6943         6943\n",
       "98391    5691         5691\n",
       "189835   1899         1899\n",
       "153662   1845         1845\n",
       "23902    1180         1180\n",
       "235105   1020         1020\n",
       "76499    1012         1012\n",
       "171118    962          962\n",
       "16795     959          959\n",
       "248718    941          941"
      ]
     },
     "execution_count": 47,
     "metadata": {},
     "output_type": "execute_result"
    }
   ],
   "source": [
    "non_zero_ratings_groupped_by_user.sort_values(by=['ISBN'], ascending=False).head(10)"
   ]
  },
  {
   "cell_type": "code",
   "execution_count": 65,
   "metadata": {},
   "outputs": [
    {
     "data": {
      "text/plain": [
       "5981"
      ]
     },
     "execution_count": 65,
     "metadata": {},
     "output_type": "execute_result"
    }
   ],
   "source": [
    "len(non_zero_ratings_groupped_by_user[non_zero_ratings_groupped_by_user.ISBN > 10])"
   ]
  },
  {
   "cell_type": "code",
   "execution_count": 69,
   "metadata": {},
   "outputs": [
    {
     "data": {
      "text/plain": [
       "array([   242,    243,    254, ..., 278633, 278843, 278851], dtype=int64)"
      ]
     },
     "execution_count": 69,
     "metadata": {},
     "output_type": "execute_result"
    }
   ],
   "source": [
    "non_zero_ratings_groupped_by_user[non_zero_ratings_groupped_by_user.ISBN > 10].index.values"
   ]
  },
  {
   "cell_type": "code",
   "execution_count": 73,
   "metadata": {},
   "outputs": [
    {
     "data": {
      "text/plain": [
       "array([9195, 9197, 9198, 9199, 9200, 9201, 9202, 9203, 9204, 9205, 9206,\n",
       "       9210, 9214, 9217, 9219, 9220, 9222, 9223, 9226, 9227, 9228, 9230,\n",
       "       9231, 9233, 9234, 9235, 9240, 9241, 9244, 9246, 9248, 9249, 9253,\n",
       "       9254, 9255, 9256, 9257, 9258, 9260, 9265, 9266, 9267, 9268], dtype=int64)"
      ]
     },
     "execution_count": 73,
     "metadata": {},
     "output_type": "execute_result"
    }
   ],
   "source": [
    "non_zero_ratings[non_zero_ratings['User-ID'] == 278633].index.values"
   ]
  },
  {
   "cell_type": "code",
   "execution_count": 66,
   "metadata": {},
   "outputs": [
    {
     "data": {
      "text/plain": [
       "68092"
      ]
     },
     "execution_count": 66,
     "metadata": {},
     "output_type": "execute_result"
    }
   ],
   "source": [
    "len(non_zero_ratings_groupped_by_user)"
   ]
  },
  {
   "cell_type": "code",
   "execution_count": 48,
   "metadata": {},
   "outputs": [],
   "source": [
    "non_zero_ratings_groupped_by_isbn = non_zero_ratings.groupby('ISBN').agg(len)"
   ]
  },
  {
   "cell_type": "code",
   "execution_count": 49,
   "metadata": {},
   "outputs": [
    {
     "data": {
      "text/html": [
       "<div>\n",
       "<style scoped>\n",
       "    .dataframe tbody tr th:only-of-type {\n",
       "        vertical-align: middle;\n",
       "    }\n",
       "\n",
       "    .dataframe tbody tr th {\n",
       "        vertical-align: top;\n",
       "    }\n",
       "\n",
       "    .dataframe thead th {\n",
       "        text-align: right;\n",
       "    }\n",
       "</style>\n",
       "<table border=\"1\" class=\"dataframe\">\n",
       "  <thead>\n",
       "    <tr style=\"text-align: right;\">\n",
       "      <th></th>\n",
       "      <th>User-ID</th>\n",
       "      <th>Book-Rating</th>\n",
       "    </tr>\n",
       "    <tr>\n",
       "      <th>ISBN</th>\n",
       "      <th></th>\n",
       "      <th></th>\n",
       "    </tr>\n",
       "  </thead>\n",
       "  <tbody>\n",
       "    <tr>\n",
       "      <th>0316666343</th>\n",
       "      <td>707</td>\n",
       "      <td>707</td>\n",
       "    </tr>\n",
       "    <tr>\n",
       "      <th>0971880107</th>\n",
       "      <td>581</td>\n",
       "      <td>581</td>\n",
       "    </tr>\n",
       "    <tr>\n",
       "      <th>0385504209</th>\n",
       "      <td>487</td>\n",
       "      <td>487</td>\n",
       "    </tr>\n",
       "    <tr>\n",
       "      <th>0312195516</th>\n",
       "      <td>383</td>\n",
       "      <td>383</td>\n",
       "    </tr>\n",
       "    <tr>\n",
       "      <th>0060928336</th>\n",
       "      <td>320</td>\n",
       "      <td>320</td>\n",
       "    </tr>\n",
       "    <tr>\n",
       "      <th>059035342X</th>\n",
       "      <td>313</td>\n",
       "      <td>313</td>\n",
       "    </tr>\n",
       "    <tr>\n",
       "      <th>0142001740</th>\n",
       "      <td>307</td>\n",
       "      <td>307</td>\n",
       "    </tr>\n",
       "    <tr>\n",
       "      <th>0446672211</th>\n",
       "      <td>295</td>\n",
       "      <td>295</td>\n",
       "    </tr>\n",
       "    <tr>\n",
       "      <th>044023722X</th>\n",
       "      <td>281</td>\n",
       "      <td>281</td>\n",
       "    </tr>\n",
       "    <tr>\n",
       "      <th>0452282152</th>\n",
       "      <td>278</td>\n",
       "      <td>278</td>\n",
       "    </tr>\n",
       "  </tbody>\n",
       "</table>\n",
       "</div>"
      ],
      "text/plain": [
       "            User-ID  Book-Rating\n",
       "ISBN                            \n",
       "0316666343      707          707\n",
       "0971880107      581          581\n",
       "0385504209      487          487\n",
       "0312195516      383          383\n",
       "0060928336      320          320\n",
       "059035342X      313          313\n",
       "0142001740      307          307\n",
       "0446672211      295          295\n",
       "044023722X      281          281\n",
       "0452282152      278          278"
      ]
     },
     "execution_count": 49,
     "metadata": {},
     "output_type": "execute_result"
    }
   ],
   "source": [
    "non_zero_ratings_groupped_by_isbn.sort_values(by=['User-ID'], ascending=False).head(10)"
   ]
  },
  {
   "cell_type": "code",
   "execution_count": 67,
   "metadata": {},
   "outputs": [
    {
     "data": {
      "text/plain": [
       "4788"
      ]
     },
     "execution_count": 67,
     "metadata": {},
     "output_type": "execute_result"
    }
   ],
   "source": [
    "len(non_zero_ratings_groupped_by_isbn[non_zero_ratings_groupped_by_isbn['User-ID'] > 10])"
   ]
  },
  {
   "cell_type": "code",
   "execution_count": 68,
   "metadata": {},
   "outputs": [
    {
     "data": {
      "text/plain": [
       "149842"
      ]
     },
     "execution_count": 68,
     "metadata": {},
     "output_type": "execute_result"
    }
   ],
   "source": [
    "len(non_zero_ratings_groupped_by_isbn)"
   ]
  },
  {
   "cell_type": "code",
   "execution_count": null,
   "metadata": {},
   "outputs": [],
   "source": []
  }
 ],
 "metadata": {
  "kernelspec": {
   "display_name": "Python 3",
   "language": "python",
   "name": "python3"
  },
  "language_info": {
   "codemirror_mode": {
    "name": "ipython",
    "version": 3
   },
   "file_extension": ".py",
   "mimetype": "text/x-python",
   "name": "python",
   "nbconvert_exporter": "python",
   "pygments_lexer": "ipython3",
   "version": "3.6.3"
  }
 },
 "nbformat": 4,
 "nbformat_minor": 2
}
