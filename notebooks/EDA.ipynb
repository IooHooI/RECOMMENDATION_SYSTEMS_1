{
 "cells": [
  {
   "cell_type": "markdown",
   "metadata": {},
   "source": [
    "# Импорт необходимых модулей"
   ]
  },
  {
   "cell_type": "code",
   "execution_count": 1,
   "metadata": {
    "collapsed": true
   },
   "outputs": [],
   "source": [
    "import pandas as pd\n",
    "import numpy as np\n",
    "\n",
    "import matplotlib.pyplot as plt\n",
    "import seaborn as sns\n",
    "import math"
   ]
  },
  {
   "cell_type": "code",
   "execution_count": 2,
   "metadata": {},
   "outputs": [],
   "source": [
    "MEDIUM_SIZE = 20\n",
    "BIGGER_SIZE = 30\n",
    "\n",
    "plt.rc('font', size=BIGGER_SIZE)\n",
    "plt.rc('axes', titlesize=MEDIUM_SIZE)\n",
    "plt.rc('axes', labelsize=MEDIUM_SIZE)\n",
    "plt.rc('xtick', labelsize=MEDIUM_SIZE)\n",
    "plt.rc('ytick', labelsize=MEDIUM_SIZE)\n",
    "plt.rc('legend', fontsize=MEDIUM_SIZE)\n",
    "plt.rc('figure', titlesize=BIGGER_SIZE)\n",
    "plt.rc('text', color='green')\n",
    "\n",
    "plt.rc('xtick', color='green')\n",
    "plt.rc('ytick', color='green')\n",
    "\n",
    "plt.rc('axes', labelcolor='green')\n",
    "plt.rc('axes', labelcolor='green')"
   ]
  },
  {
   "cell_type": "code",
   "execution_count": 3,
   "metadata": {},
   "outputs": [],
   "source": [
    "pd.set_option('display.max_colwidth', -1)"
   ]
  },
  {
   "cell_type": "markdown",
   "metadata": {},
   "source": [
    "# На всякий случай..."
   ]
  },
  {
   "cell_type": "markdown",
   "metadata": {},
   "source": [
    "[ISBN](https://en.wikipedia.org/wiki/International_Standard_Book_Number)"
   ]
  },
  {
   "cell_type": "markdown",
   "metadata": {},
   "source": [
    "# Чтение данных"
   ]
  },
  {
   "cell_type": "code",
   "execution_count": 4,
   "metadata": {
    "collapsed": true
   },
   "outputs": [],
   "source": [
    "ratings = pd.read_csv('data/BX-Book-Ratings.csv', sep=';', header=0, error_bad_lines=False, encoding='Windows-1251', low_memory=False)"
   ]
  },
  {
   "cell_type": "code",
   "execution_count": 5,
   "metadata": {
    "scrolled": false
   },
   "outputs": [],
   "source": [
    "books = pd.read_csv('data/BX-Books.csv', sep=';', header=0, error_bad_lines=False, encoding='Windows-1251', low_memory=False)"
   ]
  },
  {
   "cell_type": "code",
   "execution_count": 6,
   "metadata": {
    "collapsed": true,
    "scrolled": false
   },
   "outputs": [],
   "source": [
    "users = pd.read_csv('data/BX-Users.csv', sep=';', header=0, error_bad_lines=False, encoding='Windows-1251', low_memory=False)"
   ]
  },
  {
   "cell_type": "markdown",
   "metadata": {},
   "source": [
    "# Знакомство"
   ]
  },
  {
   "cell_type": "markdown",
   "metadata": {},
   "source": [
    "Ок, загрузили, надо теперь поглядеть, что это вообще за данные."
   ]
  },
  {
   "cell_type": "code",
   "execution_count": 7,
   "metadata": {
    "scrolled": true
   },
   "outputs": [
    {
     "data": {
      "text/html": [
       "<div>\n",
       "<style scoped>\n",
       "    .dataframe tbody tr th:only-of-type {\n",
       "        vertical-align: middle;\n",
       "    }\n",
       "\n",
       "    .dataframe tbody tr th {\n",
       "        vertical-align: top;\n",
       "    }\n",
       "\n",
       "    .dataframe thead th {\n",
       "        text-align: right;\n",
       "    }\n",
       "</style>\n",
       "<table border=\"1\" class=\"dataframe\">\n",
       "  <thead>\n",
       "    <tr style=\"text-align: right;\">\n",
       "      <th></th>\n",
       "      <th>User-ID</th>\n",
       "      <th>ISBN</th>\n",
       "      <th>Book-Rating</th>\n",
       "    </tr>\n",
       "  </thead>\n",
       "  <tbody>\n",
       "    <tr>\n",
       "      <th>0</th>\n",
       "      <td>276725</td>\n",
       "      <td>034545104X</td>\n",
       "      <td>0</td>\n",
       "    </tr>\n",
       "    <tr>\n",
       "      <th>1</th>\n",
       "      <td>276726</td>\n",
       "      <td>0155061224</td>\n",
       "      <td>5</td>\n",
       "    </tr>\n",
       "    <tr>\n",
       "      <th>2</th>\n",
       "      <td>276727</td>\n",
       "      <td>0446520802</td>\n",
       "      <td>0</td>\n",
       "    </tr>\n",
       "    <tr>\n",
       "      <th>3</th>\n",
       "      <td>276729</td>\n",
       "      <td>052165615X</td>\n",
       "      <td>3</td>\n",
       "    </tr>\n",
       "    <tr>\n",
       "      <th>4</th>\n",
       "      <td>276729</td>\n",
       "      <td>0521795028</td>\n",
       "      <td>6</td>\n",
       "    </tr>\n",
       "  </tbody>\n",
       "</table>\n",
       "</div>"
      ],
      "text/plain": [
       "   User-ID        ISBN  Book-Rating\n",
       "0  276725   034545104X  0          \n",
       "1  276726   0155061224  5          \n",
       "2  276727   0446520802  0          \n",
       "3  276729   052165615X  3          \n",
       "4  276729   0521795028  6          "
      ]
     },
     "execution_count": 7,
     "metadata": {},
     "output_type": "execute_result"
    }
   ],
   "source": [
    "ratings.head()"
   ]
  },
  {
   "cell_type": "code",
   "execution_count": 8,
   "metadata": {
    "scrolled": true
   },
   "outputs": [
    {
     "name": "stdout",
     "output_type": "stream",
     "text": [
      "<class 'pandas.core.frame.DataFrame'>\n",
      "RangeIndex: 1149780 entries, 0 to 1149779\n",
      "Data columns (total 3 columns):\n",
      "User-ID        1149780 non-null int64\n",
      "ISBN           1149780 non-null object\n",
      "Book-Rating    1149780 non-null int64\n",
      "dtypes: int64(2), object(1)\n",
      "memory usage: 26.3+ MB\n"
     ]
    }
   ],
   "source": [
    "ratings.info()"
   ]
  },
  {
   "cell_type": "code",
   "execution_count": 9,
   "metadata": {
    "scrolled": true
   },
   "outputs": [
    {
     "data": {
      "text/html": [
       "<div>\n",
       "<style scoped>\n",
       "    .dataframe tbody tr th:only-of-type {\n",
       "        vertical-align: middle;\n",
       "    }\n",
       "\n",
       "    .dataframe tbody tr th {\n",
       "        vertical-align: top;\n",
       "    }\n",
       "\n",
       "    .dataframe thead th {\n",
       "        text-align: right;\n",
       "    }\n",
       "</style>\n",
       "<table border=\"1\" class=\"dataframe\">\n",
       "  <thead>\n",
       "    <tr style=\"text-align: right;\">\n",
       "      <th></th>\n",
       "      <th>ISBN</th>\n",
       "      <th>Book-Title</th>\n",
       "      <th>Book-Author</th>\n",
       "      <th>Year-Of-Publication</th>\n",
       "      <th>Publisher</th>\n",
       "      <th>Image-URL-S</th>\n",
       "      <th>Image-URL-M</th>\n",
       "      <th>Image-URL-L</th>\n",
       "    </tr>\n",
       "  </thead>\n",
       "  <tbody>\n",
       "    <tr>\n",
       "      <th>0</th>\n",
       "      <td>0195153448</td>\n",
       "      <td>Classical Mythology</td>\n",
       "      <td>Mark P. O. Morford</td>\n",
       "      <td>2002</td>\n",
       "      <td>Oxford University Press</td>\n",
       "      <td>http://images.amazon.com/images/P/0195153448.01.THUMBZZZ.jpg</td>\n",
       "      <td>http://images.amazon.com/images/P/0195153448.01.MZZZZZZZ.jpg</td>\n",
       "      <td>http://images.amazon.com/images/P/0195153448.01.LZZZZZZZ.jpg</td>\n",
       "    </tr>\n",
       "    <tr>\n",
       "      <th>1</th>\n",
       "      <td>0002005018</td>\n",
       "      <td>Clara Callan</td>\n",
       "      <td>Richard Bruce Wright</td>\n",
       "      <td>2001</td>\n",
       "      <td>HarperFlamingo Canada</td>\n",
       "      <td>http://images.amazon.com/images/P/0002005018.01.THUMBZZZ.jpg</td>\n",
       "      <td>http://images.amazon.com/images/P/0002005018.01.MZZZZZZZ.jpg</td>\n",
       "      <td>http://images.amazon.com/images/P/0002005018.01.LZZZZZZZ.jpg</td>\n",
       "    </tr>\n",
       "    <tr>\n",
       "      <th>2</th>\n",
       "      <td>0060973129</td>\n",
       "      <td>Decision in Normandy</td>\n",
       "      <td>Carlo D'Este</td>\n",
       "      <td>1991</td>\n",
       "      <td>HarperPerennial</td>\n",
       "      <td>http://images.amazon.com/images/P/0060973129.01.THUMBZZZ.jpg</td>\n",
       "      <td>http://images.amazon.com/images/P/0060973129.01.MZZZZZZZ.jpg</td>\n",
       "      <td>http://images.amazon.com/images/P/0060973129.01.LZZZZZZZ.jpg</td>\n",
       "    </tr>\n",
       "    <tr>\n",
       "      <th>3</th>\n",
       "      <td>0374157065</td>\n",
       "      <td>Flu: The Story of the Great Influenza Pandemic of 1918 and the Search for the Virus That Caused It</td>\n",
       "      <td>Gina Bari Kolata</td>\n",
       "      <td>1999</td>\n",
       "      <td>Farrar Straus Giroux</td>\n",
       "      <td>http://images.amazon.com/images/P/0374157065.01.THUMBZZZ.jpg</td>\n",
       "      <td>http://images.amazon.com/images/P/0374157065.01.MZZZZZZZ.jpg</td>\n",
       "      <td>http://images.amazon.com/images/P/0374157065.01.LZZZZZZZ.jpg</td>\n",
       "    </tr>\n",
       "    <tr>\n",
       "      <th>4</th>\n",
       "      <td>0393045218</td>\n",
       "      <td>The Mummies of Urumchi</td>\n",
       "      <td>E. J. W. Barber</td>\n",
       "      <td>1999</td>\n",
       "      <td>W. W. Norton  Company</td>\n",
       "      <td>http://images.amazon.com/images/P/0393045218.01.THUMBZZZ.jpg</td>\n",
       "      <td>http://images.amazon.com/images/P/0393045218.01.MZZZZZZZ.jpg</td>\n",
       "      <td>http://images.amazon.com/images/P/0393045218.01.LZZZZZZZ.jpg</td>\n",
       "    </tr>\n",
       "  </tbody>\n",
       "</table>\n",
       "</div>"
      ],
      "text/plain": [
       "         ISBN  \\\n",
       "0  0195153448   \n",
       "1  0002005018   \n",
       "2  0060973129   \n",
       "3  0374157065   \n",
       "4  0393045218   \n",
       "\n",
       "                                                                                           Book-Title  \\\n",
       "0  Classical Mythology                                                                                  \n",
       "1  Clara Callan                                                                                         \n",
       "2  Decision in Normandy                                                                                 \n",
       "3  Flu: The Story of the Great Influenza Pandemic of 1918 and the Search for the Virus That Caused It   \n",
       "4  The Mummies of Urumchi                                                                               \n",
       "\n",
       "            Book-Author Year-Of-Publication                Publisher  \\\n",
       "0  Mark P. O. Morford    2002                Oxford University Press   \n",
       "1  Richard Bruce Wright  2001                HarperFlamingo Canada     \n",
       "2  Carlo D'Este          1991                HarperPerennial           \n",
       "3  Gina Bari Kolata      1999                Farrar Straus Giroux      \n",
       "4  E. J. W. Barber       1999                W. W. Norton  Company     \n",
       "\n",
       "                                                    Image-URL-S  \\\n",
       "0  http://images.amazon.com/images/P/0195153448.01.THUMBZZZ.jpg   \n",
       "1  http://images.amazon.com/images/P/0002005018.01.THUMBZZZ.jpg   \n",
       "2  http://images.amazon.com/images/P/0060973129.01.THUMBZZZ.jpg   \n",
       "3  http://images.amazon.com/images/P/0374157065.01.THUMBZZZ.jpg   \n",
       "4  http://images.amazon.com/images/P/0393045218.01.THUMBZZZ.jpg   \n",
       "\n",
       "                                                    Image-URL-M  \\\n",
       "0  http://images.amazon.com/images/P/0195153448.01.MZZZZZZZ.jpg   \n",
       "1  http://images.amazon.com/images/P/0002005018.01.MZZZZZZZ.jpg   \n",
       "2  http://images.amazon.com/images/P/0060973129.01.MZZZZZZZ.jpg   \n",
       "3  http://images.amazon.com/images/P/0374157065.01.MZZZZZZZ.jpg   \n",
       "4  http://images.amazon.com/images/P/0393045218.01.MZZZZZZZ.jpg   \n",
       "\n",
       "                                                    Image-URL-L  \n",
       "0  http://images.amazon.com/images/P/0195153448.01.LZZZZZZZ.jpg  \n",
       "1  http://images.amazon.com/images/P/0002005018.01.LZZZZZZZ.jpg  \n",
       "2  http://images.amazon.com/images/P/0060973129.01.LZZZZZZZ.jpg  \n",
       "3  http://images.amazon.com/images/P/0374157065.01.LZZZZZZZ.jpg  \n",
       "4  http://images.amazon.com/images/P/0393045218.01.LZZZZZZZ.jpg  "
      ]
     },
     "execution_count": 9,
     "metadata": {},
     "output_type": "execute_result"
    }
   ],
   "source": [
    "books.head()"
   ]
  },
  {
   "cell_type": "markdown",
   "metadata": {},
   "source": [
    "Последние три признака не являются информативными, поскольку представляют собой ссылки на картинки обложек книг разных размеров. Их можно удалить:"
   ]
  },
  {
   "cell_type": "code",
   "execution_count": 10,
   "metadata": {
    "collapsed": true
   },
   "outputs": [],
   "source": [
    "books = books[['ISBN', 'Book-Title', 'Book-Author', 'Year-Of-Publication', 'Publisher']]"
   ]
  },
  {
   "cell_type": "code",
   "execution_count": 11,
   "metadata": {},
   "outputs": [
    {
     "name": "stdout",
     "output_type": "stream",
     "text": [
      "<class 'pandas.core.frame.DataFrame'>\n",
      "RangeIndex: 271379 entries, 0 to 271378\n",
      "Data columns (total 5 columns):\n",
      "ISBN                   271379 non-null object\n",
      "Book-Title             271379 non-null object\n",
      "Book-Author            271378 non-null object\n",
      "Year-Of-Publication    271379 non-null object\n",
      "Publisher              271377 non-null object\n",
      "dtypes: object(5)\n",
      "memory usage: 10.4+ MB\n"
     ]
    }
   ],
   "source": [
    "books.info()"
   ]
  },
  {
   "cell_type": "markdown",
   "metadata": {},
   "source": [
    "Гдянем теперь, нет ли каких-нибудь повторений среди этих книг:"
   ]
  },
  {
   "cell_type": "code",
   "execution_count": 12,
   "metadata": {},
   "outputs": [],
   "source": [
    "books_groupped = books.groupby('Book-Title').agg([np.array, len])"
   ]
  },
  {
   "cell_type": "code",
   "execution_count": 13,
   "metadata": {},
   "outputs": [
    {
     "data": {
      "text/html": [
       "<div>\n",
       "<style scoped>\n",
       "    .dataframe tbody tr th:only-of-type {\n",
       "        vertical-align: middle;\n",
       "    }\n",
       "\n",
       "    .dataframe tbody tr th {\n",
       "        vertical-align: top;\n",
       "    }\n",
       "\n",
       "    .dataframe thead tr th {\n",
       "        text-align: left;\n",
       "    }\n",
       "\n",
       "    .dataframe thead tr:last-of-type th {\n",
       "        text-align: right;\n",
       "    }\n",
       "</style>\n",
       "<table border=\"1\" class=\"dataframe\">\n",
       "  <thead>\n",
       "    <tr>\n",
       "      <th></th>\n",
       "      <th colspan=\"2\" halign=\"left\">ISBN</th>\n",
       "      <th colspan=\"2\" halign=\"left\">Book-Author</th>\n",
       "      <th colspan=\"2\" halign=\"left\">Year-Of-Publication</th>\n",
       "      <th colspan=\"2\" halign=\"left\">Publisher</th>\n",
       "    </tr>\n",
       "    <tr>\n",
       "      <th></th>\n",
       "      <th>array</th>\n",
       "      <th>len</th>\n",
       "      <th>array</th>\n",
       "      <th>len</th>\n",
       "      <th>array</th>\n",
       "      <th>len</th>\n",
       "      <th>array</th>\n",
       "      <th>len</th>\n",
       "    </tr>\n",
       "    <tr>\n",
       "      <th>Book-Title</th>\n",
       "      <th></th>\n",
       "      <th></th>\n",
       "      <th></th>\n",
       "      <th></th>\n",
       "      <th></th>\n",
       "      <th></th>\n",
       "      <th></th>\n",
       "      <th></th>\n",
       "    </tr>\n",
       "  </thead>\n",
       "  <tbody>\n",
       "    <tr>\n",
       "      <th>Selected Poems</th>\n",
       "      <td>[081120958X, 0811201465, 0679750800, 0060931744, 0517101548, 0520012984, 0871401541, 0060909897, 0571050190, 1550651498, 0333516265, 0679430830, 0940262193, 0802151027, 1852240954, 0679765654, 0906427851, 0520069358, 0156003961, 0395320461, 006093168X, 0679724834, 0394702956, 0811209512, 0670809179, 0460871501, 0571210767]</td>\n",
       "      <td>27</td>\n",
       "      <td>[William Carlos Williams, K. Patchen, Rita Dove, Gwendolyn Brooks, John Donne, Paul Verlaine, E. E. Cummings, Gwendolyn Brooks, T.           T Gunn, Ralph Gustafson, Thomas Hardy, Rita Dove, Kathleen Raine, Pablo Neruda, Jenny Joseph, Daniel Halpern, Denise Levertov, Robert Creeley, Carl Sandburg, Galway Kinnell, Edna St. Vincent Millay, W. H. Auden, R. Jeffers, Michael Mc Clure, John Ashbery, Elizabeth Barrett Browning, Simon Armitage]</td>\n",
       "      <td>27</td>\n",
       "      <td>[1985, 1957, 1993, 1999, 1994, 1970, 1994, 1963, 1962, 2001, 1989, 1993, 1989, 1961, 1992, 1996, 1986, 1991, 1996, 1983, 1999, 1989, 1963, 1986, 1985, 1992, 2001]</td>\n",
       "      <td>27</td>\n",
       "      <td>[New Directions Publishing Corporation, New Directions Publishing Corporation, Vintage Books USA, Perennial, Gramercy Books, University of California Press, Liveright Publishing Corporation, Harpercollins, Farrar Straus  Giroux, Vehicule Press, Macmillan, Pantheon Books, Rudolph Steiner Pr, Grove Press, Bloodaxe Books Ltd, Alfred A. Knopf, Bloodaxe Books Ltd, University of California Press, Harvest Books, Houghton Mifflin Company, Perennial, Vintage Books USA, Vintage Books USA, W W Norton  Co Inc, Penguin USA, Phoenix mass market p/bk, Faber and Faber Ltd]</td>\n",
       "      <td>27</td>\n",
       "    </tr>\n",
       "    <tr>\n",
       "      <th>Little Women</th>\n",
       "      <td>[185854176X, 0861782356, 0590203509, 0440447682, 1550134140, 0451529308, 0451518144, 0590437976, 0195813898, 0785788727, 0448110199, 0812523334, 0394562798, 1557042160, 0590433423, 0448054663, 0448023644, 0590404989, 0681400552, 1593081081, 1568651198, 0553211153, 0448172569, 0590225375]</td>\n",
       "      <td>24</td>\n",
       "      <td>[Louisa M. Atcott, Louisa May Alcott, Louisa May Alcott, Louisa May Alcott, Louisa May Alcott, Louisa May Alcott, Louisa May Alcott, Louisa May Alcott, Alcott, Louisa May Alcott, Louisa May Alcott, Louisa May Alcott, Louisa May Alcott, Laurie Lawlor, Louisa May Alcott, Louisa May Alcott, Louisa May Alcott, Louisa May Alcott, Louisa May Alcott, Louisa May Alcott, Louisa May Alcott, Louisa May Alcott, Louisa May Alcott, Louisa May Alcott]</td>\n",
       "      <td>24</td>\n",
       "      <td>[1995, 0, 1994, 1990, 0, 2004, 1983, 1992, 1985, 1999, 1981, 1994, 1988, 1994, 1989, 1970, 1976, 1987, 1986, 2004, 1995, 1983, 1978, 1994]</td>\n",
       "      <td>24</td>\n",
       "      <td>[Brimax Books Ltd, Octopus Publising Group Plc, Scholastic, Yearling Books, Firefly Books Ltd, Signet Classics, Signet Book, Scholastic, Oxford University Press, Sagebrush Bound, Grosset  Dunlap, Tor Books, Alfred A. Knopf, Newmarket Press, Scholastic, Price Stern Sloan Pub (J), Price Stern Sloan Pub (J), Scholastic, Borders Press, Barnes  Noble Books-Imports, Doubleday Books, Bantam, Berkley Pub Group (Mm), Little Brown and Company]</td>\n",
       "      <td>24</td>\n",
       "    </tr>\n",
       "    <tr>\n",
       "      <th>Wuthering Heights</th>\n",
       "      <td>[0553212583, 0553211412, 0812505166, 0553210211, 0439228913, 1566193087, 0590460307, 0140171002, 0880299185, 0451519582, 0706430131, 0141305479, 0451521196, 0817221999, 0894714805, 0395051029, 0895771594, 0312138946, 1570421161, 0804900116, 0451516508]</td>\n",
       "      <td>21</td>\n",
       "      <td>[EMILY BRONTE, Emily Bronte, Emily Bronte, Emily Bronte, Emily Bronte, Emily Bronte, Emily Bronte, Emily Bronte, Emily Bronte, Emily Bronte, Emily Bronte, Emily Bronte, Emily Bronte, Emily Bronte, Emily Bronte, Emily Bronte, Emily Bronte, Emily Bronte, Emily Bronte, Emily Bronte, Emily Bronte]</td>\n",
       "      <td>21</td>\n",
       "      <td>[1983, 1983, 1989, 1981, 2003, 1994, 1992, 1992, 1992, 1959, 0, 1999, 1959, 1988, 1986, 1956, 1982, 2000, 1994, 1964, 1959]</td>\n",
       "      <td>21</td>\n",
       "      <td>[Bantam, Bantam, Tor Classics, Bantam Books, Scholastic Paperbacks, Dorset Press, Scholastic Paperbacks (Mm), Penguin Books Ltd, Barnes  Noble, Signet Book, Octopus Books, Puffin Books, Signet Book, Steck-Vaughn, Running Press Book Publishers, Houghton Mifflin Company, Readers Digest Assn, St. Martin's Press, Time Warner Audio Major, Peter Smith Publisher Inc, Signet Book]</td>\n",
       "      <td>21</td>\n",
       "    </tr>\n",
       "    <tr>\n",
       "      <th>The Secret Garden</th>\n",
       "      <td>[0812505018, 0590433466, 006440188X, 0590471724, 0440977096, 0879236493, 055321201X, 0439099390, 0440777062, 0812519108, 0451525817, 0451524179, 0397321651, 0451520807, 0440477093, 1569874115, 0453008402, 1569873925, 0590407201, 0340611839]</td>\n",
       "      <td>20</td>\n",
       "      <td>[Frances Hodgson Burnett, Frances H. Burnett, Frances Hodgson Burnett, M.J. Carr, Frances Hodgson Burnett, Frances Hodgson Burnett, Frances H. Burnett, Frances Hodgson Burnett, Frances Hodgson Burnett, Frances Hodgson Burnett, Frances Hodgson Burnett, Frances Hodgson Burnett, Frances Hodgson Burnett, Frances Hodgson Burnett, Frances H. Burnett, Frances Hodgson Burnett, Frances Hodgson Burnett, Frances Hodgson Burnett, Frances Hodgson Burnett, Frances Hodgson Burnett]</td>\n",
       "      <td>20</td>\n",
       "      <td>[1989, 1997, 1998, 1993, 1989, 1987, 1987, 1999, 1979, 1991, 1994, 1994, 1998, 1987, 1990, 0, 1993, 0, 1987, 1994]</td>\n",
       "      <td>20</td>\n",
       "      <td>[Tor Books, Scholastic, HarperTrophy, Scholastic Paperbacks (Mm), Laure Leaf, David R. Godine Publisher, Bantam, Scholastic, Dell Publishing, Tor Books (Mm), Signet Classics, Signet Classics, HarperCollins, Signet Book, Yearling Books, Landoll, Highbridge Audio, Landoll, Scholastic, Hodder Children's Books]</td>\n",
       "      <td>20</td>\n",
       "    </tr>\n",
       "    <tr>\n",
       "      <th>Dracula</th>\n",
       "      <td>[156619301X, 055321148X, 9875021245, 0140052801, 0451175816, 0880299010, 8481301183, 1562542621, 0515053473, 0863221432, 0453007864, 0439101344, 8401492009, 0312863586, 0893757829, 014017186X, 1404336540, 8448700058, 0812504429, 0573608229]</td>\n",
       "      <td>20</td>\n",
       "      <td>[Bram Stoker, Bram Stoker, Bram Stoker, Bram Stoker, Bram Stoker, Bram Stoker, Bram Stocker, Emily Hutchinson, Bram Stoker, Bram Stoker, Bram Stoker, Bram Stoker, Bram Stoker, Bram Stoker, Bram Stoker, Bram Stoker, Bram Stoker, Bram Stoker, Books Tor, Hamilton Deane]</td>\n",
       "      <td>20</td>\n",
       "      <td>[1994, 1983, 2004, 1992, 1992, 1992, 2001, 1998, 1979, 1992, 1992, 2001, 1993, 1997, 1993, 1992, 2002, 1995, 1990, 1999]</td>\n",
       "      <td>20</td>\n",
       "      <td>[Dorset Press, Bantam, Distal, Penguin USA, New Amer Library Classics, Barnes Noble Books, Colleccion Millenium, Saddleback Publishing, Inc., Berkley Pub Group (Mm), Brandon/Mount Eagle, Penguin Highbridge Audio, Scholastic Paperbacks (Mm), Plaza  Janes Editores, S.A., Tor Books, Troll Communications, Penguin Books Ltd, IndyPublish.com, Altaya, Tor Books, Samuel French]</td>\n",
       "      <td>20</td>\n",
       "    </tr>\n",
       "    <tr>\n",
       "      <th>Adventures of Huckleberry Finn</th>\n",
       "      <td>[0835902242, 059043389X, 0451519124, 0451523733, 0448110008, 0520237714, 0590408011, 0448058006, 0679448896, 0449912728, 0804900043, 0395051142, 0810200627, 0451516737, 0881421073, 0448149222, 0142500984, 1572701110, 0060806125, 0060467215]</td>\n",
       "      <td>20</td>\n",
       "      <td>[Mark Twain, Mark Twain, Mark Twain, Mark Twain, Mark Twain, Mark Twain, Mark Twain, Mark Twain, Mark Twain, Mark Twain, Mark Twain, Mark Twain, Mark Twain, Mark Twain, Mark Twain, Mark Twain, Mark Twain, Mark Twain, Mark Twain, Mark Twain]</td>\n",
       "      <td>20</td>\n",
       "      <td>[1992, 1987, 1959, 1959, 1981, 2002, 1987, 1970, 1996, 1997, 1992, 1980, 1962, 1959, 1973, 1978, 2003, 1999, 1965, 1987]</td>\n",
       "      <td>20</td>\n",
       "      <td>[Globe Fearon, Scholastic, Signet Book, New Amer Library Classics, Price Stern Sloan Pub (J), University of California Press, Scholastic, Grosset  Dunlap, Random House Inc, Ballantine Books, Peter Smith Publisher Inc, Houghton Mifflin Company, Harpercollins Juvenile Books, Signet Book, Soundelux Audio Publishing, Putnam Pub Group, Puffin Books, Audio Partners, Harpercollins Juvenile Books, Harper  Row]</td>\n",
       "      <td>20</td>\n",
       "    </tr>\n",
       "    <tr>\n",
       "      <th>Jane Eyre</th>\n",
       "      <td>[0451518845, 0451523326, 1566193028, 156619024X, 8426102069, 0553210203, 0460012878, 0141305371, 2253004359, 0812523377, 0809598949, 3548301231, 0517668432, 1853268348, 2266083252, 0451515560, 0582528259, 1590071212, 843761449X]</td>\n",
       "      <td>19</td>\n",
       "      <td>[Charlotte Bronte, Charlotte Bronte, Charlotte Bronte, Charlotte Bronte, Charlotte Bronte, Charlotte Bronte, Charlotte Bronte, Charlotte Bronte, Charlotte BrontГ?В«, Charlotte Bronte, Charlotte Bronte, C Bronte, Charlotte Bronte, Charlotte Bronte, Charlotte BrontГ?В«, Charlotte Bronte, Charlotte Bronte, Charlotte Bronte, Charlotte Bronte]</td>\n",
       "      <td>19</td>\n",
       "      <td>[1999, 1988, 1994, 0, 1997, 1981, 1976, 1999, 1991, 1994, 2004, 0, 1988, 0, 1999, 1981, 1978, 2002, 1998]</td>\n",
       "      <td>19</td>\n",
       "      <td>[New Amer Library Classics, Signet Classics, Dorset Press, Barnes Noble Classics, Juventud, Bantam Books, J m Dent  Sons Ltd, Puffin Books, LGF, Tor Books, Wildside Press, Ullstein-Taschenbuch-Verlag, Zweigniederlassung der Ullstein Buchverlage GmbH, Random House Value Publishing, Universal Sales Marketing, Pocket, Signet Book, Addison-Wesley Pub Co, New Millenium Audio, Ediciones Catedra S.A.]</td>\n",
       "      <td>19</td>\n",
       "    </tr>\n",
       "    <tr>\n",
       "      <th>The Night Before Christmas</th>\n",
       "      <td>[0505523183, 0837885043, 155858465X, 0307109739, 1569872848, 0895424983, 030714190X, 0307102025, 0517185210, 0671684086, 0843134453, 0694004243, 0060283807, 0689840535, 0786806087, 0307137503, 0505521474, 0394807413]</td>\n",
       "      <td>18</td>\n",
       "      <td>[Victoria Alexander, Clement Clarke Moore, Clement C. Moore, Clement C. Moore, Clement Clarke Moore, Clement Clark Moore, Clement C. Moore, Clement C. Moore, CLEMENT C. MOORE, Clement Clarke Moore, Kees Moerbeek, Clement C. Moore, Clement Clarke Moore, Clement Clarke Moore, William Wegman, Clement Moore, Victoria Alexander, Clement Clarke Moore]</td>\n",
       "      <td>18</td>\n",
       "      <td>[1998, 1994, 1995, 1950, 1995, 1984, 1992, 1988, 2000, 1989, 1992, 1992, 1999, 2001, 2000, 1986, 1996, 1962]</td>\n",
       "      <td>18</td>\n",
       "      <td>[Love Spell, C.R. Gibson Company, North-South Books, Merrigold Press, Landoll, Ideals Publications, Random House Childrens Books, Golden Books, Derrydale, Little Simon, Price Stern Sloan, HarperCollins Publishers, HarperCollins Publishers, Atheneum/Anne Schwartz Books, Hyperion Books for Children, Golden Books, Leisure Books, Random House Children's Books]</td>\n",
       "      <td>18</td>\n",
       "    </tr>\n",
       "    <tr>\n",
       "      <th>Pride and Prejudice</th>\n",
       "      <td>[055321215X, 0553213105, 0451523652, 1566190932, 0451525884, 0451519167, 0893756113, 0553210181, 0192815032, 0140238212, 0812523369, 0804900019, 0451520750, 0451516621, 0451522265, 0393997715, 0582529131, 3190025355]</td>\n",
       "      <td>18</td>\n",
       "      <td>[Jane Austen, Jane Austen, Jane Austen, Jane Austen, Jane Austen, Jane Austen, Jane Austen, Jane Austen, Jane Austen, Jane Austen, Jane Austen, Jane Austen, Jane Austen, Jane Austen, Jane Austen, Jane Austen, Jane Austen, Jane Austen]</td>\n",
       "      <td>18</td>\n",
       "      <td>[1983, 1981, 1988, 1993, 1996, 1961, 1997, 1981, 1987, 1995, 1994, 1980, 1961, 1961, 1961, 0, 1985, 1999]</td>\n",
       "      <td>18</td>\n",
       "      <td>[Bantam, Bantam, New Amer Library Classics, Barnes Noble Classics, Signet Book, Signet Book, Troll Communications, Bantam Books, Oxford University Press, Penguin Books Ltd, Tor Books, Airmont Pub Co, Signet Book, Signet Book, Signet Book, R.S. Means Company, Addison-Wesley, Max Hueber Verlag]</td>\n",
       "      <td>18</td>\n",
       "    </tr>\n",
       "    <tr>\n",
       "      <th>Great Expectations</th>\n",
       "      <td>[0689839618, 0140434895, 0451525248, 0141309326, 1566194415, 0812563115, 0140059342, 0451520769, 0877207259, 0553211137, 0771557000, 1551111748, 0451519329, 0553212346, 1590861531, 080490068X, 0802131557]</td>\n",
       "      <td>17</td>\n",
       "      <td>[Charles Dickens, Charles Dickens, Charles Dickens, Charles Dickens, Charles Dickens, Charles Dickens, Charles Dickens, Charles Dickens, Charles Dickens, Charles Dickens, Charles Dickens, Charles Dickens, Charles Dickens, Charles Dickens, Charles Dickens, Charles Dickens, Kathy Acker]</td>\n",
       "      <td>17</td>\n",
       "      <td>[2000, 1998, 1986, 2000, 0, 1998, 1981, 1981, 1970, 1982, 0, 1998, 1981, 1982, 2002, 1970, 1989]</td>\n",
       "      <td>17</td>\n",
       "      <td>[Aladdin, Penguin USA (Paper), Signet Classics, Penguin Putnam~trade, Barnes Noble, Tor Books, Penguin Books Ltd, Signet Book, Amsco School Pubns Inc, Bantam, Gage Publishing Ltd, Broadview Press, Signet Book, Bantam, Brilliance Audio, Airmont Pub Co, Grove Press]</td>\n",
       "      <td>17</td>\n",
       "    </tr>\n",
       "    <tr>\n",
       "      <th>Masquerade</th>\n",
       "      <td>[042516019X, 0316171476, 080523747X, 0821728334, 0897330137, 0425117405, 0345366204, 0786015047, 0312969899, 0786004681, 0316171425, 0385479611, 084394577X, 0312986033, 0451407016, 0786000805]</td>\n",
       "      <td>16</td>\n",
       "      <td>[Gayle Lynds, Janet Dailey, Kit Williams, Lowell Cauffiel, Sarah Hobson, Serena Richards, William X. Kienzle, Lowell Cauffiel, Walter Satterthwait, Lowell Cauffiel, Janet Dailey, Gayle Lynds, Katherine Deauxville, Gayle Lynds, Mary Kingsley, Alexa Smart]</td>\n",
       "      <td>16</td>\n",
       "      <td>[1997, 1991, 1984, 1989, 1982, 1989, 1991, 2001, 1999, 1997, 1990, 1996, 1999, 2004, 1997, 1994]</td>\n",
       "      <td>16</td>\n",
       "      <td>[Berkley Publishing Group, Little, Brown, Schocken Books, Zebra Books, Academy Chicago Publishers, Berkley Pub Group, Fawcett Books, Pinnacle Books (Mm), St. Martin's Paperbacks, Pinnacle Books, Little Brown  Co, Bantam Dell Pub Group, Leisure Books, St. Martin's Paperbacks, Topaz, Pinnacle Books]</td>\n",
       "      <td>16</td>\n",
       "    </tr>\n",
       "    <tr>\n",
       "      <th>Black Beauty</th>\n",
       "      <td>[0440403553, 0590423541, 1588278603, 0439228905, 0874065038, 0394965752, 1566195918, 0812504283, 1569602115, 0307122174, 0451522958, 0140369252, 096230722X, 0517618842, 0897110080, 0895310619]</td>\n",
       "      <td>16</td>\n",
       "      <td>[Anna Sewell, Anna Sewell, Anna Sewell, Anna Sewell, Anna Sewell, Robin McKinley, Anna Sewell, Anna Sewell, Anna Sewell, Anna Sewell, Anna Sewell, Anna Sewell, Quinn Currie, Anna Sewell, Anna Sewell, Anna Sewell]</td>\n",
       "      <td>16</td>\n",
       "      <td>[1990, 1989, 2002, 2003, 1990, 1986, 2001, 1989, 1994, 1970, 1986, 1995, 1990, 1987, 1975, 1981]</td>\n",
       "      <td>16</td>\n",
       "      <td>[Yearling Books, Scholastic, IndyPublish.com, Scholastic Paperbacks, Pages Publishing Group, Random House Children's Books, Barnes Noble Books, Tor Books, Book Essentials, Random House Childrens Books, Signet Book, Puffin Books, Storytellers Ink, Random House Value Publishing, Worlds Great Classics, Sharon Pubns]</td>\n",
       "      <td>16</td>\n",
       "    </tr>\n",
       "    <tr>\n",
       "      <th>Frankenstein</th>\n",
       "      <td>[0451511328, 0451520092, 0517118807, 8402074685, 0451183770, 0812504577, 1853268461, 014130541X, 1566190916, 0812551508, 0553211722, 0517668424, 1566191416, 044092717X, 8440619537, 2266003542]</td>\n",
       "      <td>16</td>\n",
       "      <td>[Mary Wollstonecraft Shelley, Mary Wollstonecraft Shelley, Mary Wollstonecraft Shelley, Mary Wollstonecraft Shelley, Mary Wollstonecraft Shelley, Mary Wollstonecraft Shelley, Mary Shelley, Mary Wollstonecraft Shelley, Mary Wollstonecraft Shelley, Mary Wollstonecraft Shelley, Mary Wollstonecraft Shelley, Mary Wollstonecraft Shelley, Wollstonecraft Mary Shelley, Mary Wollstonecraft Shelley, Mary W. Shelly, Mary Shelley]</td>\n",
       "      <td>16</td>\n",
       "      <td>[1965, 1965, 1994, 1983, 1994, 1989, 0, 1999, 1996, 1994, 1984, 1988, 1993, 1982, 2000, 0]</td>\n",
       "      <td>16</td>\n",
       "      <td>[Signet Book, Signet Book, Gramercy Books, Lectorum Pubns (J), Signet Book, Tor Books, Universal Sales Marketing, Puffin Books, Barnes  Noble, Tor Books, Bantam, Portland House, Dorset Press, Bantam Books (Mm), Ediciones B, Presses Pocket French]</td>\n",
       "      <td>16</td>\n",
       "    </tr>\n",
       "    <tr>\n",
       "      <th>The Gift</th>\n",
       "      <td>[0440221315, 0440128757, 0671702505, 038531292X, 0821746480, 0917053087, 0446364673, 0312864035, 0312864027, 0886825075, 0805958061, 1885628501, 0821759167, 0553472852, 0891078215]</td>\n",
       "      <td>15</td>\n",
       "      <td>[DANIELLE STEEL, Madeena S. Nolan, Julie Garwood, Danielle Steel, Constance O'Day-Flannery, Scott Edelman, Kirk Douglas, Patrick O'Leary, Patrick O'Leary, John Steinbeck, Norma Elena D' Aguilar, Jefferson Carter, Constance O'Day-Flannery, Danielle Steel, R. Kent Hughes]</td>\n",
       "      <td>15</td>\n",
       "      <td>[1996, 1981, 1991, 1994, 1994, 1990, 1993, 1998, 1997, 1992, 2002, 1998, 1998, 1994, 1994]</td>\n",
       "      <td>15</td>\n",
       "      <td>[Dell, Dell Publishing, Pocket, Delacorte Press, Zebra Books, Space  Time, Warner Books, Tor Books, Tor Books, Creative Education (Sd), Dorrance Pub Co, Not Avail, Zebra Books, Random House Audio Publishing Group, Good News Pub]</td>\n",
       "      <td>15</td>\n",
       "    </tr>\n",
       "    <tr>\n",
       "      <th>Beloved</th>\n",
       "      <td>[0452280621, 0821747703, 0451161394, 8440656955, 0099760118, 1580601200, 0394535979, 0345293568, 0375404872, 0345327853, 0446601764, 0375405623, 0451156595, 0440213304, 8440635893]</td>\n",
       "      <td>15</td>\n",
       "      <td>[Toni Morrison, Phoebe Conn, Toni Morrison, Toni Morrison, Toni Morrison, Toni Morrison, TONI MORRISON, Bertrice Small, TONI MORRISON, BERTRICE SMALL, Stella Cameron, Toni Morrison, Toni Morrison, Antoinette Stockenberg, Toni Morrison]</td>\n",
       "      <td>15</td>\n",
       "      <td>[1998, 1994, 1991, 1995, 0, 1987, 1987, 1983, 1998, 1985, 1996, 1998, 1996, 1993, 1993]</td>\n",
       "      <td>15</td>\n",
       "      <td>[Plume Books, Zebra Books, New Amer Library, Ediciones B, Vintage Books, Collectible First Editions, Knopf, Ballantine Books, Random House Audio, Ballantine Books, Warner Vision, Knopf, Dutton Books, Dell Publishing Company, Ediciones B]</td>\n",
       "      <td>15</td>\n",
       "    </tr>\n",
       "    <tr>\n",
       "      <th>Emma</th>\n",
       "      <td>[0451523067, 055321019X, 0553212737, 0140258175, B000051WXP, 0760701652, 2253140732, 0460010247, 0553211595, 0681218894, 0749336269, 0553234315, 0749336412, 0786881836, 0760701660]</td>\n",
       "      <td>15</td>\n",
       "      <td>[Jane Austen, Jane Austen, JANE AUSTEN, Jane Austen, Jane Austen, Jane Austen, Jane Austen, Jane Austen, Jane Austen, Jane Austen, Jane Austen, Charlotte Bronte, Jane Austen, Jane Austen, Jane Austen]</td>\n",
       "      <td>15</td>\n",
       "      <td>[1994, 1981, 1984, 0, 0, 0, 1997, 1976, 1984, 0, 1996, 1983, 1996, 1996, 1996]</td>\n",
       "      <td>15</td>\n",
       "      <td>[New Amer Library Classics, Bantam Books, Bantam, Penguin Putnam~trade, Random House, Barnes Noble Books, LGF, J m Dent  Sons Ltd, Bantam, Hunter Publishing+inc, Mandarin, Bantam Books (Mm), Arrow, Hyperion Books, Barnes  Noble Inc.]</td>\n",
       "      <td>15</td>\n",
       "    </tr>\n",
       "    <tr>\n",
       "      <th>Nemesis</th>\n",
       "      <td>[0451200187, 0553286285, 0006170056, 0451402952, 0385247923, 0385266197, 0785796576, 039606423X, 0671542060, 0747407894, 8401496691, 0525248811, 0061003263, 9504905501]</td>\n",
       "      <td>14</td>\n",
       "      <td>[Agatha Christie, Isaac Asimov, Agatha Christie, Rosamond Smith, Isaac Asimov, Isaac Asimov, Isaac Asimov, Agatha Christie, Agatha Christie, Shaun Hutson, Isaac Asimov, Rosamond Smith, Agatha Christie, Agatha Christie]</td>\n",
       "      <td>14</td>\n",
       "      <td>[2004, 1990, 0, 1991, 1989, 1989, 1999, 1971, 1984, 1991, 1994, 1990, 1992, 2000]</td>\n",
       "      <td>14</td>\n",
       "      <td>[Signet Book, Bantam, Harpercollins Publisher, New Amer Library, Doubleday Books, Bantam Dell Pub Group, Sagebrush Bound, Dodd Mead, Pocket, Time Warner Books UK, Plaza  Janes Editores, S.A., Penguin USA, Harper Mass Market Paperbacks, Planeta]</td>\n",
       "      <td>14</td>\n",
       "    </tr>\n",
       "    <tr>\n",
       "      <th>Journey</th>\n",
       "      <td>[0449218473, 1592861512, 0440237025, 0385316879, 0553527525, 0394490185, 0590406280, 0394578260, 0446890499, 0771058667, 0842319662, 0440408091, 0385304277]</td>\n",
       "      <td>13</td>\n",
       "      <td>[James A. Michener, Robert Amoroso, Danielle Steel, Danielle Steel, Danielle Steel, Robert K. Massie, Joyce Carol Thomas, James A. Michener, R. Massie, Michener A., Myrna Grant, PATRICIA MACLACHLAN, Patricia MacLachlan]</td>\n",
       "      <td>13</td>\n",
       "      <td>[1994, 2003, 2001, 2000, 2000, 1975, 1990, 1989, 1978, 1989, 0, 1993, 1991]</td>\n",
       "      <td>13</td>\n",
       "      <td>[Fawcett Books, Publishamerica, Dell Publishing Company, Delacorte Press, Random House Audio Publishing Group, Knopf : distributed by Random House, Scholastic Paperbacks (Mm), Random House Inc, Warner Books, McClelland  Stewart, Tyndale House Publishers, Yearling, Delacorte Press]</td>\n",
       "      <td>13</td>\n",
       "    </tr>\n",
       "    <tr>\n",
       "      <th>Robinson Crusoe</th>\n",
       "      <td>[0762414197, 0451516060, 0812504828, 0451522362, 0140430075, 185326850X, 0590432850, 0689844085, 2877143201, 844062056X, 089434126X, 0760704015, 1561569119]</td>\n",
       "      <td>13</td>\n",
       "      <td>[Daniel Defoe, Daniel Defoe, Daniel De Foe, Daniel Defoe, Daniel Defoe, Daniel Defoe, Daniel Defoe, Daniel Defoe, Defoe, Daniel Defoe, Daniel Defoe, Daniel Defoe, Daniel Defoe]</td>\n",
       "      <td>13</td>\n",
       "      <td>[2002, 1981, 1989, 1995, 1998, 0, 1995, 2001, 1996, 1991, 1994, 0, 1998]</td>\n",
       "      <td>13</td>\n",
       "      <td>[Courage Books, Signet Book, Tor Books, Signet Classics, Penguin USA (Paper), Universal Sales Marketing, Scholastic, Aladdin, Distribooks Inc, Ediciones B, Facts on File Inc, Barnes Noble Books(imports, Kidsbooks]</td>\n",
       "      <td>13</td>\n",
       "    </tr>\n",
       "    <tr>\n",
       "      <th>The Secret</th>\n",
       "      <td>[0671744216, 0821767984, 0451186044, 0525940340, 0312866089, 0812571797, 0345465369, 1555472141, 0395353564, 0061080845, 1902881125, 1586481509, 0590416480]</td>\n",
       "      <td>13</td>\n",
       "      <td>[Julie Garwood, Kat Martin, Cynthia Victor, Cynthia Victor, Harold Robbins, Harold Robbins, EVA HOFFMAN, Adrian Malone, Adrian and Talley, Steven Malone, Penelope Thomas, Anna Enquist, Eva Hoffman, Carol Beach York]</td>\n",
       "      <td>13</td>\n",
       "      <td>[1992, 2001, 1998, 1997, 2000, 2001, 2004, 1988, 1984, 1993, 2000, 2002, 1984]</td>\n",
       "      <td>13</td>\n",
       "      <td>[Pocket, Zebra Books, Onyx Books, Penguin USA, Forge, Forge, Ballantine Books, Critics Choice Paperbacks/Lorevan Publishing, Houghton Mifflin, Harper Mass Market Paperbacks (Mm), Toby Press, PublicAffairs, Scholastic Paperbacks (Mm)]</td>\n",
       "      <td>13</td>\n",
       "    </tr>\n",
       "  </tbody>\n",
       "</table>\n",
       "</div>"
      ],
      "text/plain": [
       "                                                                                                                                                                                                                                                                                                                                                                ISBN  \\\n",
       "                                                                                                                                                                                                                                                                                                                                                               array   \n",
       "Book-Title                                                                                                                                                                                                                                                                                                                                                             \n",
       "Selected Poems                  [081120958X, 0811201465, 0679750800, 0060931744, 0517101548, 0520012984, 0871401541, 0060909897, 0571050190, 1550651498, 0333516265, 0679430830, 0940262193, 0802151027, 1852240954, 0679765654, 0906427851, 0520069358, 0156003961, 0395320461, 006093168X, 0679724834, 0394702956, 0811209512, 0670809179, 0460871501, 0571210767]   \n",
       "Little Women                    [185854176X, 0861782356, 0590203509, 0440447682, 1550134140, 0451529308, 0451518144, 0590437976, 0195813898, 0785788727, 0448110199, 0812523334, 0394562798, 1557042160, 0590433423, 0448054663, 0448023644, 0590404989, 0681400552, 1593081081, 1568651198, 0553211153, 0448172569, 0590225375]                                       \n",
       "Wuthering Heights               [0553212583, 0553211412, 0812505166, 0553210211, 0439228913, 1566193087, 0590460307, 0140171002, 0880299185, 0451519582, 0706430131, 0141305479, 0451521196, 0817221999, 0894714805, 0395051029, 0895771594, 0312138946, 1570421161, 0804900116, 0451516508]                                                                           \n",
       "The Secret Garden               [0812505018, 0590433466, 006440188X, 0590471724, 0440977096, 0879236493, 055321201X, 0439099390, 0440777062, 0812519108, 0451525817, 0451524179, 0397321651, 0451520807, 0440477093, 1569874115, 0453008402, 1569873925, 0590407201, 0340611839]                                                                                       \n",
       "Dracula                         [156619301X, 055321148X, 9875021245, 0140052801, 0451175816, 0880299010, 8481301183, 1562542621, 0515053473, 0863221432, 0453007864, 0439101344, 8401492009, 0312863586, 0893757829, 014017186X, 1404336540, 8448700058, 0812504429, 0573608229]                                                                                       \n",
       "Adventures of Huckleberry Finn  [0835902242, 059043389X, 0451519124, 0451523733, 0448110008, 0520237714, 0590408011, 0448058006, 0679448896, 0449912728, 0804900043, 0395051142, 0810200627, 0451516737, 0881421073, 0448149222, 0142500984, 1572701110, 0060806125, 0060467215]                                                                                       \n",
       "Jane Eyre                       [0451518845, 0451523326, 1566193028, 156619024X, 8426102069, 0553210203, 0460012878, 0141305371, 2253004359, 0812523377, 0809598949, 3548301231, 0517668432, 1853268348, 2266083252, 0451515560, 0582528259, 1590071212, 843761449X]                                                                                                   \n",
       "The Night Before Christmas      [0505523183, 0837885043, 155858465X, 0307109739, 1569872848, 0895424983, 030714190X, 0307102025, 0517185210, 0671684086, 0843134453, 0694004243, 0060283807, 0689840535, 0786806087, 0307137503, 0505521474, 0394807413]                                                                                                               \n",
       "Pride and Prejudice             [055321215X, 0553213105, 0451523652, 1566190932, 0451525884, 0451519167, 0893756113, 0553210181, 0192815032, 0140238212, 0812523369, 0804900019, 0451520750, 0451516621, 0451522265, 0393997715, 0582529131, 3190025355]                                                                                                               \n",
       "Great Expectations              [0689839618, 0140434895, 0451525248, 0141309326, 1566194415, 0812563115, 0140059342, 0451520769, 0877207259, 0553211137, 0771557000, 1551111748, 0451519329, 0553212346, 1590861531, 080490068X, 0802131557]                                                                                                                           \n",
       "Masquerade                      [042516019X, 0316171476, 080523747X, 0821728334, 0897330137, 0425117405, 0345366204, 0786015047, 0312969899, 0786004681, 0316171425, 0385479611, 084394577X, 0312986033, 0451407016, 0786000805]                                                                                                                                       \n",
       "Black Beauty                    [0440403553, 0590423541, 1588278603, 0439228905, 0874065038, 0394965752, 1566195918, 0812504283, 1569602115, 0307122174, 0451522958, 0140369252, 096230722X, 0517618842, 0897110080, 0895310619]                                                                                                                                       \n",
       "Frankenstein                    [0451511328, 0451520092, 0517118807, 8402074685, 0451183770, 0812504577, 1853268461, 014130541X, 1566190916, 0812551508, 0553211722, 0517668424, 1566191416, 044092717X, 8440619537, 2266003542]                                                                                                                                       \n",
       "The Gift                        [0440221315, 0440128757, 0671702505, 038531292X, 0821746480, 0917053087, 0446364673, 0312864035, 0312864027, 0886825075, 0805958061, 1885628501, 0821759167, 0553472852, 0891078215]                                                                                                                                                   \n",
       "Beloved                         [0452280621, 0821747703, 0451161394, 8440656955, 0099760118, 1580601200, 0394535979, 0345293568, 0375404872, 0345327853, 0446601764, 0375405623, 0451156595, 0440213304, 8440635893]                                                                                                                                                   \n",
       "Emma                            [0451523067, 055321019X, 0553212737, 0140258175, B000051WXP, 0760701652, 2253140732, 0460010247, 0553211595, 0681218894, 0749336269, 0553234315, 0749336412, 0786881836, 0760701660]                                                                                                                                                   \n",
       "Nemesis                         [0451200187, 0553286285, 0006170056, 0451402952, 0385247923, 0385266197, 0785796576, 039606423X, 0671542060, 0747407894, 8401496691, 0525248811, 0061003263, 9504905501]                                                                                                                                                               \n",
       "Journey                         [0449218473, 1592861512, 0440237025, 0385316879, 0553527525, 0394490185, 0590406280, 0394578260, 0446890499, 0771058667, 0842319662, 0440408091, 0385304277]                                                                                                                                                                           \n",
       "Robinson Crusoe                 [0762414197, 0451516060, 0812504828, 0451522362, 0140430075, 185326850X, 0590432850, 0689844085, 2877143201, 844062056X, 089434126X, 0760704015, 1561569119]                                                                                                                                                                           \n",
       "The Secret                      [0671744216, 0821767984, 0451186044, 0525940340, 0312866089, 0812571797, 0345465369, 1555472141, 0395353564, 0061080845, 1902881125, 1586481509, 0590416480]                                                                                                                                                                           \n",
       "\n",
       "                                    \\\n",
       "                               len   \n",
       "Book-Title                           \n",
       "Selected Poems                  27   \n",
       "Little Women                    24   \n",
       "Wuthering Heights               21   \n",
       "The Secret Garden               20   \n",
       "Dracula                         20   \n",
       "Adventures of Huckleberry Finn  20   \n",
       "Jane Eyre                       19   \n",
       "The Night Before Christmas      18   \n",
       "Pride and Prejudice             18   \n",
       "Great Expectations              17   \n",
       "Masquerade                      16   \n",
       "Black Beauty                    16   \n",
       "Frankenstein                    16   \n",
       "The Gift                        15   \n",
       "Beloved                         15   \n",
       "Emma                            15   \n",
       "Nemesis                         14   \n",
       "Journey                         13   \n",
       "Robinson Crusoe                 13   \n",
       "The Secret                      13   \n",
       "\n",
       "                                                                                                                                                                                                                                                                                                                                                                                                                                                                                                            Book-Author  \\\n",
       "                                                                                                                                                                                                                                                                                                                                                                                                                                                                                                                  array   \n",
       "Book-Title                                                                                                                                                                                                                                                                                                                                                                                                                                                                                                                \n",
       "Selected Poems                  [William Carlos Williams, K. Patchen, Rita Dove, Gwendolyn Brooks, John Donne, Paul Verlaine, E. E. Cummings, Gwendolyn Brooks, T.           T Gunn, Ralph Gustafson, Thomas Hardy, Rita Dove, Kathleen Raine, Pablo Neruda, Jenny Joseph, Daniel Halpern, Denise Levertov, Robert Creeley, Carl Sandburg, Galway Kinnell, Edna St. Vincent Millay, W. H. Auden, R. Jeffers, Michael Mc Clure, John Ashbery, Elizabeth Barrett Browning, Simon Armitage]                                  \n",
       "Little Women                    [Louisa M. Atcott, Louisa May Alcott, Louisa May Alcott, Louisa May Alcott, Louisa May Alcott, Louisa May Alcott, Louisa May Alcott, Louisa May Alcott, Alcott, Louisa May Alcott, Louisa May Alcott, Louisa May Alcott, Louisa May Alcott, Laurie Lawlor, Louisa May Alcott, Louisa May Alcott, Louisa May Alcott, Louisa May Alcott, Louisa May Alcott, Louisa May Alcott, Louisa May Alcott, Louisa May Alcott, Louisa May Alcott, Louisa May Alcott]                                  \n",
       "Wuthering Heights               [EMILY BRONTE, Emily Bronte, Emily Bronte, Emily Bronte, Emily Bronte, Emily Bronte, Emily Bronte, Emily Bronte, Emily Bronte, Emily Bronte, Emily Bronte, Emily Bronte, Emily Bronte, Emily Bronte, Emily Bronte, Emily Bronte, Emily Bronte, Emily Bronte, Emily Bronte, Emily Bronte, Emily Bronte]                                                                                                                                                                                    \n",
       "The Secret Garden               [Frances Hodgson Burnett, Frances H. Burnett, Frances Hodgson Burnett, M.J. Carr, Frances Hodgson Burnett, Frances Hodgson Burnett, Frances H. Burnett, Frances Hodgson Burnett, Frances Hodgson Burnett, Frances Hodgson Burnett, Frances Hodgson Burnett, Frances Hodgson Burnett, Frances Hodgson Burnett, Frances Hodgson Burnett, Frances H. Burnett, Frances Hodgson Burnett, Frances Hodgson Burnett, Frances Hodgson Burnett, Frances Hodgson Burnett, Frances Hodgson Burnett]   \n",
       "Dracula                         [Bram Stoker, Bram Stoker, Bram Stoker, Bram Stoker, Bram Stoker, Bram Stoker, Bram Stocker, Emily Hutchinson, Bram Stoker, Bram Stoker, Bram Stoker, Bram Stoker, Bram Stoker, Bram Stoker, Bram Stoker, Bram Stoker, Bram Stoker, Bram Stoker, Books Tor, Hamilton Deane]                                                                                                                                                                                                               \n",
       "Adventures of Huckleberry Finn  [Mark Twain, Mark Twain, Mark Twain, Mark Twain, Mark Twain, Mark Twain, Mark Twain, Mark Twain, Mark Twain, Mark Twain, Mark Twain, Mark Twain, Mark Twain, Mark Twain, Mark Twain, Mark Twain, Mark Twain, Mark Twain, Mark Twain, Mark Twain]                                                                                                                                                                                                                                          \n",
       "Jane Eyre                       [Charlotte Bronte, Charlotte Bronte, Charlotte Bronte, Charlotte Bronte, Charlotte Bronte, Charlotte Bronte, Charlotte Bronte, Charlotte Bronte, Charlotte BrontГ?В«, Charlotte Bronte, Charlotte Bronte, C Bronte, Charlotte Bronte, Charlotte Bronte, Charlotte BrontГ?В«, Charlotte Bronte, Charlotte Bronte, Charlotte Bronte, Charlotte Bronte]                                                                                                                                      \n",
       "The Night Before Christmas      [Victoria Alexander, Clement Clarke Moore, Clement C. Moore, Clement C. Moore, Clement Clarke Moore, Clement Clark Moore, Clement C. Moore, Clement C. Moore, CLEMENT C. MOORE, Clement Clarke Moore, Kees Moerbeek, Clement C. Moore, Clement Clarke Moore, Clement Clarke Moore, William Wegman, Clement Moore, Victoria Alexander, Clement Clarke Moore]                                                                                                                               \n",
       "Pride and Prejudice             [Jane Austen, Jane Austen, Jane Austen, Jane Austen, Jane Austen, Jane Austen, Jane Austen, Jane Austen, Jane Austen, Jane Austen, Jane Austen, Jane Austen, Jane Austen, Jane Austen, Jane Austen, Jane Austen, Jane Austen, Jane Austen]                                                                                                                                                                                                                                                \n",
       "Great Expectations              [Charles Dickens, Charles Dickens, Charles Dickens, Charles Dickens, Charles Dickens, Charles Dickens, Charles Dickens, Charles Dickens, Charles Dickens, Charles Dickens, Charles Dickens, Charles Dickens, Charles Dickens, Charles Dickens, Charles Dickens, Charles Dickens, Kathy Acker]                                                                                                                                                                                             \n",
       "Masquerade                      [Gayle Lynds, Janet Dailey, Kit Williams, Lowell Cauffiel, Sarah Hobson, Serena Richards, William X. Kienzle, Lowell Cauffiel, Walter Satterthwait, Lowell Cauffiel, Janet Dailey, Gayle Lynds, Katherine Deauxville, Gayle Lynds, Mary Kingsley, Alexa Smart]                                                                                                                                                                                                                            \n",
       "Black Beauty                    [Anna Sewell, Anna Sewell, Anna Sewell, Anna Sewell, Anna Sewell, Robin McKinley, Anna Sewell, Anna Sewell, Anna Sewell, Anna Sewell, Anna Sewell, Anna Sewell, Quinn Currie, Anna Sewell, Anna Sewell, Anna Sewell]                                                                                                                                                                                                                                                                      \n",
       "Frankenstein                    [Mary Wollstonecraft Shelley, Mary Wollstonecraft Shelley, Mary Wollstonecraft Shelley, Mary Wollstonecraft Shelley, Mary Wollstonecraft Shelley, Mary Wollstonecraft Shelley, Mary Shelley, Mary Wollstonecraft Shelley, Mary Wollstonecraft Shelley, Mary Wollstonecraft Shelley, Mary Wollstonecraft Shelley, Mary Wollstonecraft Shelley, Wollstonecraft Mary Shelley, Mary Wollstonecraft Shelley, Mary W. Shelly, Mary Shelley]                                                     \n",
       "The Gift                        [DANIELLE STEEL, Madeena S. Nolan, Julie Garwood, Danielle Steel, Constance O'Day-Flannery, Scott Edelman, Kirk Douglas, Patrick O'Leary, Patrick O'Leary, John Steinbeck, Norma Elena D' Aguilar, Jefferson Carter, Constance O'Day-Flannery, Danielle Steel, R. Kent Hughes]                                                                                                                                                                                                            \n",
       "Beloved                         [Toni Morrison, Phoebe Conn, Toni Morrison, Toni Morrison, Toni Morrison, Toni Morrison, TONI MORRISON, Bertrice Small, TONI MORRISON, BERTRICE SMALL, Stella Cameron, Toni Morrison, Toni Morrison, Antoinette Stockenberg, Toni Morrison]                                                                                                                                                                                                                                               \n",
       "Emma                            [Jane Austen, Jane Austen, JANE AUSTEN, Jane Austen, Jane Austen, Jane Austen, Jane Austen, Jane Austen, Jane Austen, Jane Austen, Jane Austen, Charlotte Bronte, Jane Austen, Jane Austen, Jane Austen]                                                                                                                                                                                                                                                                                  \n",
       "Nemesis                         [Agatha Christie, Isaac Asimov, Agatha Christie, Rosamond Smith, Isaac Asimov, Isaac Asimov, Isaac Asimov, Agatha Christie, Agatha Christie, Shaun Hutson, Isaac Asimov, Rosamond Smith, Agatha Christie, Agatha Christie]                                                                                                                                                                                                                                                                \n",
       "Journey                         [James A. Michener, Robert Amoroso, Danielle Steel, Danielle Steel, Danielle Steel, Robert K. Massie, Joyce Carol Thomas, James A. Michener, R. Massie, Michener A., Myrna Grant, PATRICIA MACLACHLAN, Patricia MacLachlan]                                                                                                                                                                                                                                                               \n",
       "Robinson Crusoe                 [Daniel Defoe, Daniel Defoe, Daniel De Foe, Daniel Defoe, Daniel Defoe, Daniel Defoe, Daniel Defoe, Daniel Defoe, Defoe, Daniel Defoe, Daniel Defoe, Daniel Defoe, Daniel Defoe]                                                                                                                                                                                                                                                                                                          \n",
       "The Secret                      [Julie Garwood, Kat Martin, Cynthia Victor, Cynthia Victor, Harold Robbins, Harold Robbins, EVA HOFFMAN, Adrian Malone, Adrian and Talley, Steven Malone, Penelope Thomas, Anna Enquist, Eva Hoffman, Carol Beach York]                                                                                                                                                                                                                                                                   \n",
       "\n",
       "                                    \\\n",
       "                               len   \n",
       "Book-Title                           \n",
       "Selected Poems                  27   \n",
       "Little Women                    24   \n",
       "Wuthering Heights               21   \n",
       "The Secret Garden               20   \n",
       "Dracula                         20   \n",
       "Adventures of Huckleberry Finn  20   \n",
       "Jane Eyre                       19   \n",
       "The Night Before Christmas      18   \n",
       "Pride and Prejudice             18   \n",
       "Great Expectations              17   \n",
       "Masquerade                      16   \n",
       "Black Beauty                    16   \n",
       "Frankenstein                    16   \n",
       "The Gift                        15   \n",
       "Beloved                         15   \n",
       "Emma                            15   \n",
       "Nemesis                         14   \n",
       "Journey                         13   \n",
       "Robinson Crusoe                 13   \n",
       "The Secret                      13   \n",
       "\n",
       "                                                                                                                                                                               Year-Of-Publication  \\\n",
       "                                                                                                                                                                                             array   \n",
       "Book-Title                                                                                                                                                                                           \n",
       "Selected Poems                  [1985, 1957, 1993, 1999, 1994, 1970, 1994, 1963, 1962, 2001, 1989, 1993, 1989, 1961, 1992, 1996, 1986, 1991, 1996, 1983, 1999, 1989, 1963, 1986, 1985, 1992, 2001]   \n",
       "Little Women                    [1995, 0, 1994, 1990, 0, 2004, 1983, 1992, 1985, 1999, 1981, 1994, 1988, 1994, 1989, 1970, 1976, 1987, 1986, 2004, 1995, 1983, 1978, 1994]                           \n",
       "Wuthering Heights               [1983, 1983, 1989, 1981, 2003, 1994, 1992, 1992, 1992, 1959, 0, 1999, 1959, 1988, 1986, 1956, 1982, 2000, 1994, 1964, 1959]                                          \n",
       "The Secret Garden               [1989, 1997, 1998, 1993, 1989, 1987, 1987, 1999, 1979, 1991, 1994, 1994, 1998, 1987, 1990, 0, 1993, 0, 1987, 1994]                                                   \n",
       "Dracula                         [1994, 1983, 2004, 1992, 1992, 1992, 2001, 1998, 1979, 1992, 1992, 2001, 1993, 1997, 1993, 1992, 2002, 1995, 1990, 1999]                                             \n",
       "Adventures of Huckleberry Finn  [1992, 1987, 1959, 1959, 1981, 2002, 1987, 1970, 1996, 1997, 1992, 1980, 1962, 1959, 1973, 1978, 2003, 1999, 1965, 1987]                                             \n",
       "Jane Eyre                       [1999, 1988, 1994, 0, 1997, 1981, 1976, 1999, 1991, 1994, 2004, 0, 1988, 0, 1999, 1981, 1978, 2002, 1998]                                                            \n",
       "The Night Before Christmas      [1998, 1994, 1995, 1950, 1995, 1984, 1992, 1988, 2000, 1989, 1992, 1992, 1999, 2001, 2000, 1986, 1996, 1962]                                                         \n",
       "Pride and Prejudice             [1983, 1981, 1988, 1993, 1996, 1961, 1997, 1981, 1987, 1995, 1994, 1980, 1961, 1961, 1961, 0, 1985, 1999]                                                            \n",
       "Great Expectations              [2000, 1998, 1986, 2000, 0, 1998, 1981, 1981, 1970, 1982, 0, 1998, 1981, 1982, 2002, 1970, 1989]                                                                     \n",
       "Masquerade                      [1997, 1991, 1984, 1989, 1982, 1989, 1991, 2001, 1999, 1997, 1990, 1996, 1999, 2004, 1997, 1994]                                                                     \n",
       "Black Beauty                    [1990, 1989, 2002, 2003, 1990, 1986, 2001, 1989, 1994, 1970, 1986, 1995, 1990, 1987, 1975, 1981]                                                                     \n",
       "Frankenstein                    [1965, 1965, 1994, 1983, 1994, 1989, 0, 1999, 1996, 1994, 1984, 1988, 1993, 1982, 2000, 0]                                                                           \n",
       "The Gift                        [1996, 1981, 1991, 1994, 1994, 1990, 1993, 1998, 1997, 1992, 2002, 1998, 1998, 1994, 1994]                                                                           \n",
       "Beloved                         [1998, 1994, 1991, 1995, 0, 1987, 1987, 1983, 1998, 1985, 1996, 1998, 1996, 1993, 1993]                                                                              \n",
       "Emma                            [1994, 1981, 1984, 0, 0, 0, 1997, 1976, 1984, 0, 1996, 1983, 1996, 1996, 1996]                                                                                       \n",
       "Nemesis                         [2004, 1990, 0, 1991, 1989, 1989, 1999, 1971, 1984, 1991, 1994, 1990, 1992, 2000]                                                                                    \n",
       "Journey                         [1994, 2003, 2001, 2000, 2000, 1975, 1990, 1989, 1978, 1989, 0, 1993, 1991]                                                                                          \n",
       "Robinson Crusoe                 [2002, 1981, 1989, 1995, 1998, 0, 1995, 2001, 1996, 1991, 1994, 0, 1998]                                                                                             \n",
       "The Secret                      [1992, 2001, 1998, 1997, 2000, 2001, 2004, 1988, 1984, 1993, 2000, 2002, 1984]                                                                                       \n",
       "\n",
       "                                    \\\n",
       "                               len   \n",
       "Book-Title                           \n",
       "Selected Poems                  27   \n",
       "Little Women                    24   \n",
       "Wuthering Heights               21   \n",
       "The Secret Garden               20   \n",
       "Dracula                         20   \n",
       "Adventures of Huckleberry Finn  20   \n",
       "Jane Eyre                       19   \n",
       "The Night Before Christmas      18   \n",
       "Pride and Prejudice             18   \n",
       "Great Expectations              17   \n",
       "Masquerade                      16   \n",
       "Black Beauty                    16   \n",
       "Frankenstein                    16   \n",
       "The Gift                        15   \n",
       "Beloved                         15   \n",
       "Emma                            15   \n",
       "Nemesis                         14   \n",
       "Journey                         13   \n",
       "Robinson Crusoe                 13   \n",
       "The Secret                      13   \n",
       "\n",
       "                                                                                                                                                                                                                                                                                                                                                                                                                                                                                                                                                                                                          Publisher  \\\n",
       "                                                                                                                                                                                                                                                                                                                                                                                                                                                                                                                                                                                                              array   \n",
       "Book-Title                                                                                                                                                                                                                                                                                                                                                                                                                                                                                                                                                                                                            \n",
       "Selected Poems                  [New Directions Publishing Corporation, New Directions Publishing Corporation, Vintage Books USA, Perennial, Gramercy Books, University of California Press, Liveright Publishing Corporation, Harpercollins, Farrar Straus  Giroux, Vehicule Press, Macmillan, Pantheon Books, Rudolph Steiner Pr, Grove Press, Bloodaxe Books Ltd, Alfred A. Knopf, Bloodaxe Books Ltd, University of California Press, Harvest Books, Houghton Mifflin Company, Perennial, Vintage Books USA, Vintage Books USA, W W Norton  Co Inc, Penguin USA, Phoenix mass market p/bk, Faber and Faber Ltd]   \n",
       "Little Women                    [Brimax Books Ltd, Octopus Publising Group Plc, Scholastic, Yearling Books, Firefly Books Ltd, Signet Classics, Signet Book, Scholastic, Oxford University Press, Sagebrush Bound, Grosset  Dunlap, Tor Books, Alfred A. Knopf, Newmarket Press, Scholastic, Price Stern Sloan Pub (J), Price Stern Sloan Pub (J), Scholastic, Borders Press, Barnes  Noble Books-Imports, Doubleday Books, Bantam, Berkley Pub Group (Mm), Little Brown and Company]                                                                                                                                 \n",
       "Wuthering Heights               [Bantam, Bantam, Tor Classics, Bantam Books, Scholastic Paperbacks, Dorset Press, Scholastic Paperbacks (Mm), Penguin Books Ltd, Barnes  Noble, Signet Book, Octopus Books, Puffin Books, Signet Book, Steck-Vaughn, Running Press Book Publishers, Houghton Mifflin Company, Readers Digest Assn, St. Martin's Press, Time Warner Audio Major, Peter Smith Publisher Inc, Signet Book]                                                                                                                                                                                               \n",
       "The Secret Garden               [Tor Books, Scholastic, HarperTrophy, Scholastic Paperbacks (Mm), Laure Leaf, David R. Godine Publisher, Bantam, Scholastic, Dell Publishing, Tor Books (Mm), Signet Classics, Signet Classics, HarperCollins, Signet Book, Yearling Books, Landoll, Highbridge Audio, Landoll, Scholastic, Hodder Children's Books]                                                                                                                                                                                                                                                                  \n",
       "Dracula                         [Dorset Press, Bantam, Distal, Penguin USA, New Amer Library Classics, Barnes Noble Books, Colleccion Millenium, Saddleback Publishing, Inc., Berkley Pub Group (Mm), Brandon/Mount Eagle, Penguin Highbridge Audio, Scholastic Paperbacks (Mm), Plaza  Janes Editores, S.A., Tor Books, Troll Communications, Penguin Books Ltd, IndyPublish.com, Altaya, Tor Books, Samuel French]                                                                                                                                                                                                  \n",
       "Adventures of Huckleberry Finn  [Globe Fearon, Scholastic, Signet Book, New Amer Library Classics, Price Stern Sloan Pub (J), University of California Press, Scholastic, Grosset  Dunlap, Random House Inc, Ballantine Books, Peter Smith Publisher Inc, Houghton Mifflin Company, Harpercollins Juvenile Books, Signet Book, Soundelux Audio Publishing, Putnam Pub Group, Puffin Books, Audio Partners, Harpercollins Juvenile Books, Harper  Row]                                                                                                                                                                 \n",
       "Jane Eyre                       [New Amer Library Classics, Signet Classics, Dorset Press, Barnes Noble Classics, Juventud, Bantam Books, J m Dent  Sons Ltd, Puffin Books, LGF, Tor Books, Wildside Press, Ullstein-Taschenbuch-Verlag, Zweigniederlassung der Ullstein Buchverlage GmbH, Random House Value Publishing, Universal Sales Marketing, Pocket, Signet Book, Addison-Wesley Pub Co, New Millenium Audio, Ediciones Catedra S.A.]                                                                                                                                                                         \n",
       "The Night Before Christmas      [Love Spell, C.R. Gibson Company, North-South Books, Merrigold Press, Landoll, Ideals Publications, Random House Childrens Books, Golden Books, Derrydale, Little Simon, Price Stern Sloan, HarperCollins Publishers, HarperCollins Publishers, Atheneum/Anne Schwartz Books, Hyperion Books for Children, Golden Books, Leisure Books, Random House Children's Books]                                                                                                                                                                                                                \n",
       "Pride and Prejudice             [Bantam, Bantam, New Amer Library Classics, Barnes Noble Classics, Signet Book, Signet Book, Troll Communications, Bantam Books, Oxford University Press, Penguin Books Ltd, Tor Books, Airmont Pub Co, Signet Book, Signet Book, Signet Book, R.S. Means Company, Addison-Wesley, Max Hueber Verlag]                                                                                                                                                                                                                                                                                 \n",
       "Great Expectations              [Aladdin, Penguin USA (Paper), Signet Classics, Penguin Putnam~trade, Barnes Noble, Tor Books, Penguin Books Ltd, Signet Book, Amsco School Pubns Inc, Bantam, Gage Publishing Ltd, Broadview Press, Signet Book, Bantam, Brilliance Audio, Airmont Pub Co, Grove Press]                                                                                                                                                                                                                                                                                                              \n",
       "Masquerade                      [Berkley Publishing Group, Little, Brown, Schocken Books, Zebra Books, Academy Chicago Publishers, Berkley Pub Group, Fawcett Books, Pinnacle Books (Mm), St. Martin's Paperbacks, Pinnacle Books, Little Brown  Co, Bantam Dell Pub Group, Leisure Books, St. Martin's Paperbacks, Topaz, Pinnacle Books]                                                                                                                                                                                                                                                                            \n",
       "Black Beauty                    [Yearling Books, Scholastic, IndyPublish.com, Scholastic Paperbacks, Pages Publishing Group, Random House Children's Books, Barnes Noble Books, Tor Books, Book Essentials, Random House Childrens Books, Signet Book, Puffin Books, Storytellers Ink, Random House Value Publishing, Worlds Great Classics, Sharon Pubns]                                                                                                                                                                                                                                                            \n",
       "Frankenstein                    [Signet Book, Signet Book, Gramercy Books, Lectorum Pubns (J), Signet Book, Tor Books, Universal Sales Marketing, Puffin Books, Barnes  Noble, Tor Books, Bantam, Portland House, Dorset Press, Bantam Books (Mm), Ediciones B, Presses Pocket French]                                                                                                                                                                                                                                                                                                                                \n",
       "The Gift                        [Dell, Dell Publishing, Pocket, Delacorte Press, Zebra Books, Space  Time, Warner Books, Tor Books, Tor Books, Creative Education (Sd), Dorrance Pub Co, Not Avail, Zebra Books, Random House Audio Publishing Group, Good News Pub]                                                                                                                                                                                                                                                                                                                                                  \n",
       "Beloved                         [Plume Books, Zebra Books, New Amer Library, Ediciones B, Vintage Books, Collectible First Editions, Knopf, Ballantine Books, Random House Audio, Ballantine Books, Warner Vision, Knopf, Dutton Books, Dell Publishing Company, Ediciones B]                                                                                                                                                                                                                                                                                                                                         \n",
       "Emma                            [New Amer Library Classics, Bantam Books, Bantam, Penguin Putnam~trade, Random House, Barnes Noble Books, LGF, J m Dent  Sons Ltd, Bantam, Hunter Publishing+inc, Mandarin, Bantam Books (Mm), Arrow, Hyperion Books, Barnes  Noble Inc.]                                                                                                                                                                                                                                                                                                                                             \n",
       "Nemesis                         [Signet Book, Bantam, Harpercollins Publisher, New Amer Library, Doubleday Books, Bantam Dell Pub Group, Sagebrush Bound, Dodd Mead, Pocket, Time Warner Books UK, Plaza  Janes Editores, S.A., Penguin USA, Harper Mass Market Paperbacks, Planeta]                                                                                                                                                                                                                                                                                                                                  \n",
       "Journey                         [Fawcett Books, Publishamerica, Dell Publishing Company, Delacorte Press, Random House Audio Publishing Group, Knopf : distributed by Random House, Scholastic Paperbacks (Mm), Random House Inc, Warner Books, McClelland  Stewart, Tyndale House Publishers, Yearling, Delacorte Press]                                                                                                                                                                                                                                                                                             \n",
       "Robinson Crusoe                 [Courage Books, Signet Book, Tor Books, Signet Classics, Penguin USA (Paper), Universal Sales Marketing, Scholastic, Aladdin, Distribooks Inc, Ediciones B, Facts on File Inc, Barnes Noble Books(imports, Kidsbooks]                                                                                                                                                                                                                                                                                                                                                                 \n",
       "The Secret                      [Pocket, Zebra Books, Onyx Books, Penguin USA, Forge, Forge, Ballantine Books, Critics Choice Paperbacks/Lorevan Publishing, Houghton Mifflin, Harper Mass Market Paperbacks (Mm), Toby Press, PublicAffairs, Scholastic Paperbacks (Mm)]                                                                                                                                                                                                                                                                                                                                             \n",
       "\n",
       "                                    \n",
       "                               len  \n",
       "Book-Title                          \n",
       "Selected Poems                  27  \n",
       "Little Women                    24  \n",
       "Wuthering Heights               21  \n",
       "The Secret Garden               20  \n",
       "Dracula                         20  \n",
       "Adventures of Huckleberry Finn  20  \n",
       "Jane Eyre                       19  \n",
       "The Night Before Christmas      18  \n",
       "Pride and Prejudice             18  \n",
       "Great Expectations              17  \n",
       "Masquerade                      16  \n",
       "Black Beauty                    16  \n",
       "Frankenstein                    16  \n",
       "The Gift                        15  \n",
       "Beloved                         15  \n",
       "Emma                            15  \n",
       "Nemesis                         14  \n",
       "Journey                         13  \n",
       "Robinson Crusoe                 13  \n",
       "The Secret                      13  "
      ]
     },
     "execution_count": 13,
     "metadata": {},
     "output_type": "execute_result"
    }
   ],
   "source": [
    "books_groupped.sort_values(by=[('ISBN', 'len')], ascending=False).head(20)"
   ]
  },
  {
   "cell_type": "markdown",
   "metadata": {},
   "source": [
    "Очевидно есть повторения.\n",
    "\n",
    "Заметно, что по некоторым публикациям не указан год издания, также по некоторым книгам имена авторов по-разному указаны.\n",
    "\n",
    "В остальном это разные издания одних и тех же работ, напечатанных в разные (не все) годы разными издательствами.\n",
    "\n",
    "Пока не совсем понятно, что делать с этой информацией.\n",
    "\n",
    "Попробуем глянуть, какие есть оценки для разных изданий какого-нибудь произведения:"
   ]
  },
  {
   "cell_type": "code",
   "execution_count": 14,
   "metadata": {},
   "outputs": [
    {
     "name": "stderr",
     "output_type": "stream",
     "text": [
      "C:\\Users\\Efim_Golovin\\AppData\\Local\\Continuum\\anaconda3\\lib\\site-packages\\ipykernel_launcher.py:1: UserWarning: Boolean Series key will be reindexed to match DataFrame index.\n",
      "  \"\"\"Entry point for launching an IPython kernel.\n"
     ]
    },
    {
     "data": {
      "text/plain": [
       "38"
      ]
     },
     "execution_count": 14,
     "metadata": {},
     "output_type": "execute_result"
    }
   ],
   "source": [
    "ratings[ratings.ISBN.isin(books_groupped.loc['Jane Eyre', ('ISBN', 'array')])][ratings['Book-Rating'] > 0]['User-ID'].nunique()"
   ]
  },
  {
   "cell_type": "markdown",
   "metadata": {},
   "source": [
    "Итак, в частности для произведения **\"Джейн Эйр\"** присутствует довольно большое количество оценок от разных пользователей (для разных ISBN).\n",
    "\n",
    "Собственно, логично предположить, что, оценивая книгу, читатель оценивает далеко не только само произведение, но еще и обложку, шрифт, цвет, качество бумаги (если это печатное издание).\n",
    "\n",
    "Существуют, наверное и другие факторы, не имеющие отношения к самому произведению, однако здесь это особо не проверить, поскольку данных на эту тему нет."
   ]
  },
  {
   "cell_type": "code",
   "execution_count": 15,
   "metadata": {
    "scrolled": false
   },
   "outputs": [
    {
     "name": "stdout",
     "output_type": "stream",
     "text": [
      "<class 'pandas.core.frame.DataFrame'>\n",
      "RangeIndex: 271379 entries, 0 to 271378\n",
      "Data columns (total 5 columns):\n",
      "ISBN                   271379 non-null object\n",
      "Book-Title             271379 non-null object\n",
      "Book-Author            271378 non-null object\n",
      "Year-Of-Publication    271379 non-null object\n",
      "Publisher              271377 non-null object\n",
      "dtypes: object(5)\n",
      "memory usage: 10.4+ MB\n"
     ]
    }
   ],
   "source": [
    "books.info()"
   ]
  },
  {
   "cell_type": "code",
   "execution_count": 16,
   "metadata": {
    "scrolled": true
   },
   "outputs": [
    {
     "data": {
      "text/html": [
       "<div>\n",
       "<style scoped>\n",
       "    .dataframe tbody tr th:only-of-type {\n",
       "        vertical-align: middle;\n",
       "    }\n",
       "\n",
       "    .dataframe tbody tr th {\n",
       "        vertical-align: top;\n",
       "    }\n",
       "\n",
       "    .dataframe thead th {\n",
       "        text-align: right;\n",
       "    }\n",
       "</style>\n",
       "<table border=\"1\" class=\"dataframe\">\n",
       "  <thead>\n",
       "    <tr style=\"text-align: right;\">\n",
       "      <th></th>\n",
       "      <th>User-ID</th>\n",
       "      <th>Location</th>\n",
       "      <th>Age</th>\n",
       "    </tr>\n",
       "  </thead>\n",
       "  <tbody>\n",
       "    <tr>\n",
       "      <th>0</th>\n",
       "      <td>1</td>\n",
       "      <td>nyc, new york, usa</td>\n",
       "      <td>NaN</td>\n",
       "    </tr>\n",
       "    <tr>\n",
       "      <th>1</th>\n",
       "      <td>2</td>\n",
       "      <td>stockton, california, usa</td>\n",
       "      <td>18.0</td>\n",
       "    </tr>\n",
       "    <tr>\n",
       "      <th>2</th>\n",
       "      <td>3</td>\n",
       "      <td>moscow, yukon territory, russia</td>\n",
       "      <td>NaN</td>\n",
       "    </tr>\n",
       "    <tr>\n",
       "      <th>3</th>\n",
       "      <td>4</td>\n",
       "      <td>porto, v.n.gaia, portugal</td>\n",
       "      <td>17.0</td>\n",
       "    </tr>\n",
       "    <tr>\n",
       "      <th>4</th>\n",
       "      <td>5</td>\n",
       "      <td>farnborough, hants, united kingdom</td>\n",
       "      <td>NaN</td>\n",
       "    </tr>\n",
       "  </tbody>\n",
       "</table>\n",
       "</div>"
      ],
      "text/plain": [
       "   User-ID                            Location   Age\n",
       "0  1        nyc, new york, usa                 NaN  \n",
       "1  2        stockton, california, usa           18.0\n",
       "2  3        moscow, yukon territory, russia    NaN  \n",
       "3  4        porto, v.n.gaia, portugal           17.0\n",
       "4  5        farnborough, hants, united kingdom NaN  "
      ]
     },
     "execution_count": 16,
     "metadata": {},
     "output_type": "execute_result"
    }
   ],
   "source": [
    "users.head()"
   ]
  },
  {
   "cell_type": "code",
   "execution_count": 17,
   "metadata": {},
   "outputs": [
    {
     "name": "stdout",
     "output_type": "stream",
     "text": [
      "<class 'pandas.core.frame.DataFrame'>\n",
      "RangeIndex: 278858 entries, 0 to 278857\n",
      "Data columns (total 3 columns):\n",
      "User-ID     278858 non-null int64\n",
      "Location    278858 non-null object\n",
      "Age         168096 non-null float64\n",
      "dtypes: float64(1), int64(1), object(1)\n",
      "memory usage: 6.4+ MB\n"
     ]
    }
   ],
   "source": [
    "users.info()"
   ]
  },
  {
   "cell_type": "markdown",
   "metadata": {},
   "source": [
    "Итак, у нас есть 271379 книг и 278858 пользователей, по книгам известны их:\n",
    "- ISBN;\n",
    "- название;\n",
    "- автор;\n",
    "- год выпуска;\n",
    "- издательство.\n",
    "\n",
    "По пользователям (не по всем) известно их:\n",
    "- местоположение;\n",
    "- возраст.\n",
    "\n",
    "Надо глянуть какой процент пользователей указали возраст:"
   ]
  },
  {
   "cell_type": "code",
   "execution_count": null,
   "metadata": {},
   "outputs": [],
   "source": [
    "100 * len(users[~users.Age.isnull()]) / len(users)"
   ]
  },
  {
   "cell_type": "markdown",
   "metadata": {},
   "source": [
    "Ок, ~60% пользователей не стесняются, чего не скажешь об остальных.\n",
    "\n",
    "Глянем, как читатели распределены по возрасту:"
   ]
  },
  {
   "cell_type": "code",
   "execution_count": null,
   "metadata": {},
   "outputs": [],
   "source": [
    "plt.figure(figsize=(35, 15))\n",
    "n, bins, _ = plt.hist(users[~users.Age.isnull()].Age, bins=20)\n",
    "plt.xticks(list(map(int, bins)))\n",
    "plt.show()"
   ]
  },
  {
   "cell_type": "markdown",
   "metadata": {},
   "source": [
    "Что же, очевидно, есть некоторая часть пользователей с возрастом, указанным не вполне адекватно:"
   ]
  },
  {
   "cell_type": "code",
   "execution_count": null,
   "metadata": {},
   "outputs": [],
   "source": [
    "users[~users.Age.isnull()].Age.min()"
   ]
  },
  {
   "cell_type": "code",
   "execution_count": null,
   "metadata": {},
   "outputs": [],
   "source": [
    "users[~users.Age.isnull()].Age.max()"
   ]
  },
  {
   "cell_type": "markdown",
   "metadata": {},
   "source": [
    "Вряд ли кто-то в возрасте 0 или 244 лет что-то покупал из книг."
   ]
  },
  {
   "cell_type": "markdown",
   "metadata": {},
   "source": [
    "Заметим, что поле Location состоит из трех пунктов: город, регион, страна.\n",
    "\n",
    "Надо бы разделить это поле на три, чтобы глянуть, как пользователи по миру раскиданы.\n",
    "\n",
    "Перед этим надо глянуть, можно ли вообще легко это разделение сделать:"
   ]
  },
  {
   "cell_type": "code",
   "execution_count": null,
   "metadata": {
    "collapsed": true
   },
   "outputs": [],
   "source": [
    "locations = users.Location.values\n",
    "locations = np.array([loc.split(', ') for loc in locations])"
   ]
  },
  {
   "cell_type": "code",
   "execution_count": null,
   "metadata": {
    "collapsed": true
   },
   "outputs": [],
   "source": [
    "incorrect_items_more = [ind for ind, item in enumerate(locations) if len(item) > 3]\n",
    "incorrect_items_less = [ind for ind, item in enumerate(locations) if len(item) < 3]"
   ]
  },
  {
   "cell_type": "code",
   "execution_count": null,
   "metadata": {},
   "outputs": [],
   "source": [
    "print(100 * (len(incorrect_items_more) + len(incorrect_items_less)) / len(locations))"
   ]
  },
  {
   "cell_type": "markdown",
   "metadata": {},
   "source": [
    "~2% людей с коряво указанными данными по местоположению.\n",
    "\n",
    "Надо глянуть, сколько из них оценили какие-нибудь книги:"
   ]
  },
  {
   "cell_type": "code",
   "execution_count": null,
   "metadata": {
    "collapsed": true
   },
   "outputs": [],
   "source": [
    "users_with_their_ratings_l = pd.merge(users[users.index.isin(incorrect_items_less)], ratings, how='inner', on='User-ID')"
   ]
  },
  {
   "cell_type": "code",
   "execution_count": null,
   "metadata": {},
   "outputs": [],
   "source": [
    "plt.figure(figsize=(16, 16))\n",
    "users_with_their_ratings_l['Book-Rating'].value_counts().plot.pie(autopct='%.2f')\n",
    "plt.show()"
   ]
  },
  {
   "cell_type": "code",
   "execution_count": null,
   "metadata": {
    "collapsed": true
   },
   "outputs": [],
   "source": [
    "users_with_their_ratings_m = pd.merge(users[users.index.isin(incorrect_items_more)], ratings, how='inner', on='User-ID')"
   ]
  },
  {
   "cell_type": "code",
   "execution_count": null,
   "metadata": {},
   "outputs": [],
   "source": [
    "plt.figure(figsize=(8, 8))\n",
    "users_with_their_ratings_m['Book-Rating'].value_counts().plot.pie(autopct='%.2f')\n",
    "plt.show()"
   ]
  },
  {
   "cell_type": "markdown",
   "metadata": {},
   "source": [
    "Здесь графики приводятся в разных масштабах, чтобы не ввести в заблуждение по поводу объема выборок пользователей с коряво указанными локациями:"
   ]
  },
  {
   "cell_type": "code",
   "execution_count": null,
   "metadata": {},
   "outputs": [],
   "source": [
    "print(len(incorrect_items_more), len(incorrect_items_less))"
   ]
  },
  {
   "cell_type": "markdown",
   "metadata": {},
   "source": [
    "Надо бы еще глянуть, как много ISBN, указанных в таблице BX-Book-Ratings, отсутствуют в таблице BX-Books.\n",
    "\n",
    "То же самое по поводу пользователей:"
   ]
  },
  {
   "cell_type": "code",
   "execution_count": null,
   "metadata": {},
   "outputs": [],
   "source": [
    "ratings[~ratings.ISBN.isin(books.ISBN)].ISBN.nunique()"
   ]
  },
  {
   "cell_type": "markdown",
   "metadata": {},
   "source": [
    "Получается, что в списке книг есть такие, о которых, вообще говоря, ничего не известно.\n",
    "\n",
    "Надо глянуть, по скольким таким книгам есть оценки:"
   ]
  },
  {
   "cell_type": "code",
   "execution_count": null,
   "metadata": {},
   "outputs": [],
   "source": [
    "non_zero_ratings = ratings[ratings['Book-Rating'] > 0]\n",
    "non_zero_ratings[~non_zero_ratings.ISBN.isin(books.ISBN)].ISBN.nunique()"
   ]
  },
  {
   "cell_type": "markdown",
   "metadata": {},
   "source": [
    "Что же, у нас есть оценки пользователей по книгам, о которых мы ничего не знаем.\n",
    "\n",
    "Глянем, как это количество соотносится с общим количеством оцененных пользователями книг:"
   ]
  },
  {
   "cell_type": "code",
   "execution_count": null,
   "metadata": {},
   "outputs": [],
   "source": [
    "100 * non_zero_ratings[~non_zero_ratings.ISBN.isin(books.ISBN)].ISBN.nunique() / non_zero_ratings.ISBN.nunique()"
   ]
  },
  {
   "cell_type": "markdown",
   "metadata": {},
   "source": [
    "С одной стороны 19% - это довольно много, с другой - это 19% оценок книг, о которых ничего неизвестно.\n",
    "\n",
    "Это просто какие-то номера, по которым нельзя будет, скажем построить какой-нибудь Item-based алгоритм, после применения Collaborative filtering нельзя будет сказать, каким именно книгам были восстановлены оценки, нельзя будет сделать никаких выводов по этому поводу.\n",
    "\n",
    "Собственно поэтому логичнее эти оценки пока не рассматривать."
   ]
  },
  {
   "cell_type": "code",
   "execution_count": null,
   "metadata": {
    "collapsed": true
   },
   "outputs": [],
   "source": [
    "non_zero_ratings = non_zero_ratings[non_zero_ratings.ISBN.isin(books.ISBN)]"
   ]
  },
  {
   "cell_type": "code",
   "execution_count": null,
   "metadata": {},
   "outputs": [],
   "source": [
    "non_zero_ratings.ISBN.nunique()"
   ]
  },
  {
   "cell_type": "code",
   "execution_count": null,
   "metadata": {},
   "outputs": [],
   "source": [
    "non_zero_ratings[~non_zero_ratings['User-ID'].isin(users['User-ID'])]['User-ID'].nunique()"
   ]
  },
  {
   "cell_type": "markdown",
   "metadata": {},
   "source": [
    "Итак, нет ни одного ID для которого бы в таблице users не было бы записи.\n",
    "\n",
    "Хорошо, теперь надо еще ответить на обратные вопросы: есть ли такие пользователи, которые не дали оценки ни одной книге и есть ли такие книги, которые не были оценены ни одним пользователем:"
   ]
  },
  {
   "cell_type": "code",
   "execution_count": null,
   "metadata": {},
   "outputs": [],
   "source": [
    "100 * users[~users['User-ID'].isin(non_zero_ratings['User-ID'])]['User-ID'].nunique() / users['User-ID'].nunique()"
   ]
  },
  {
   "cell_type": "code",
   "execution_count": null,
   "metadata": {},
   "outputs": [],
   "source": [
    "100 * books[~books.ISBN.isin(non_zero_ratings.ISBN)].ISBN.nunique() / books.ISBN.nunique()"
   ]
  },
  {
   "cell_type": "markdown",
   "metadata": {},
   "source": [
    "Получается, у нас есть ~75.6% пользователей, никак ни одной книги не оценивших и ~44.8% книг, никах никем не оценённых."
   ]
  },
  {
   "cell_type": "markdown",
   "metadata": {},
   "source": [
    "# К вопросу о правильном Evaluation"
   ]
  },
  {
   "cell_type": "markdown",
   "metadata": {},
   "source": [
    "Здесь общая идея следующая:\n",
    "- сформировать выборку троек (пользователь, книга, оценка), желательно, чтобы эта выборка покрыла как можно больше книг;\n",
    "- извлечь эти тройки из основного набора данных (оценок) и далее считать, что для выбранных пользователей и книг оценки неизвестны и должны быть восстановлены;\n",
    "- собственно, применить один из алгоритмов восстановления оценок;\n",
    "- пользуясь выбраннной метрикой (RMSE или NDCG) оценить качество восстановления пользовательских оценок."
   ]
  },
  {
   "cell_type": "markdown",
   "metadata": {},
   "source": [
    "# Сколько читателей поставили оценки и какое количество книг было оценено"
   ]
  },
  {
   "cell_type": "markdown",
   "metadata": {},
   "source": [
    "Ок, теперь надо глянуть, какие пользователи сколько раз поставили оценки и какие книги сколько раз были оценены.\n",
    "\n",
    "Это необходимо для того, чтобы понять как разделять датасет на трейн и тест.\n",
    "\n",
    "Также нужно понять какую часть пользователей и книг нужно отсеять (пользователи, оценившие слишком мало книг из всего множества, книги, оцененные слишком мало пользователями)."
   ]
  },
  {
   "cell_type": "code",
   "execution_count": null,
   "metadata": {},
   "outputs": [],
   "source": [
    "non_zero_ratings_groupped_by_user = non_zero_ratings.groupby('User-ID').agg(len)"
   ]
  },
  {
   "cell_type": "code",
   "execution_count": null,
   "metadata": {},
   "outputs": [],
   "source": [
    "non_zero_ratings_groupped_by_user.sort_values(by=['ISBN'], ascending=False).head(10)"
   ]
  },
  {
   "cell_type": "code",
   "execution_count": null,
   "metadata": {},
   "outputs": [],
   "source": [
    "len(non_zero_ratings_groupped_by_user[non_zero_ratings_groupped_by_user.ISBN > 10])"
   ]
  },
  {
   "cell_type": "code",
   "execution_count": null,
   "metadata": {},
   "outputs": [],
   "source": [
    "non_zero_ratings_groupped_by_user[non_zero_ratings_groupped_by_user.ISBN > 10].index.values"
   ]
  },
  {
   "cell_type": "code",
   "execution_count": null,
   "metadata": {},
   "outputs": [],
   "source": [
    "non_zero_ratings[non_zero_ratings['User-ID'] == 278633].index.values"
   ]
  },
  {
   "cell_type": "code",
   "execution_count": null,
   "metadata": {},
   "outputs": [],
   "source": [
    "len(non_zero_ratings_groupped_by_user)"
   ]
  },
  {
   "cell_type": "code",
   "execution_count": null,
   "metadata": {},
   "outputs": [],
   "source": [
    "non_zero_ratings_groupped_by_isbn = non_zero_ratings.groupby('ISBN').agg(len)"
   ]
  },
  {
   "cell_type": "code",
   "execution_count": null,
   "metadata": {},
   "outputs": [],
   "source": [
    "non_zero_ratings_groupped_by_isbn.sort_values(by=['User-ID'], ascending=False).head(10)"
   ]
  },
  {
   "cell_type": "code",
   "execution_count": null,
   "metadata": {},
   "outputs": [],
   "source": [
    "len(non_zero_ratings_groupped_by_isbn[non_zero_ratings_groupped_by_isbn['User-ID'] > 10])"
   ]
  },
  {
   "cell_type": "code",
   "execution_count": null,
   "metadata": {},
   "outputs": [],
   "source": [
    "len(non_zero_ratings_groupped_by_isbn)"
   ]
  },
  {
   "cell_type": "markdown",
   "metadata": {},
   "source": [
    "# Итог"
   ]
  },
  {
   "cell_type": "markdown",
   "metadata": {},
   "source": [
    "Итого на данный момент можно сделать несколько выводов по данным, а именно:\n",
    "- среди книг присутствует большое количество повторений (одни и те же произведения, но от разных издательств, разных годов издания, одинаково названные, но вообще говоря, разные произведения и т.д.)\n",
    "- ~ у 40% пользователей не указан возраст;\n",
    "- некоторая часть пользователей указала возраст неправильно (значения типа 0 и 244);\n",
    "- за исключением ~2% пользователей местоположение можно разделить на город, регион и страну;\n",
    "- среди этих 2% бОльшая часть пользоваталей не поставила оценок ни одной книге;\n",
    "- ~19% оценок относятся к книгам, о которых ничего неизвестно (их нельзя найти по ISBN в таблице BX-Books.csv);\n",
    "- ~75.6% пользователей либо только заходили на страницу с книгой, но не поставили оценку, либо вообще ничего не делали;\n",
    "- ~44.8% книг либо были только просмотрены, но не оценены, либо вообще никак не были задействованы"
   ]
  }
 ],
 "metadata": {
  "kernelspec": {
   "display_name": "Python 3",
   "language": "python",
   "name": "python3"
  },
  "language_info": {
   "codemirror_mode": {
    "name": "ipython",
    "version": 3
   },
   "file_extension": ".py",
   "mimetype": "text/x-python",
   "name": "python",
   "nbconvert_exporter": "python",
   "pygments_lexer": "ipython3",
   "version": "3.6.3"
  }
 },
 "nbformat": 4,
 "nbformat_minor": 2
}
